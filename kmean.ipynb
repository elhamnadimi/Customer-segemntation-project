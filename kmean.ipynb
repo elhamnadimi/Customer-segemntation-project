{
  "nbformat": 4,
  "nbformat_minor": 0,
  "metadata": {
    "colab": {
      "name": "kmean.ipynb",
      "provenance": []
    },
    "kernelspec": {
      "name": "python3",
      "display_name": "Python 3"
    },
    "language_info": {
      "name": "python"
    }
  },
  "cells": [
    {
      "cell_type": "code",
      "metadata": {
        "colab": {
          "base_uri": "https://localhost:8080/"
        },
        "id": "LQH_MYcsqtd9",
        "outputId": "9173aea0-bddf-4b3e-e69e-fd5deeb0ff4f"
      },
      "source": [
        "!pip install ijson"
      ],
      "execution_count": 1,
      "outputs": [
        {
          "output_type": "stream",
          "text": [
            "Collecting ijson\n",
            "\u001b[?25l  Downloading https://files.pythonhosted.org/packages/b3/0c/e3b7bf52e23345d5f9a6a3ff6de0cad419c96491893ab60cbbe9161644a8/ijson-3.1.4-cp37-cp37m-manylinux2010_x86_64.whl (126kB)\n",
            "\r\u001b[K     |██▋                             | 10kB 5.8MB/s eta 0:00:01\r\u001b[K     |█████▏                          | 20kB 9.0MB/s eta 0:00:01\r\u001b[K     |███████▉                        | 30kB 7.5MB/s eta 0:00:01\r\u001b[K     |██████████▍                     | 40kB 6.9MB/s eta 0:00:01\r\u001b[K     |█████████████                   | 51kB 4.1MB/s eta 0:00:01\r\u001b[K     |███████████████▋                | 61kB 4.4MB/s eta 0:00:01\r\u001b[K     |██████████████████▏             | 71kB 4.6MB/s eta 0:00:01\r\u001b[K     |████████████████████▊           | 81kB 4.9MB/s eta 0:00:01\r\u001b[K     |███████████████████████▍        | 92kB 5.2MB/s eta 0:00:01\r\u001b[K     |██████████████████████████      | 102kB 5.3MB/s eta 0:00:01\r\u001b[K     |████████████████████████████▌   | 112kB 5.3MB/s eta 0:00:01\r\u001b[K     |███████████████████████████████▏| 122kB 5.3MB/s eta 0:00:01\r\u001b[K     |████████████████████████████████| 133kB 5.3MB/s \n",
            "\u001b[?25hInstalling collected packages: ijson\n",
            "Successfully installed ijson-3.1.4\n"
          ],
          "name": "stdout"
        }
      ]
    },
    {
      "cell_type": "code",
      "metadata": {
        "id": "Zq1g2CJAqpGF"
      },
      "source": [
        "import numpy as np\n",
        "import pandas as pd\n",
        "import ijson\n",
        "from pandas.io.json import json_normalize\n",
        "import seaborn as sns\n",
        "from statistics import *\n",
        "from statistics import stdev\n",
        "import pandas as pd\n",
        "import numpy as np\n",
        "import matplotlib.pyplot as plt\n",
        "import pandas as pd # working with data\n",
        "import numpy as np # working with arrays\n",
        "import matplotlib.pyplot as plt # visualization\n",
        "import seaborn as sb # visualization\n",
        "from mpl_toolkits.mplot3d import Axes3D # 3d plot\n",
        "from termcolor import colored as cl # text customization\n",
        "from sklearn.preprocessing import StandardScaler # data normalization\n",
        "from sklearn.cluster import KMeans # K-means algorithm\n",
        "plt.rcParams['figure.figsize'] = (20, 10)\n",
        "sb.set_style('whitegrid')\n"
      ],
      "execution_count": 238,
      "outputs": []
    },
    {
      "cell_type": "code",
      "metadata": {
        "colab": {
          "base_uri": "https://localhost:8080/",
          "height": 1000
        },
        "id": "rAb33U-aqpIf",
        "outputId": "89c31432-14ff-4a99-ef19-708a6cf40a3e"
      },
      "source": [
        " # read in data\n",
        "import pandas as pd\n",
        "df = pd.read_json(\"test.jsonl\",\n",
        "                        lines=True,\n",
        "                        orient='columns')\n",
        "print(df.shape)\n",
        "\n",
        "df = df[df['agent_category'] != 'UNKNOWN']\n",
        "df = df[df['agent_os'] != 'UNKNOWN']\n",
        "df = df[df['referer'] != 'UNKNOWN']\n",
        "df = df[df['agent_name'] != 'UNKNOWN']\n",
        "\n",
        "\n",
        "df[:4]\n"
      ],
      "execution_count": 239,
      "outputs": [
        {
          "output_type": "stream",
          "text": [
            "(3857, 21)\n"
          ],
          "name": "stdout"
        },
        {
          "output_type": "execute_result",
          "data": {
            "text/html": [
              "<div>\n",
              "<style scoped>\n",
              "    .dataframe tbody tr th:only-of-type {\n",
              "        vertical-align: middle;\n",
              "    }\n",
              "\n",
              "    .dataframe tbody tr th {\n",
              "        vertical-align: top;\n",
              "    }\n",
              "\n",
              "    .dataframe thead th {\n",
              "        text-align: right;\n",
              "    }\n",
              "</style>\n",
              "<table border=\"1\" class=\"dataframe\">\n",
              "  <thead>\n",
              "    <tr style=\"text-align: right;\">\n",
              "      <th></th>\n",
              "      <th>remote</th>\n",
              "      <th>host</th>\n",
              "      <th>user</th>\n",
              "      <th>method</th>\n",
              "      <th>code</th>\n",
              "      <th>size</th>\n",
              "      <th>referer</th>\n",
              "      <th>http_x_forwarded_for</th>\n",
              "      <th>ua</th>\n",
              "      <th>created</th>\n",
              "      <th>agent_name</th>\n",
              "      <th>agent_category</th>\n",
              "      <th>agent_os</th>\n",
              "      <th>referer_known</th>\n",
              "      <th>uri</th>\n",
              "      <th>hostname</th>\n",
              "      <th>uri_url_hash</th>\n",
              "      <th>injected</th>\n",
              "      <th>enrich</th>\n",
              "      <th>event_tag</th>\n",
              "      <th>time</th>\n",
              "    </tr>\n",
              "  </thead>\n",
              "  <tbody>\n",
              "    <tr>\n",
              "      <th>0</th>\n",
              "      <td>62.308.59.153</td>\n",
              "      <td>-</td>\n",
              "      <td>-</td>\n",
              "      <td>GET</td>\n",
              "      <td>200</td>\n",
              "      <td>43</td>\n",
              "      <td>https://www.ecodibergamo.it/</td>\n",
              "      <td>155.380.27.200</td>\n",
              "      <td>{'browser': {'family': 'Chrome', 'version': '78.0.3904.87', 'major_version': 78}, 'os': {'family': 'Windows', 'version': '10', 'major_version': 10}, 'device': 'Other'}</td>\n",
              "      <td>2019-11-08T00:00:00.000000000Z</td>\n",
              "      <td>Chrome</td>\n",
              "      <td>pc</td>\n",
              "      <td>Windows 10</td>\n",
              "      <td>False</td>\n",
              "      <td>{'stm': '1573171199218', 'e': 'pv', 'url': 'https://www.ecodibergamo.it/', 'page': 'L'Eco di Bergamo - Notizie di Bergamo e provincia', 'refr': 'https://www.ecodibergamo.it/', 'tv': 'js-2.11.0', 'tna': 'cf', 'aid': 'SB-de77ae02-a351-11e7-879c-28cfe91d3e21', 'p': 'web', 'tz': 'Europe/Berlin', 'lang': 'it-IT', 'cs': 'UTF-8', 'f_pdf': '1', 'f_qt': '0', 'f_realp': '0', 'f_wma': '0', 'f_dir': '0', 'f_fla': '0', 'f_java': '0', 'f_gears': '0', 'f_ag': '0', 'res': '1280x720', 'cd': '24', 'cookie': '1', 'eid': 'fee489a9-c110-42b8-b997-ab50ddb1e912', 'dtm': '1573171199215', 'vp': '1280x616', 'ds': '1263x6725', 'vid': '2', 'sid': 'a3b7e1b0-6192-46ee-8f6b-e258fc2811ab', 'duid': '0c2841a0-ea61-445e-973e-607ea1123333', 'fp': '4272995877'}</td>\n",
              "      <td>7c6c8781197c</td>\n",
              "      <td>7e452fb177e15e229756b1fff4a6f5bc</td>\n",
              "      <td>{'user': {'id': 'NDc5MjkwNTAwMDBwMG95aGRmMDlzbXN2aW10eWdtM3p0ZjBrMHl0ZTZycg==_test', 'profile': {'type': 'anonymous'}}}</td>\n",
              "      <td>{}</td>\n",
              "      <td>53248f1721ee</td>\n",
              "      <td>2019-11-08T00:00:00Z</td>\n",
              "    </tr>\n",
              "    <tr>\n",
              "      <th>1</th>\n",
              "      <td>356.6.121.291</td>\n",
              "      <td>-</td>\n",
              "      <td>-</td>\n",
              "      <td>GET</td>\n",
              "      <td>200</td>\n",
              "      <td>43</td>\n",
              "      <td>https://www.ecodibergamo.it/</td>\n",
              "      <td>224.80.19.283</td>\n",
              "      <td>{'browser': {'family': 'Firefox', 'version': '70.0', 'major_version': 70}, 'os': {'family': 'Windows', 'version': '10', 'major_version': 10}, 'device': 'Other'}</td>\n",
              "      <td>2019-11-08T00:00:02.000000000Z</td>\n",
              "      <td>Firefox</td>\n",
              "      <td>pc</td>\n",
              "      <td>Windows 10</td>\n",
              "      <td>False</td>\n",
              "      <td>{'stm': '1573171202942', 'e': 'pv', 'url': 'https://www.ecodibergamo.it/', 'page': 'L'Eco di Bergamo - Notizie di Bergamo e provincia', 'tv': 'js-2.11.0', 'tna': 'cf', 'aid': 'SB-de77ae02-a351-11e7-879c-28cfe91d3e21', 'p': 'web', 'tz': 'Europe/Berlin', 'lang': 'it-IT', 'cs': 'UTF-8', 'f_pdf': '0', 'f_qt': '0', 'f_realp': '0', 'f_wma': '0', 'f_dir': '0', 'f_fla': '1', 'f_java': '0', 'f_gears': '0', 'f_ag': '0', 'res': '1680x1050', 'cd': '24', 'cookie': '1', 'eid': '52273f46-75ac-45d6-ad2b-26e8769ed3bf', 'dtm': '1573171202940', 'vp': '1680x908', 'ds': '1663x6737', 'vid': '1', 'sid': 'f35632aa-982f-4342-a86f-736d56b20797', 'duid': 'e7067c56-383b-4559-840f-70c193d3adf8', 'fp': '3175553694'}</td>\n",
              "      <td>7c6c8781197c</td>\n",
              "      <td>7e452fb177e15e229756b1fff4a6f5bc</td>\n",
              "      <td>{'user': {'id': 'MjM2NzkxNjI4MTB0d2l6MWk1MXA1Mng4cXVvMm9ybHFjcXNtbGVya3VnNw==_test', 'profile': {'type': 'anonymous'}}}</td>\n",
              "      <td>{}</td>\n",
              "      <td>53248f1721ee</td>\n",
              "      <td>2019-11-08T00:00:02Z</td>\n",
              "    </tr>\n",
              "    <tr>\n",
              "      <th>2</th>\n",
              "      <td>130.216.19.309</td>\n",
              "      <td>-</td>\n",
              "      <td>-</td>\n",
              "      <td>GET</td>\n",
              "      <td>200</td>\n",
              "      <td>43</td>\n",
              "      <td>https://www.ecodibergamo.it/stories/bergamo-citta/bergamo-nellolimpo-della-guida-rossada-vittorio-al-top-new-entry-impronte_1327138_11/</td>\n",
              "      <td>373.198.78.13</td>\n",
              "      <td>{'browser': {'family': 'Chrome', 'version': '77.0.3865.116', 'major_version': 77}, 'os': {'family': 'Android', 'version': '4.4.4', 'major_version': 4}, 'device': 'Generic Smartphone'}</td>\n",
              "      <td>2019-11-08T00:00:02.000000000Z</td>\n",
              "      <td>Chrome</td>\n",
              "      <td>smartphone</td>\n",
              "      <td>Android</td>\n",
              "      <td>False</td>\n",
              "      <td>{'stm': '1573171290396', 'e': 'pv', 'url': 'https://www.ecodibergamo.it/stories/bergamo-citta/bergamo-nellolimpo-della-guida-rossada-vittorio-al-top-new-entry-impronte_1327138_11/', 'page': 'Bergamo nell’Olimpo della Guida Rossa «Vittorio» al top, new entry «Impronte» - Bergamo città Bergamo', 'refr': 'android-app://com.google.android.googlequicksearchbox/https/www.google.com', 'tv': 'js-2.11.0', 'tna': 'cf', 'aid': 'SB-de77ae02-a351-11e7-879c-28cfe91d3e21', 'p': 'web', 'tz': 'Europe/Berlin', 'lang': 'it', 'cs': 'UTF-8', 'res': '800x1280', 'cd': '24', 'cookie': '1', 'eid': 'fc855c89-daf3-4c54-b0bf-06d7f41df16d', 'dtm': '1573171290376', 'vp': '800x1191', 'ds': '800x6819', 'vid': '1', 'sid': '473338c8-c941-48e2-8483-ec46e06e2728', 'duid': 'b2937acc-a384-4909-90b8-b5b4ce061e52', 'fp': '1935601176'}</td>\n",
              "      <td>7c6c8781197c</td>\n",
              "      <td>3555294575be3f0cf6e0e2b50e5be1e5</td>\n",
              "      <td>{'user': {'id': 'NDkyMTgwMzk1MDh2c29vdzNpOW1xd2l4aWx6YmhramY0Z3l5eDdoOGJsYQ==_test', 'profile': {'type': 'anonymous'}}}</td>\n",
              "      <td>{'content_words_count': 602, 'description': '\n",
              "            Tre stelle per i fratelli Cerea nella Guida Michelin Italia. Molte conferme per la nostra città. Una stella al ristorante di via Baioni.\n",
              "        ', 'providers': {'bitly': None}, 'ai': {'classification': {'source': 'html.content', 'predictions': [{'probability': 0.14299587905406902, 'label': 'Entertainment'}, {'probability': 0.10872979462146701, 'label': 'Leisure'}, {'probability': 0.10552781075239101, 'label': 'Culture'}, {'probability': 0.09535752236843101, 'label': 'People'}, {'probability': 0.081539817154407, 'label': 'Religion'}]}, 'classification_standard': {'source': 'html.content', 'predictions': [{'probability': 0.14299587905406902, 'label': 'Spettacolo'}, {'probability': 0.10872979462146701, 'label': 'Tempo Libero'}, {'probability': 0.10552781075239101, 'label': 'Arte E Cultura'}]}}, 'image': {'monochromatic': 0, 'name': 'image', 'field': 'url', 'url': 'https://lightstorage.ecodibergamo.it/mediaon/cms.quotidiani/storage/site_media/media/photologue/2019/10/29/photos/cache/bergamo-nellolimpo-della-guida-rossada-vittorio-al-top-new-entry-impro_06ac527c-008d-11ea-88e7-b0ccc82102e5_512_512_new_square_large.jpg', 'height': '397', 'width': '998', 'version': '2', 'type': 'image/jpeg', 'id': '3555294575be3f0cf6e0e2b50e5be1e5'}, 'title': 'Bergamo nell’Olimpo della Guida Rossa «Da Vittorio» al top, new entry «Impronte»', '_tags': [], 'keywords': ['\n",
              "\n",
              "\n",
              "\n",
              "\n",
              "\n",
              "\n",
              "\n",
              "\n",
              "\n",
              "\n",
              "                \n",
              "\n",
              "'], 'content_chars_count': 3893, '_city': 'Bergamo,Bracca,Brusaporto,Capriate San Gervasio,Cavernago,Chiuduno,Palazzago,Trescore Balneario,Treviglio', 'type': 'article', 'twitter': {'site': '@webecodibergamo', 'field': 'site', 'name': 'twitter', 'card': 'summary_large_image', 'title': 'Bergamo nell’Olimpo della Guida Rossa «Da Vittorio» al top, new entry «Impronte»'}, 'categories': {'parser': 'url', 'exists': 0}, 'icon': 'http://www.ecodibergamo.it/site_media_tribe_custom/static/images/favicon.ico'}</td>\n",
              "      <td>53248f1721ee</td>\n",
              "      <td>2019-11-08T00:00:02Z</td>\n",
              "    </tr>\n",
              "    <tr>\n",
              "      <th>3</th>\n",
              "      <td>239.337.124.291</td>\n",
              "      <td>-</td>\n",
              "      <td>-</td>\n",
              "      <td>GET</td>\n",
              "      <td>200</td>\n",
              "      <td>43</td>\n",
              "      <td>https://www.ecodibergamo.it/stories/bassa-bergamasca/treviglio-chiedono-reddito-di-cittadinanzama-nei-nostri-registri-risultano-def_1327223_11/</td>\n",
              "      <td>133.81.301.216</td>\n",
              "      <td>{'browser': {'family': 'Chrome', 'version': '78.0.3904.70', 'major_version': 78}, 'os': {'family': 'Windows', 'version': '7', 'major_version': 7}, 'device': 'Other'}</td>\n",
              "      <td>2019-11-08T00:00:03.000000000Z</td>\n",
              "      <td>Chrome</td>\n",
              "      <td>pc</td>\n",
              "      <td>Windows 7</td>\n",
              "      <td>False</td>\n",
              "      <td>{'stm': '1573170677706', 'e': 'pv', 'url': 'https://www.ecodibergamo.it/stories/bassa-bergamasca/treviglio-chiedono-reddito-di-cittadinanzama-nei-nostri-registri-risultano-def_1327223_11/', 'page': 'Treviglio, ricevono reddito di cittadinanza «Ma nei nostri registri risultano defunti» - Bassa Bergamasca Bergamo', 'refr': 'https://www.ecodibergamo.it/', 'tv': 'js-2.11.0', 'tna': 'cf', 'aid': 'SB-de77ae02-a351-11e7-879c-28cfe91d3e21', 'p': 'web', 'tz': 'Europe/Berlin', 'lang': 'it-IT', 'cs': 'UTF-8', 'f_pdf': '1', 'f_qt': '0', 'f_realp': '0', 'f_wma': '0', 'f_dir': '0', 'f_fla': '0', 'f_java': '0', 'f_gears': '0', 'f_ag': '0', 'res': '1920x1200', 'cd': '24', 'cookie': '1', 'eid': 'ee173ea4-157e-4693-9223-5b4fc9c8e3de', 'dtm': '1573170677704', 'vp': '1920x1097', 'ds': '1903x3503', 'vid': '1', 'sid': '6d95b68b-8ff2-4aa9-901a-cc44114dc613', 'duid': '8761d8af-133e-4786-ac08-94474c60962f', 'fp': '306408382'}</td>\n",
              "      <td>7c6c8781197c</td>\n",
              "      <td>00bb3d6e2dc4de820e4f61122af37779</td>\n",
              "      <td>{'user': {'id': 'MjIzMTk0ODI3OTkyaTE0MDJzMDF0d2djdXY2MGF4bWtjaWM3emVodmxzaA==_test', 'profile': {'type': 'anonymous'}}}</td>\n",
              "      <td>{'content_words_count': 258, 'description': '\n",
              "            Tre casi scoperti dal Comune di Treviglio grazie ai controlli sull’anagrafica delle richieste di reddito di cittadinanza.\n",
              "        ', 'providers': {'bitly': None}, 'ai': {'classification': {'source': 'html.content', 'predictions': [{'probability': 0.26921659708023005, 'label': 'Society'}, {'probability': 0.12455938011407801, 'label': 'Economy, Business And Finance'}, {'probability': 0.12127859890460901, 'label': 'Labour'}, {'probability': 0.08527283370494801, 'label': 'Crime, Law And Justice'}]}, 'classification_standard': {'source': 'html.content', 'predictions': [{'probability': 0.26921659708023005, 'label': 'Società'}, {'probability': 0.12455938011407801, 'label': 'Economia'}, {'probability': 0.12127859890460901, 'label': 'Lavoro'}]}}, 'image': {'monochromatic': 0, 'name': 'image', 'field': 'url', 'url': 'https://lightstorage.ecodibergamo.it/mediaon/cms.quotidiani/storage/site_media/media/photologue/2019/11/6/photos/cache/treviglio-chiesto-reddito-di-cittadinanzama-nei-nostri-registri-risultano_e2d3ebe2-013d-11ea-9e55-06f3cf178575_512_512_new_square_large.jpg', 'height': '397', 'width': '998', 'version': '2', 'type': 'image/jpeg', 'id': '00bb3d6e2dc4de820e4f61122af37779'}, 'title': 'Treviglio, chiesto reddito di cittadinanza «Ma nei nostri registri risultano defunti»', '_tags': [], 'keywords': ['\n",
              "\n",
              "\n",
              "\n",
              "\n",
              "\n",
              "\n",
              "\n",
              "\n",
              "\n",
              "\n",
              "                \n",
              "\n",
              "'], 'content_chars_count': 1826, '_city': 'Bergamo,Treviglio', 'type': 'article', 'twitter': {'site': '@webecodibergamo', 'field': 'site', 'name': 'twitter', 'card': 'summary_large_image', 'title': 'Treviglio, chiesto reddito di cittadinanza «Ma nei nostri registri risultano defunti»'}, 'categories': {'parser': 'url', 'exists': 0}, 'icon': 'http://www.ecodibergamo.it/site_media_tribe_custom/static/images/favicon.ico'}</td>\n",
              "      <td>53248f1721ee</td>\n",
              "      <td>2019-11-08T00:00:03Z</td>\n",
              "    </tr>\n",
              "  </tbody>\n",
              "</table>\n",
              "</div>"
            ],
            "text/plain": [
              "            remote host  ...     event_tag                  time\n",
              "0  62.308.59.153    -    ...  53248f1721ee  2019-11-08T00:00:00Z\n",
              "1  356.6.121.291    -    ...  53248f1721ee  2019-11-08T00:00:02Z\n",
              "2  130.216.19.309   -    ...  53248f1721ee  2019-11-08T00:00:02Z\n",
              "3  239.337.124.291  -    ...  53248f1721ee  2019-11-08T00:00:03Z\n",
              "\n",
              "[4 rows x 21 columns]"
            ]
          },
          "metadata": {
            "tags": []
          },
          "execution_count": 239
        }
      ]
    },
    {
      "cell_type": "code",
      "metadata": {
        "colab": {
          "base_uri": "https://localhost:8080/"
        },
        "id": "SyME-CuJs7AV",
        "outputId": "bb6b4819-131e-4886-fbc4-46e26cc023c7"
      },
      "source": [
        "print('The shape of our features is:', df.shape)\n",
        "df=df.replace(np.nan,0)"
      ],
      "execution_count": 240,
      "outputs": [
        {
          "output_type": "stream",
          "text": [
            "The shape of our features is: (3688, 21)\n"
          ],
          "name": "stdout"
        }
      ]
    },
    {
      "cell_type": "code",
      "metadata": {
        "colab": {
          "base_uri": "https://localhost:8080/"
        },
        "id": "G5VW8BxQqpK5",
        "outputId": "2e0f6a18-ea79-46aa-83c7-17079071f73e"
      },
      "source": [
        "df.isnull().sum()"
      ],
      "execution_count": 241,
      "outputs": [
        {
          "output_type": "execute_result",
          "data": {
            "text/plain": [
              "remote                  0\n",
              "host                    0\n",
              "user                    0\n",
              "method                  0\n",
              "code                    0\n",
              "size                    0\n",
              "referer                 0\n",
              "http_x_forwarded_for    0\n",
              "ua                      0\n",
              "created                 0\n",
              "agent_name              0\n",
              "agent_category          0\n",
              "agent_os                0\n",
              "referer_known           0\n",
              "uri                     0\n",
              "hostname                0\n",
              "uri_url_hash            0\n",
              "injected                0\n",
              "enrich                  0\n",
              "event_tag               0\n",
              "time                    0\n",
              "dtype: int64"
            ]
          },
          "metadata": {
            "tags": []
          },
          "execution_count": 241
        }
      ]
    },
    {
      "cell_type": "code",
      "metadata": {
        "colab": {
          "base_uri": "https://localhost:8080/",
          "height": 576
        },
        "id": "rhqpNO3qqpNU",
        "outputId": "6de98ba8-bbea-4fa6-d3e2-fc4c96c1b0fa"
      },
      "source": [
        "from sklearn.preprocessing import LabelEncoder, OneHotEncoder\n",
        "label_encoder = LabelEncoder()\n",
        "df1=df.copy() \n",
        "df[\"agent_os_new\"] = label_encoder.fit_transform(df[\"agent_os\"]).astype('float64')\n",
        "df[\"agent_category_new\"] = label_encoder.fit_transform(df[\"agent_category\"]).astype('float64')\n",
        "df[\"referer_new\"] = label_encoder.fit_transform(df[\"referer\"]).astype('float64')\n",
        "df[\"agent_name_new\"] = label_encoder.fit_transform(df[\"agent_name\"]).astype('float64')\n",
        "\n",
        "pd.set_option('display.max_colwidth', -1)\n",
        "\n",
        "df.head(1)"
      ],
      "execution_count": 242,
      "outputs": [
        {
          "output_type": "stream",
          "text": [
            "/usr/local/lib/python3.7/dist-packages/ipykernel_launcher.py:9: FutureWarning: Passing a negative integer is deprecated in version 1.0 and will not be supported in future version. Instead, use None to not limit the column width.\n",
            "  if __name__ == '__main__':\n"
          ],
          "name": "stderr"
        },
        {
          "output_type": "execute_result",
          "data": {
            "text/html": [
              "<div>\n",
              "<style scoped>\n",
              "    .dataframe tbody tr th:only-of-type {\n",
              "        vertical-align: middle;\n",
              "    }\n",
              "\n",
              "    .dataframe tbody tr th {\n",
              "        vertical-align: top;\n",
              "    }\n",
              "\n",
              "    .dataframe thead th {\n",
              "        text-align: right;\n",
              "    }\n",
              "</style>\n",
              "<table border=\"1\" class=\"dataframe\">\n",
              "  <thead>\n",
              "    <tr style=\"text-align: right;\">\n",
              "      <th></th>\n",
              "      <th>remote</th>\n",
              "      <th>host</th>\n",
              "      <th>user</th>\n",
              "      <th>method</th>\n",
              "      <th>code</th>\n",
              "      <th>size</th>\n",
              "      <th>referer</th>\n",
              "      <th>http_x_forwarded_for</th>\n",
              "      <th>ua</th>\n",
              "      <th>created</th>\n",
              "      <th>agent_name</th>\n",
              "      <th>agent_category</th>\n",
              "      <th>agent_os</th>\n",
              "      <th>referer_known</th>\n",
              "      <th>uri</th>\n",
              "      <th>hostname</th>\n",
              "      <th>uri_url_hash</th>\n",
              "      <th>injected</th>\n",
              "      <th>enrich</th>\n",
              "      <th>event_tag</th>\n",
              "      <th>time</th>\n",
              "      <th>agent_os_new</th>\n",
              "      <th>agent_category_new</th>\n",
              "      <th>referer_new</th>\n",
              "      <th>agent_name_new</th>\n",
              "    </tr>\n",
              "  </thead>\n",
              "  <tbody>\n",
              "    <tr>\n",
              "      <th>0</th>\n",
              "      <td>62.308.59.153</td>\n",
              "      <td>-</td>\n",
              "      <td>-</td>\n",
              "      <td>GET</td>\n",
              "      <td>200</td>\n",
              "      <td>43</td>\n",
              "      <td>https://www.ecodibergamo.it/</td>\n",
              "      <td>155.380.27.200</td>\n",
              "      <td>{'browser': {'family': 'Chrome', 'version': '78.0.3904.87', 'major_version': 78}, 'os': {'family': 'Windows', 'version': '10', 'major_version': 10}, 'device': 'Other'}</td>\n",
              "      <td>2019-11-08T00:00:00.000000000Z</td>\n",
              "      <td>Chrome</td>\n",
              "      <td>pc</td>\n",
              "      <td>Windows 10</td>\n",
              "      <td>False</td>\n",
              "      <td>{'stm': '1573171199218', 'e': 'pv', 'url': 'https://www.ecodibergamo.it/', 'page': 'L'Eco di Bergamo - Notizie di Bergamo e provincia', 'refr': 'https://www.ecodibergamo.it/', 'tv': 'js-2.11.0', 'tna': 'cf', 'aid': 'SB-de77ae02-a351-11e7-879c-28cfe91d3e21', 'p': 'web', 'tz': 'Europe/Berlin', 'lang': 'it-IT', 'cs': 'UTF-8', 'f_pdf': '1', 'f_qt': '0', 'f_realp': '0', 'f_wma': '0', 'f_dir': '0', 'f_fla': '0', 'f_java': '0', 'f_gears': '0', 'f_ag': '0', 'res': '1280x720', 'cd': '24', 'cookie': '1', 'eid': 'fee489a9-c110-42b8-b997-ab50ddb1e912', 'dtm': '1573171199215', 'vp': '1280x616', 'ds': '1263x6725', 'vid': '2', 'sid': 'a3b7e1b0-6192-46ee-8f6b-e258fc2811ab', 'duid': '0c2841a0-ea61-445e-973e-607ea1123333', 'fp': '4272995877'}</td>\n",
              "      <td>7c6c8781197c</td>\n",
              "      <td>7e452fb177e15e229756b1fff4a6f5bc</td>\n",
              "      <td>{'user': {'id': 'NDc5MjkwNTAwMDBwMG95aGRmMDlzbXN2aW10eWdtM3p0ZjBrMHl0ZTZycg==_test', 'profile': {'type': 'anonymous'}}}</td>\n",
              "      <td>{}</td>\n",
              "      <td>53248f1721ee</td>\n",
              "      <td>2019-11-08T00:00:00Z</td>\n",
              "      <td>3.0</td>\n",
              "      <td>0.0</td>\n",
              "      <td>1.0</td>\n",
              "      <td>0.0</td>\n",
              "    </tr>\n",
              "  </tbody>\n",
              "</table>\n",
              "</div>"
            ],
            "text/plain": [
              "          remote host user  ... agent_category_new  referer_new  agent_name_new\n",
              "0  62.308.59.153  -    -    ...  0.0                1.0          0.0           \n",
              "\n",
              "[1 rows x 25 columns]"
            ]
          },
          "metadata": {
            "tags": []
          },
          "execution_count": 242
        }
      ]
    },
    {
      "cell_type": "code",
      "metadata": {
        "colab": {
          "base_uri": "https://localhost:8080/"
        },
        "id": "AsMh6G56qpP8",
        "outputId": "fa0183bd-ea76-4cf3-c00d-61b252ce13ae"
      },
      "source": [
        "len(df['time'].unique())"
      ],
      "execution_count": 243,
      "outputs": [
        {
          "output_type": "execute_result",
          "data": {
            "text/plain": [
              "1892"
            ]
          },
          "metadata": {
            "tags": []
          },
          "execution_count": 243
        }
      ]
    },
    {
      "cell_type": "code",
      "metadata": {
        "colab": {
          "base_uri": "https://localhost:8080/"
        },
        "id": "Zy2fB3ddqpSq",
        "outputId": "f3e85ed7-2e0a-4220-d51c-828d07ddaf6a"
      },
      "source": [
        "print(df['size'].unique())\n",
        "print(df['code'].unique())\n",
        "#print(df['referer'].unique())\n",
        "#print(df['ua'].unique())\n",
        "print(df['agent_name'].unique())\n",
        "print(df['agent_os'].unique())\n",
        "print(df['agent_category'].unique())\n",
        "df['month'] = pd.DatetimeIndex(df['time']).month\n",
        "df['weekday'] = pd.DatetimeIndex(df['time']).weekday\n",
        "df\n",
        "print(df['month'].unique())\n",
        "print(df['weekday'].unique())\n",
        "\n",
        "\n"
      ],
      "execution_count": 244,
      "outputs": [
        {
          "output_type": "stream",
          "text": [
            "[43]\n",
            "[200]\n",
            "['Chrome' 'Firefox' 'Edge' 'Safari' 'Opera' 'Internet Explorer' 'Webview'\n",
            " 'Yandex Browser']\n",
            "['Windows 10' 'Android' 'Windows 7' 'iPhone' 'Mac OSX' 'iPad' 'Linux'\n",
            " 'Windows XP' 'Windows Phone OS' 'Windows 8.1' 'Windows 8']\n",
            "['pc' 'smartphone']\n",
            "[11]\n",
            "[4]\n"
          ],
          "name": "stdout"
        }
      ]
    },
    {
      "cell_type": "code",
      "metadata": {
        "colab": {
          "base_uri": "https://localhost:8080/"
        },
        "id": "xQUNPyM8qpU3",
        "outputId": "5e82750d-440a-42fa-e395-3579ea7019e6"
      },
      "source": [
        "Counts = df.agent_category.value_counts()\n",
        "print(\"-------Frequency counts for Department column-------\\n\",Counts)\n",
        "print(type(Counts))\n",
        "\n",
        "Counts = df.agent_os.value_counts()\n",
        "print(\"-------Frequency counts for Department column-------\\n\",Counts)\n",
        "print(type(Counts))"
      ],
      "execution_count": 245,
      "outputs": [
        {
          "output_type": "stream",
          "text": [
            "-------Frequency counts for Department column-------\n",
            " smartphone    2515\n",
            "pc            1173\n",
            "Name: agent_category, dtype: int64\n",
            "<class 'pandas.core.series.Series'>\n",
            "-------Frequency counts for Department column-------\n",
            " Android             1798\n",
            "Windows 10          540 \n",
            "iPhone              529 \n",
            "Windows 7           328 \n",
            "Mac OSX             226 \n",
            "iPad                175 \n",
            "Windows 8.1         44  \n",
            "Linux               19  \n",
            "Windows Phone OS    13  \n",
            "Windows XP          10  \n",
            "Windows 8           6   \n",
            "Name: agent_os, dtype: int64\n",
            "<class 'pandas.core.series.Series'>\n"
          ],
          "name": "stdout"
        }
      ]
    },
    {
      "cell_type": "code",
      "metadata": {
        "colab": {
          "base_uri": "https://localhost:8080/"
        },
        "id": "Ysylbx-GqpXY",
        "outputId": "9c6f3aa6-cde9-403f-95f0-2efae7c502bc"
      },
      "source": [
        "my_string=\"https://www.ecodibergamo.it/stories/Cronaca/\"\n",
        "print(my_string.split(\"https://www.ecodibergamo.it/\",1)[1] )"
      ],
      "execution_count": 246,
      "outputs": [
        {
          "output_type": "stream",
          "text": [
            "stories/Cronaca/\n"
          ],
          "name": "stdout"
        }
      ]
    },
    {
      "cell_type": "code",
      "metadata": {
        "id": "LUGZxcP1rNUZ"
      },
      "source": [
        "def replace_urls(url):\n",
        "    if url == 'https://www.ecodibergamo.it/':\n",
        "        url = 'website'\n",
        "    else:\n",
        "        url = '/'.join(re.sub('https://www.ecodibergamo.it/', '', url).split('/')[:2])\n",
        "    return url"
      ],
      "execution_count": 247,
      "outputs": []
    },
    {
      "cell_type": "code",
      "metadata": {
        "id": "KKefAWvcrNW5"
      },
      "source": [
        "import re\n",
        "df['URL'] = [replace_urls(i) for i in df['referer']]"
      ],
      "execution_count": 248,
      "outputs": []
    },
    {
      "cell_type": "code",
      "metadata": {
        "id": "oTAIZ-55rNZh"
      },
      "source": [
        "df= df[[\"agent_os\",\"agent_name\",\"agent_category\",\"URL\",\"agent_os_new\",\"agent_category_new\",\"referer_new\",\"agent_name_new\"]]"
      ],
      "execution_count": 181,
      "outputs": []
    },
    {
      "cell_type": "code",
      "metadata": {
        "colab": {
          "base_uri": "https://localhost:8080/"
        },
        "id": "LCqMWhxwrNcP",
        "outputId": "b389ee42-dc26-40d0-dcbe-75e2622b1cdf"
      },
      "source": [
        "print (len(df['URL'].unique()))\n",
        "print (len(df['agent_os'].unique()))\n",
        "print ((len(df['agent_category'].unique())))\n",
        "print (len(df['agent_name'].unique()))\n"
      ],
      "execution_count": 249,
      "outputs": [
        {
          "output_type": "stream",
          "text": [
            "68\n",
            "11\n",
            "2\n",
            "8\n"
          ],
          "name": "stdout"
        }
      ]
    },
    {
      "cell_type": "code",
      "metadata": {
        "id": "qr1KlkASrm-h"
      },
      "source": [
        "XX = df [[\"agent_os_new\",\"agent_category_new\",\"referer_new\",\"agent_name_new\"]]\n",
        "\n",
        "y = df['referer_new']\n",
        "y\n",
        "cols = XX.columns"
      ],
      "execution_count": 250,
      "outputs": []
    },
    {
      "cell_type": "code",
      "metadata": {
        "colab": {
          "base_uri": "https://localhost:8080/",
          "height": 173
        },
        "id": "qEN6c0NP-6iL",
        "outputId": "28fd400a-a0e1-40ed-ba88-cebde321ee02"
      },
      "source": [
        "X[:4]"
      ],
      "execution_count": 185,
      "outputs": [
        {
          "output_type": "execute_result",
          "data": {
            "text/html": [
              "<div>\n",
              "<style scoped>\n",
              "    .dataframe tbody tr th:only-of-type {\n",
              "        vertical-align: middle;\n",
              "    }\n",
              "\n",
              "    .dataframe tbody tr th {\n",
              "        vertical-align: top;\n",
              "    }\n",
              "\n",
              "    .dataframe thead tr th {\n",
              "        text-align: left;\n",
              "    }\n",
              "</style>\n",
              "<table border=\"1\" class=\"dataframe\">\n",
              "  <thead>\n",
              "    <tr>\n",
              "      <th></th>\n",
              "      <th>agent_os_new</th>\n",
              "      <th>agent_category_new</th>\n",
              "      <th>referer_new</th>\n",
              "      <th>agent_name_new</th>\n",
              "    </tr>\n",
              "  </thead>\n",
              "  <tbody>\n",
              "    <tr>\n",
              "      <th>0</th>\n",
              "      <td>0.3</td>\n",
              "      <td>0.0</td>\n",
              "      <td>0.002817</td>\n",
              "      <td>0.000000</td>\n",
              "    </tr>\n",
              "    <tr>\n",
              "      <th>1</th>\n",
              "      <td>0.3</td>\n",
              "      <td>0.0</td>\n",
              "      <td>0.002817</td>\n",
              "      <td>0.285714</td>\n",
              "    </tr>\n",
              "    <tr>\n",
              "      <th>2</th>\n",
              "      <td>0.0</td>\n",
              "      <td>1.0</td>\n",
              "      <td>0.526761</td>\n",
              "      <td>0.000000</td>\n",
              "    </tr>\n",
              "    <tr>\n",
              "      <th>3</th>\n",
              "      <td>0.4</td>\n",
              "      <td>0.0</td>\n",
              "      <td>0.459155</td>\n",
              "      <td>0.000000</td>\n",
              "    </tr>\n",
              "  </tbody>\n",
              "</table>\n",
              "</div>"
            ],
            "text/plain": [
              "  agent_os_new agent_category_new referer_new agent_name_new\n",
              "0  0.3          0.0                0.002817    0.000000     \n",
              "1  0.3          0.0                0.002817    0.285714     \n",
              "2  0.0          1.0                0.526761    0.000000     \n",
              "3  0.4          0.0                0.459155    0.000000     "
            ]
          },
          "metadata": {
            "tags": []
          },
          "execution_count": 185
        }
      ]
    },
    {
      "cell_type": "code",
      "metadata": {
        "colab": {
          "base_uri": "https://localhost:8080/",
          "height": 173
        },
        "id": "Ik3nucl9rZHt",
        "outputId": "766df081-d3b7-42b1-e9a8-fcf31d466f41"
      },
      "source": [
        "from sklearn.preprocessing import MinMaxScaler\n",
        "\n",
        "ms = MinMaxScaler()\n",
        "\n",
        "X = ms.fit_transform(XX)\n",
        "\n",
        "X = pd.DataFrame(X, columns=[cols])\n",
        "X[:4]"
      ],
      "execution_count": 251,
      "outputs": [
        {
          "output_type": "execute_result",
          "data": {
            "text/html": [
              "<div>\n",
              "<style scoped>\n",
              "    .dataframe tbody tr th:only-of-type {\n",
              "        vertical-align: middle;\n",
              "    }\n",
              "\n",
              "    .dataframe tbody tr th {\n",
              "        vertical-align: top;\n",
              "    }\n",
              "\n",
              "    .dataframe thead tr th {\n",
              "        text-align: left;\n",
              "    }\n",
              "</style>\n",
              "<table border=\"1\" class=\"dataframe\">\n",
              "  <thead>\n",
              "    <tr>\n",
              "      <th></th>\n",
              "      <th>agent_os_new</th>\n",
              "      <th>agent_category_new</th>\n",
              "      <th>referer_new</th>\n",
              "      <th>agent_name_new</th>\n",
              "    </tr>\n",
              "  </thead>\n",
              "  <tbody>\n",
              "    <tr>\n",
              "      <th>0</th>\n",
              "      <td>0.3</td>\n",
              "      <td>0.0</td>\n",
              "      <td>0.002817</td>\n",
              "      <td>0.000000</td>\n",
              "    </tr>\n",
              "    <tr>\n",
              "      <th>1</th>\n",
              "      <td>0.3</td>\n",
              "      <td>0.0</td>\n",
              "      <td>0.002817</td>\n",
              "      <td>0.285714</td>\n",
              "    </tr>\n",
              "    <tr>\n",
              "      <th>2</th>\n",
              "      <td>0.0</td>\n",
              "      <td>1.0</td>\n",
              "      <td>0.526761</td>\n",
              "      <td>0.000000</td>\n",
              "    </tr>\n",
              "    <tr>\n",
              "      <th>3</th>\n",
              "      <td>0.4</td>\n",
              "      <td>0.0</td>\n",
              "      <td>0.459155</td>\n",
              "      <td>0.000000</td>\n",
              "    </tr>\n",
              "  </tbody>\n",
              "</table>\n",
              "</div>"
            ],
            "text/plain": [
              "  agent_os_new agent_category_new referer_new agent_name_new\n",
              "0  0.3          0.0                0.002817    0.000000     \n",
              "1  0.3          0.0                0.002817    0.285714     \n",
              "2  0.0          1.0                0.526761    0.000000     \n",
              "3  0.4          0.0                0.459155    0.000000     "
            ]
          },
          "metadata": {
            "tags": []
          },
          "execution_count": 251
        }
      ]
    },
    {
      "cell_type": "code",
      "metadata": {
        "colab": {
          "base_uri": "https://localhost:8080/"
        },
        "id": "bFo6_Bp4rZKS",
        "outputId": "8719d15c-bee2-48c1-838f-9ca4dc80ac60"
      },
      "source": [
        "#K-Means model with n clusters \n",
        "\n",
        "from sklearn.cluster import KMeans\n",
        "\n",
        "kmeans = KMeans(n_clusters=4, random_state=0) \n",
        "\n",
        "ymeans = kmeans.fit(X)\n",
        "y_kmeans = kmeans.predict(X)\n",
        "\n",
        "ymeans"
      ],
      "execution_count": 252,
      "outputs": [
        {
          "output_type": "execute_result",
          "data": {
            "text/plain": [
              "KMeans(algorithm='auto', copy_x=True, init='k-means++', max_iter=300,\n",
              "       n_clusters=4, n_init=10, n_jobs=None, precompute_distances='auto',\n",
              "       random_state=0, tol=0.0001, verbose=0)"
            ]
          },
          "metadata": {
            "tags": []
          },
          "execution_count": 252
        }
      ]
    },
    {
      "cell_type": "code",
      "metadata": {
        "colab": {
          "base_uri": "https://localhost:8080/"
        },
        "id": "nlbRIN9wgnrR",
        "outputId": "a2cd4010-5cbc-44f8-a460-9832ff42edfe"
      },
      "source": [
        "y_kmeans"
      ],
      "execution_count": 253,
      "outputs": [
        {
          "output_type": "execute_result",
          "data": {
            "text/plain": [
              "array([1, 1, 0, ..., 3, 3, 1], dtype=int32)"
            ]
          },
          "metadata": {
            "tags": []
          },
          "execution_count": 253
        }
      ]
    },
    {
      "cell_type": "code",
      "metadata": {
        "colab": {
          "base_uri": "https://localhost:8080/"
        },
        "id": "jpigfBDTrZNA",
        "outputId": "a8e8c4f0-314e-4884-a413-62f41c5751c7"
      },
      "source": [
        "kmeans.cluster_centers_"
      ],
      "execution_count": 254,
      "outputs": [
        {
          "output_type": "execute_result",
          "data": {
            "text/plain": [
              "array([[ 1.11464968e-03,  1.00000000e+00,  6.77240513e-01,\n",
              "         2.25887170e-01],\n",
              "       [ 3.21994885e-01, -2.04281037e-14,  7.96080833e-02,\n",
              "         1.65266106e-01],\n",
              "       [ 6.10622664e-16,  1.00000000e+00,  7.14473004e-02,\n",
              "         2.75710626e-02],\n",
              "       [ 9.70530726e-01,  1.00000000e+00,  3.13478637e-01,\n",
              "         6.94533121e-01]])"
            ]
          },
          "metadata": {
            "tags": []
          },
          "execution_count": 254
        }
      ]
    },
    {
      "cell_type": "code",
      "metadata": {
        "colab": {
          "base_uri": "https://localhost:8080/"
        },
        "id": "T7wsCKFqrZQL",
        "outputId": "032df4f6-86bb-4c24-ddfa-eea0b48838c0"
      },
      "source": [
        "kmeans.inertia_"
      ],
      "execution_count": 255,
      "outputs": [
        {
          "output_type": "execute_result",
          "data": {
            "text/plain": [
              "370.60679764943495"
            ]
          },
          "metadata": {
            "tags": []
          },
          "execution_count": 255
        }
      ]
    },
    {
      "cell_type": "code",
      "metadata": {
        "colab": {
          "base_uri": "https://localhost:8080/",
          "height": 404
        },
        "id": "pzPtatGavoqO",
        "outputId": "f047d878-24aa-463d-a42e-b2af127a0e7b"
      },
      "source": [
        "from sklearn.cluster import KMeans\n",
        "wcss = []\n",
        "for k in range(1,11):\n",
        "    k_means = KMeans(n_clusters=k, init=\"k-means++\")\n",
        "    k_means.fit(X)\n",
        "    wcss.append(k_means.inertia_)\n",
        "plt.figure(figsize=(12,6))    \n",
        "plt.grid()\n",
        "plt.plot(range(1,11),wcss, linewidth=2, color=\"red\", marker =\"8\")\n",
        "plt.xlabel(\"K Value\")\n",
        "plt.title('The Elbow Method')\n",
        "plt.xticks(np.arange(1,11,1))\n",
        "plt.ylabel(\"WCSS\")\n",
        "plt.show()"
      ],
      "execution_count": 256,
      "outputs": [
        {
          "output_type": "display_data",
          "data": {
            "image/png": "[encoded data removed]",
            "text/plain": [
              "<Figure size 864x432 with 1 Axes>"
            ]
          },
          "metadata": {
            "tags": []
          }
        }
      ]
    },
    {
      "cell_type": "code",
      "metadata": {
        "colab": {
          "base_uri": "https://localhost:8080/"
        },
        "id": "PusomBs5DbHg",
        "outputId": "ff3f2e02-cea4-4bd7-d4c9-2201a32dba6e"
      },
      "source": [
        "labels = kmeans.labels_\n",
        "labels\n"
      ],
      "execution_count": 257,
      "outputs": [
        {
          "output_type": "execute_result",
          "data": {
            "text/plain": [
              "array([1, 1, 0, ..., 3, 3, 1], dtype=int32)"
            ]
          },
          "metadata": {
            "tags": []
          },
          "execution_count": 257
        }
      ]
    },
    {
      "cell_type": "markdown",
      "metadata": {
        "id": "7WdGDgKcwOBw"
      },
      "source": [
        "The optimal K value is found to be 5 using the elbow method.\n"
      ]
    },
    {
      "cell_type": "code",
      "metadata": {
        "colab": {
          "base_uri": "https://localhost:8080/",
          "height": 1000
        },
        "id": "lbcbfr0vry3E",
        "outputId": "6b3df938-265a-41bb-b119-cccac9ffe348"
      },
      "source": [
        "labels = kmeans.labels_\n",
        "df['cluster_num'] = labels\n",
        "df.head()\n",
        "\n"
      ],
      "execution_count": 258,
      "outputs": [
        {
          "output_type": "execute_result",
          "data": {
            "text/html": [
              "<div>\n",
              "<style scoped>\n",
              "    .dataframe tbody tr th:only-of-type {\n",
              "        vertical-align: middle;\n",
              "    }\n",
              "\n",
              "    .dataframe tbody tr th {\n",
              "        vertical-align: top;\n",
              "    }\n",
              "\n",
              "    .dataframe thead th {\n",
              "        text-align: right;\n",
              "    }\n",
              "</style>\n",
              "<table border=\"1\" class=\"dataframe\">\n",
              "  <thead>\n",
              "    <tr style=\"text-align: right;\">\n",
              "      <th></th>\n",
              "      <th>remote</th>\n",
              "      <th>host</th>\n",
              "      <th>user</th>\n",
              "      <th>method</th>\n",
              "      <th>code</th>\n",
              "      <th>size</th>\n",
              "      <th>referer</th>\n",
              "      <th>http_x_forwarded_for</th>\n",
              "      <th>ua</th>\n",
              "      <th>created</th>\n",
              "      <th>agent_name</th>\n",
              "      <th>agent_category</th>\n",
              "      <th>agent_os</th>\n",
              "      <th>referer_known</th>\n",
              "      <th>uri</th>\n",
              "      <th>hostname</th>\n",
              "      <th>uri_url_hash</th>\n",
              "      <th>injected</th>\n",
              "      <th>enrich</th>\n",
              "      <th>event_tag</th>\n",
              "      <th>time</th>\n",
              "      <th>agent_os_new</th>\n",
              "      <th>agent_category_new</th>\n",
              "      <th>referer_new</th>\n",
              "      <th>agent_name_new</th>\n",
              "      <th>month</th>\n",
              "      <th>weekday</th>\n",
              "      <th>URL</th>\n",
              "      <th>cluster_num</th>\n",
              "    </tr>\n",
              "  </thead>\n",
              "  <tbody>\n",
              "    <tr>\n",
              "      <th>0</th>\n",
              "      <td>62.308.59.153</td>\n",
              "      <td>-</td>\n",
              "      <td>-</td>\n",
              "      <td>GET</td>\n",
              "      <td>200</td>\n",
              "      <td>43</td>\n",
              "      <td>https://www.ecodibergamo.it/</td>\n",
              "      <td>155.380.27.200</td>\n",
              "      <td>{'browser': {'family': 'Chrome', 'version': '78.0.3904.87', 'major_version': 78}, 'os': {'family': 'Windows', 'version': '10', 'major_version': 10}, 'device': 'Other'}</td>\n",
              "      <td>2019-11-08T00:00:00.000000000Z</td>\n",
              "      <td>Chrome</td>\n",
              "      <td>pc</td>\n",
              "      <td>Windows 10</td>\n",
              "      <td>False</td>\n",
              "      <td>{'stm': '1573171199218', 'e': 'pv', 'url': 'https://www.ecodibergamo.it/', 'page': 'L'Eco di Bergamo - Notizie di Bergamo e provincia', 'refr': 'https://www.ecodibergamo.it/', 'tv': 'js-2.11.0', 'tna': 'cf', 'aid': 'SB-de77ae02-a351-11e7-879c-28cfe91d3e21', 'p': 'web', 'tz': 'Europe/Berlin', 'lang': 'it-IT', 'cs': 'UTF-8', 'f_pdf': '1', 'f_qt': '0', 'f_realp': '0', 'f_wma': '0', 'f_dir': '0', 'f_fla': '0', 'f_java': '0', 'f_gears': '0', 'f_ag': '0', 'res': '1280x720', 'cd': '24', 'cookie': '1', 'eid': 'fee489a9-c110-42b8-b997-ab50ddb1e912', 'dtm': '1573171199215', 'vp': '1280x616', 'ds': '1263x6725', 'vid': '2', 'sid': 'a3b7e1b0-6192-46ee-8f6b-e258fc2811ab', 'duid': '0c2841a0-ea61-445e-973e-607ea1123333', 'fp': '4272995877'}</td>\n",
              "      <td>7c6c8781197c</td>\n",
              "      <td>7e452fb177e15e229756b1fff4a6f5bc</td>\n",
              "      <td>{'user': {'id': 'NDc5MjkwNTAwMDBwMG95aGRmMDlzbXN2aW10eWdtM3p0ZjBrMHl0ZTZycg==_test', 'profile': {'type': 'anonymous'}}}</td>\n",
              "      <td>{}</td>\n",
              "      <td>53248f1721ee</td>\n",
              "      <td>2019-11-08T00:00:00Z</td>\n",
              "      <td>3.0</td>\n",
              "      <td>0.0</td>\n",
              "      <td>1.0</td>\n",
              "      <td>0.0</td>\n",
              "      <td>11</td>\n",
              "      <td>4</td>\n",
              "      <td>website</td>\n",
              "      <td>1</td>\n",
              "    </tr>\n",
              "    <tr>\n",
              "      <th>1</th>\n",
              "      <td>356.6.121.291</td>\n",
              "      <td>-</td>\n",
              "      <td>-</td>\n",
              "      <td>GET</td>\n",
              "      <td>200</td>\n",
              "      <td>43</td>\n",
              "      <td>https://www.ecodibergamo.it/</td>\n",
              "      <td>224.80.19.283</td>\n",
              "      <td>{'browser': {'family': 'Firefox', 'version': '70.0', 'major_version': 70}, 'os': {'family': 'Windows', 'version': '10', 'major_version': 10}, 'device': 'Other'}</td>\n",
              "      <td>2019-11-08T00:00:02.000000000Z</td>\n",
              "      <td>Firefox</td>\n",
              "      <td>pc</td>\n",
              "      <td>Windows 10</td>\n",
              "      <td>False</td>\n",
              "      <td>{'stm': '1573171202942', 'e': 'pv', 'url': 'https://www.ecodibergamo.it/', 'page': 'L'Eco di Bergamo - Notizie di Bergamo e provincia', 'tv': 'js-2.11.0', 'tna': 'cf', 'aid': 'SB-de77ae02-a351-11e7-879c-28cfe91d3e21', 'p': 'web', 'tz': 'Europe/Berlin', 'lang': 'it-IT', 'cs': 'UTF-8', 'f_pdf': '0', 'f_qt': '0', 'f_realp': '0', 'f_wma': '0', 'f_dir': '0', 'f_fla': '1', 'f_java': '0', 'f_gears': '0', 'f_ag': '0', 'res': '1680x1050', 'cd': '24', 'cookie': '1', 'eid': '52273f46-75ac-45d6-ad2b-26e8769ed3bf', 'dtm': '1573171202940', 'vp': '1680x908', 'ds': '1663x6737', 'vid': '1', 'sid': 'f35632aa-982f-4342-a86f-736d56b20797', 'duid': 'e7067c56-383b-4559-840f-70c193d3adf8', 'fp': '3175553694'}</td>\n",
              "      <td>7c6c8781197c</td>\n",
              "      <td>7e452fb177e15e229756b1fff4a6f5bc</td>\n",
              "      <td>{'user': {'id': 'MjM2NzkxNjI4MTB0d2l6MWk1MXA1Mng4cXVvMm9ybHFjcXNtbGVya3VnNw==_test', 'profile': {'type': 'anonymous'}}}</td>\n",
              "      <td>{}</td>\n",
              "      <td>53248f1721ee</td>\n",
              "      <td>2019-11-08T00:00:02Z</td>\n",
              "      <td>3.0</td>\n",
              "      <td>0.0</td>\n",
              "      <td>1.0</td>\n",
              "      <td>2.0</td>\n",
              "      <td>11</td>\n",
              "      <td>4</td>\n",
              "      <td>website</td>\n",
              "      <td>1</td>\n",
              "    </tr>\n",
              "    <tr>\n",
              "      <th>2</th>\n",
              "      <td>130.216.19.309</td>\n",
              "      <td>-</td>\n",
              "      <td>-</td>\n",
              "      <td>GET</td>\n",
              "      <td>200</td>\n",
              "      <td>43</td>\n",
              "      <td>https://www.ecodibergamo.it/stories/bergamo-citta/bergamo-nellolimpo-della-guida-rossada-vittorio-al-top-new-entry-impronte_1327138_11/</td>\n",
              "      <td>373.198.78.13</td>\n",
              "      <td>{'browser': {'family': 'Chrome', 'version': '77.0.3865.116', 'major_version': 77}, 'os': {'family': 'Android', 'version': '4.4.4', 'major_version': 4}, 'device': 'Generic Smartphone'}</td>\n",
              "      <td>2019-11-08T00:00:02.000000000Z</td>\n",
              "      <td>Chrome</td>\n",
              "      <td>smartphone</td>\n",
              "      <td>Android</td>\n",
              "      <td>False</td>\n",
              "      <td>{'stm': '1573171290396', 'e': 'pv', 'url': 'https://www.ecodibergamo.it/stories/bergamo-citta/bergamo-nellolimpo-della-guida-rossada-vittorio-al-top-new-entry-impronte_1327138_11/', 'page': 'Bergamo nell’Olimpo della Guida Rossa «Vittorio» al top, new entry «Impronte» - Bergamo città Bergamo', 'refr': 'android-app://com.google.android.googlequicksearchbox/https/www.google.com', 'tv': 'js-2.11.0', 'tna': 'cf', 'aid': 'SB-de77ae02-a351-11e7-879c-28cfe91d3e21', 'p': 'web', 'tz': 'Europe/Berlin', 'lang': 'it', 'cs': 'UTF-8', 'res': '800x1280', 'cd': '24', 'cookie': '1', 'eid': 'fc855c89-daf3-4c54-b0bf-06d7f41df16d', 'dtm': '1573171290376', 'vp': '800x1191', 'ds': '800x6819', 'vid': '1', 'sid': '473338c8-c941-48e2-8483-ec46e06e2728', 'duid': 'b2937acc-a384-4909-90b8-b5b4ce061e52', 'fp': '1935601176'}</td>\n",
              "      <td>7c6c8781197c</td>\n",
              "      <td>3555294575be3f0cf6e0e2b50e5be1e5</td>\n",
              "      <td>{'user': {'id': 'NDkyMTgwMzk1MDh2c29vdzNpOW1xd2l4aWx6YmhramY0Z3l5eDdoOGJsYQ==_test', 'profile': {'type': 'anonymous'}}}</td>\n",
              "      <td>{'content_words_count': 602, 'description': '\n",
              "            Tre stelle per i fratelli Cerea nella Guida Michelin Italia. Molte conferme per la nostra città. Una stella al ristorante di via Baioni.\n",
              "        ', 'providers': {'bitly': None}, 'ai': {'classification': {'source': 'html.content', 'predictions': [{'probability': 0.14299587905406902, 'label': 'Entertainment'}, {'probability': 0.10872979462146701, 'label': 'Leisure'}, {'probability': 0.10552781075239101, 'label': 'Culture'}, {'probability': 0.09535752236843101, 'label': 'People'}, {'probability': 0.081539817154407, 'label': 'Religion'}]}, 'classification_standard': {'source': 'html.content', 'predictions': [{'probability': 0.14299587905406902, 'label': 'Spettacolo'}, {'probability': 0.10872979462146701, 'label': 'Tempo Libero'}, {'probability': 0.10552781075239101, 'label': 'Arte E Cultura'}]}}, 'image': {'monochromatic': 0, 'name': 'image', 'field': 'url', 'url': 'https://lightstorage.ecodibergamo.it/mediaon/cms.quotidiani/storage/site_media/media/photologue/2019/10/29/photos/cache/bergamo-nellolimpo-della-guida-rossada-vittorio-al-top-new-entry-impro_06ac527c-008d-11ea-88e7-b0ccc82102e5_512_512_new_square_large.jpg', 'height': '397', 'width': '998', 'version': '2', 'type': 'image/jpeg', 'id': '3555294575be3f0cf6e0e2b50e5be1e5'}, 'title': 'Bergamo nell’Olimpo della Guida Rossa «Da Vittorio» al top, new entry «Impronte»', '_tags': [], 'keywords': ['\n",
              "\n",
              "\n",
              "\n",
              "\n",
              "\n",
              "\n",
              "\n",
              "\n",
              "\n",
              "\n",
              "                \n",
              "\n",
              "'], 'content_chars_count': 3893, '_city': 'Bergamo,Bracca,Brusaporto,Capriate San Gervasio,Cavernago,Chiuduno,Palazzago,Trescore Balneario,Treviglio', 'type': 'article', 'twitter': {'site': '@webecodibergamo', 'field': 'site', 'name': 'twitter', 'card': 'summary_large_image', 'title': 'Bergamo nell’Olimpo della Guida Rossa «Da Vittorio» al top, new entry «Impronte»'}, 'categories': {'parser': 'url', 'exists': 0}, 'icon': 'http://www.ecodibergamo.it/site_media_tribe_custom/static/images/favicon.ico'}</td>\n",
              "      <td>53248f1721ee</td>\n",
              "      <td>2019-11-08T00:00:02Z</td>\n",
              "      <td>0.0</td>\n",
              "      <td>1.0</td>\n",
              "      <td>187.0</td>\n",
              "      <td>0.0</td>\n",
              "      <td>11</td>\n",
              "      <td>4</td>\n",
              "      <td>stories/bergamo-citta</td>\n",
              "      <td>0</td>\n",
              "    </tr>\n",
              "    <tr>\n",
              "      <th>3</th>\n",
              "      <td>239.337.124.291</td>\n",
              "      <td>-</td>\n",
              "      <td>-</td>\n",
              "      <td>GET</td>\n",
              "      <td>200</td>\n",
              "      <td>43</td>\n",
              "      <td>https://www.ecodibergamo.it/stories/bassa-bergamasca/treviglio-chiedono-reddito-di-cittadinanzama-nei-nostri-registri-risultano-def_1327223_11/</td>\n",
              "      <td>133.81.301.216</td>\n",
              "      <td>{'browser': {'family': 'Chrome', 'version': '78.0.3904.70', 'major_version': 78}, 'os': {'family': 'Windows', 'version': '7', 'major_version': 7}, 'device': 'Other'}</td>\n",
              "      <td>2019-11-08T00:00:03.000000000Z</td>\n",
              "      <td>Chrome</td>\n",
              "      <td>pc</td>\n",
              "      <td>Windows 7</td>\n",
              "      <td>False</td>\n",
              "      <td>{'stm': '1573170677706', 'e': 'pv', 'url': 'https://www.ecodibergamo.it/stories/bassa-bergamasca/treviglio-chiedono-reddito-di-cittadinanzama-nei-nostri-registri-risultano-def_1327223_11/', 'page': 'Treviglio, ricevono reddito di cittadinanza «Ma nei nostri registri risultano defunti» - Bassa Bergamasca Bergamo', 'refr': 'https://www.ecodibergamo.it/', 'tv': 'js-2.11.0', 'tna': 'cf', 'aid': 'SB-de77ae02-a351-11e7-879c-28cfe91d3e21', 'p': 'web', 'tz': 'Europe/Berlin', 'lang': 'it-IT', 'cs': 'UTF-8', 'f_pdf': '1', 'f_qt': '0', 'f_realp': '0', 'f_wma': '0', 'f_dir': '0', 'f_fla': '0', 'f_java': '0', 'f_gears': '0', 'f_ag': '0', 'res': '1920x1200', 'cd': '24', 'cookie': '1', 'eid': 'ee173ea4-157e-4693-9223-5b4fc9c8e3de', 'dtm': '1573170677704', 'vp': '1920x1097', 'ds': '1903x3503', 'vid': '1', 'sid': '6d95b68b-8ff2-4aa9-901a-cc44114dc613', 'duid': '8761d8af-133e-4786-ac08-94474c60962f', 'fp': '306408382'}</td>\n",
              "      <td>7c6c8781197c</td>\n",
              "      <td>00bb3d6e2dc4de820e4f61122af37779</td>\n",
              "      <td>{'user': {'id': 'MjIzMTk0ODI3OTkyaTE0MDJzMDF0d2djdXY2MGF4bWtjaWM3emVodmxzaA==_test', 'profile': {'type': 'anonymous'}}}</td>\n",
              "      <td>{'content_words_count': 258, 'description': '\n",
              "            Tre casi scoperti dal Comune di Treviglio grazie ai controlli sull’anagrafica delle richieste di reddito di cittadinanza.\n",
              "        ', 'providers': {'bitly': None}, 'ai': {'classification': {'source': 'html.content', 'predictions': [{'probability': 0.26921659708023005, 'label': 'Society'}, {'probability': 0.12455938011407801, 'label': 'Economy, Business And Finance'}, {'probability': 0.12127859890460901, 'label': 'Labour'}, {'probability': 0.08527283370494801, 'label': 'Crime, Law And Justice'}]}, 'classification_standard': {'source': 'html.content', 'predictions': [{'probability': 0.26921659708023005, 'label': 'Società'}, {'probability': 0.12455938011407801, 'label': 'Economia'}, {'probability': 0.12127859890460901, 'label': 'Lavoro'}]}}, 'image': {'monochromatic': 0, 'name': 'image', 'field': 'url', 'url': 'https://lightstorage.ecodibergamo.it/mediaon/cms.quotidiani/storage/site_media/media/photologue/2019/11/6/photos/cache/treviglio-chiesto-reddito-di-cittadinanzama-nei-nostri-registri-risultano_e2d3ebe2-013d-11ea-9e55-06f3cf178575_512_512_new_square_large.jpg', 'height': '397', 'width': '998', 'version': '2', 'type': 'image/jpeg', 'id': '00bb3d6e2dc4de820e4f61122af37779'}, 'title': 'Treviglio, chiesto reddito di cittadinanza «Ma nei nostri registri risultano defunti»', '_tags': [], 'keywords': ['\n",
              "\n",
              "\n",
              "\n",
              "\n",
              "\n",
              "\n",
              "\n",
              "\n",
              "\n",
              "\n",
              "                \n",
              "\n",
              "'], 'content_chars_count': 1826, '_city': 'Bergamo,Treviglio', 'type': 'article', 'twitter': {'site': '@webecodibergamo', 'field': 'site', 'name': 'twitter', 'card': 'summary_large_image', 'title': 'Treviglio, chiesto reddito di cittadinanza «Ma nei nostri registri risultano defunti»'}, 'categories': {'parser': 'url', 'exists': 0}, 'icon': 'http://www.ecodibergamo.it/site_media_tribe_custom/static/images/favicon.ico'}</td>\n",
              "      <td>53248f1721ee</td>\n",
              "      <td>2019-11-08T00:00:03Z</td>\n",
              "      <td>4.0</td>\n",
              "      <td>0.0</td>\n",
              "      <td>163.0</td>\n",
              "      <td>0.0</td>\n",
              "      <td>11</td>\n",
              "      <td>4</td>\n",
              "      <td>stories/bassa-bergamasca</td>\n",
              "      <td>1</td>\n",
              "    </tr>\n",
              "    <tr>\n",
              "      <th>4</th>\n",
              "      <td>91.182.8.154</td>\n",
              "      <td>-</td>\n",
              "      <td>-</td>\n",
              "      <td>GET</td>\n",
              "      <td>200</td>\n",
              "      <td>43</td>\n",
              "      <td>https://www.ecodibergamo.it/stories/bergamo-citta/il-natale-a-bergamo-dal-24-novembreal-via-la-ruota-panoramica-in-centro_1327082_11/</td>\n",
              "      <td>235.176.197.323</td>\n",
              "      <td>{'browser': {'family': 'Chrome Mobile', 'version': '78.0.3904.96', 'major_version': 78}, 'os': {'family': 'Android', 'version': '9', 'major_version': 9}, 'device': 'Generic Smartphone'}</td>\n",
              "      <td>2019-11-08T00:00:04.000000000Z</td>\n",
              "      <td>Chrome</td>\n",
              "      <td>smartphone</td>\n",
              "      <td>Android</td>\n",
              "      <td>False</td>\n",
              "      <td>{'stm': '1573171203560', 'e': 'pv', 'url': 'https://www.ecodibergamo.it/stories/bergamo-citta/il-natale-a-bergamo-dal-24-novembreal-via-la-ruota-panoramica-in-centro_1327082_11/', 'page': 'Il Natale a Bergamo? Dal 24 novembre Ruota panoramica e festa in centro - Bergamo città Bergamo', 'tv': 'js-2.11.0', 'tna': 'cf', 'aid': 'SB-de77ae02-a351-11e7-879c-28cfe91d3e21', 'p': 'web', 'tz': 'Europe/Berlin', 'lang': 'pt-BR', 'cs': 'UTF-8', 'res': '360x840', 'cd': '24', 'cookie': '1', 'eid': '0b6878dd-cf6e-454e-8fcb-a59fc70146a5', 'dtm': '1573171203554', 'vp': '360x649', 'ds': '360x5541', 'vid': '1', 'sid': '6ac297cc-440a-4fba-afd7-16a03b1a8069', 'duid': '37270daf-382a-44cf-95e0-a4c5383aea0c', 'fp': '4294229985'}</td>\n",
              "      <td>7c6c8781197c</td>\n",
              "      <td>5be523c26c14b27ab55b04321d954402</td>\n",
              "      <td>{'user': {'id': 'MjU2MzU0NDAxODZ5NTR1NmNydm01cmZtaTZ4c2h0OWp0MmQyeHIwOXQ5Yg==_test', 'profile': {'type': 'anonymous'}}}</td>\n",
              "      <td>{'content_words_count': 256, 'description': '\n",
              "            Un evento in Fb ed è così svelata la data di inizio del Natale di Bergamo: il 24 novembre si accenderà l’albero che sarà montato e allestito in pieno centro. Con una festa organizzata dai commercianti che darà il via al Natale bergamasco: ci sarà anche la tanto attesa ruota panoramica.\n",
              "        ', 'providers': {'bitly': None}, 'ai': {'classification': {'source': 'html.content', 'predictions': [{'predictions': [{'probability': 0.30663663148880005, 'label': 'Tourism &amp; Travel'}], 'probability': 0.120415613055229, 'label': 'Leisure'}, {'probability': 0.094894602894783, 'label': 'Religion'}, {'probability': 0.082414723932743, 'label': 'People'}, {'probability': 0.082266397774219, 'label': 'Society'}]}, 'classification_standard': {'source': 'html.content', 'predictions': [{'predictions': [{'probability': 0.30663663148880005, 'label': 'Tourism &amp; Travel'}], 'probability': 0.120415613055229, 'label': 'Tempo Libero'}]}}, 'image': {'monochromatic': 0, 'name': 'image', 'field': 'url', 'url': 'https://lightstorage.ecodibergamo.it/mediaon/cms.quotidiani/storage/site_media/media/photologue/2019/10/28/photos/cache/il-natale-a-bergamo-dal-24-novembreruota-panoramica-e-festa-in-centro_49a52e22-0016-11ea-a610-ef245efbdc4e_512_512_new_square_large.jpg', 'height': '397', 'width': '998', 'version': '2', 'type': 'image/jpeg', 'id': '5be523c26c14b27ab55b04321d954402'}, 'title': 'Il Natale a Bergamo? Dal 24 novembre Ruota panoramica e festa in centro', '_tags': [], 'keywords': ['\n",
              "\n",
              "\n",
              "\n",
              "\n",
              "\n",
              "\n",
              "\n",
              "\n",
              "\n",
              "\n",
              "                \n",
              "\n",
              "'], 'content_chars_count': 1682, '_city': 'Bergamo', 'type': 'article', 'twitter': {'site': '@webecodibergamo', 'field': 'site', 'name': 'twitter', 'card': 'summary_large_image', 'title': 'Il Natale a Bergamo? Dal 24 novembre Ruota panoramica e festa in centro'}, 'categories': {'parser': 'url', 'exists': 0}, 'icon': 'http://www.ecodibergamo.it/site_media_tribe_custom/static/images/favicon.ico'}</td>\n",
              "      <td>53248f1721ee</td>\n",
              "      <td>2019-11-08T00:00:04Z</td>\n",
              "      <td>0.0</td>\n",
              "      <td>1.0</td>\n",
              "      <td>216.0</td>\n",
              "      <td>0.0</td>\n",
              "      <td>11</td>\n",
              "      <td>4</td>\n",
              "      <td>stories/bergamo-citta</td>\n",
              "      <td>0</td>\n",
              "    </tr>\n",
              "  </tbody>\n",
              "</table>\n",
              "</div>"
            ],
            "text/plain": [
              "            remote host user  ... weekday                       URL  cluster_num\n",
              "0  62.308.59.153    -    -    ...  4       website                   1          \n",
              "1  356.6.121.291    -    -    ...  4       website                   1          \n",
              "2  130.216.19.309   -    -    ...  4       stories/bergamo-citta     0          \n",
              "3  239.337.124.291  -    -    ...  4       stories/bassa-bergamasca  1          \n",
              "4  91.182.8.154     -    -    ...  4       stories/bergamo-citta     0          \n",
              "\n",
              "[5 rows x 29 columns]"
            ]
          },
          "metadata": {
            "tags": []
          },
          "execution_count": 258
        }
      ]
    },
    {
      "cell_type": "code",
      "metadata": {
        "colab": {
          "base_uri": "https://localhost:8080/",
          "height": 1000
        },
        "id": "HedgeF448sDi",
        "outputId": "fb8839d6-e6d3-4e4c-b6e7-3b5c7d4290a8"
      },
      "source": [
        "df_ = df[df['agent_os']=='iPhone']\n",
        "df_"
      ],
      "execution_count": 259,
      "outputs": [
        {
          "output_type": "execute_result",
          "data": {
            "text/html": [
              "<div>\n",
              "<style scoped>\n",
              "    .dataframe tbody tr th:only-of-type {\n",
              "        vertical-align: middle;\n",
              "    }\n",
              "\n",
              "    .dataframe tbody tr th {\n",
              "        vertical-align: top;\n",
              "    }\n",
              "\n",
              "    .dataframe thead th {\n",
              "        text-align: right;\n",
              "    }\n",
              "</style>\n",
              "<table border=\"1\" class=\"dataframe\">\n",
              "  <thead>\n",
              "    <tr style=\"text-align: right;\">\n",
              "      <th></th>\n",
              "      <th>remote</th>\n",
              "      <th>host</th>\n",
              "      <th>user</th>\n",
              "      <th>method</th>\n",
              "      <th>code</th>\n",
              "      <th>size</th>\n",
              "      <th>referer</th>\n",
              "      <th>http_x_forwarded_for</th>\n",
              "      <th>ua</th>\n",
              "      <th>created</th>\n",
              "      <th>agent_name</th>\n",
              "      <th>agent_category</th>\n",
              "      <th>agent_os</th>\n",
              "      <th>referer_known</th>\n",
              "      <th>uri</th>\n",
              "      <th>hostname</th>\n",
              "      <th>uri_url_hash</th>\n",
              "      <th>injected</th>\n",
              "      <th>enrich</th>\n",
              "      <th>event_tag</th>\n",
              "      <th>time</th>\n",
              "      <th>agent_os_new</th>\n",
              "      <th>agent_category_new</th>\n",
              "      <th>referer_new</th>\n",
              "      <th>agent_name_new</th>\n",
              "      <th>month</th>\n",
              "      <th>weekday</th>\n",
              "      <th>URL</th>\n",
              "      <th>cluster_num</th>\n",
              "    </tr>\n",
              "  </thead>\n",
              "  <tbody>\n",
              "    <tr>\n",
              "      <th>23</th>\n",
              "      <td>228.183.279.374</td>\n",
              "      <td>-</td>\n",
              "      <td>-</td>\n",
              "      <td>GET</td>\n",
              "      <td>200</td>\n",
              "      <td>43</td>\n",
              "      <td>https://www.ecodibergamo.it/</td>\n",
              "      <td>250.16.388.205</td>\n",
              "      <td>{'browser': {'family': 'Mobile Safari', 'version': '13.0.1', 'major_version': 13}, 'os': {'family': 'iOS', 'version': '13.1.2', 'major_version': 13}, 'device': 'iPhone'}</td>\n",
              "      <td>2019-11-08T00:00:09.000000000Z</td>\n",
              "      <td>Safari</td>\n",
              "      <td>smartphone</td>\n",
              "      <td>iPhone</td>\n",
              "      <td>False</td>\n",
              "      <td>{'stm': '1573171209113', 'e': 'pv', 'url': 'https://www.ecodibergamo.it/', 'page': 'L'Eco di Bergamo - Notizie di Bergamo e provincia', 'tv': 'js-2.11.0', 'tna': 'cf', 'aid': 'SB-de77ae02-a351-11e7-879c-28cfe91d3e21', 'p': 'web', 'tz': 'Europe/Berlin', 'lang': 'it-IT', 'cs': 'UTF-8', 'res': '375x812', 'cd': '32', 'cookie': '1', 'eid': '42f42fbf-5228-4ce2-850a-b6816417321c', 'dtm': '1573171209111', 'vp': '724x375', 'ds': '724x7365', 'vid': '1', 'sid': 'e9eb2ca0-d4d2-4814-9af3-1e19555859b9', 'duid': '62f88041-938f-494f-bfc1-59783f4e21da', 'fp': '3468495887'}</td>\n",
              "      <td>7c6c8781197c</td>\n",
              "      <td>7e452fb177e15e229756b1fff4a6f5bc</td>\n",
              "      <td>{'user': {'id': 'MTk4MzE1OTMwNDUxajN4enNnNnY3MzB1bWZveTkwaGY1YTQ3Mmp5azV2Ng==_test', 'profile': {'type': 'anonymous'}}}</td>\n",
              "      <td>{}</td>\n",
              "      <td>53248f1721ee</td>\n",
              "      <td>2019-11-08T00:00:09Z</td>\n",
              "      <td>10.0</td>\n",
              "      <td>1.0</td>\n",
              "      <td>1.0</td>\n",
              "      <td>5.0</td>\n",
              "      <td>11</td>\n",
              "      <td>4</td>\n",
              "      <td>website</td>\n",
              "      <td>3</td>\n",
              "    </tr>\n",
              "    <tr>\n",
              "      <th>46</th>\n",
              "      <td>242.398.271.345</td>\n",
              "      <td>-</td>\n",
              "      <td>-</td>\n",
              "      <td>GET</td>\n",
              "      <td>200</td>\n",
              "      <td>43</td>\n",
              "      <td>https://www.ecodibergamo.it/stories/Isola/frecciarossa-laccoltellatore-lavorava-per-una-ditta-bergamasca-sara-licenziat_1327304_11/</td>\n",
              "      <td>257.213.157.33</td>\n",
              "      <td>{'browser': {'family': 'Mobile Safari', 'version': '13.0.1', 'major_version': 13}, 'os': {'family': 'iOS', 'version': '13.1.2', 'major_version': 13}, 'device': 'iPhone'}</td>\n",
              "      <td>2019-11-08T00:00:17.000000000Z</td>\n",
              "      <td>Safari</td>\n",
              "      <td>smartphone</td>\n",
              "      <td>iPhone</td>\n",
              "      <td>False</td>\n",
              "      <td>{'stm': '1573171217574', 'e': 'pv', 'url': 'https://www.ecodibergamo.it/stories/Isola/frecciarossa-laccoltellatore-lavorava-per-una-ditta-bergamasca-sara-licenziat_1327304_11/', 'page': 'Frecciarossa, l’accoltellatore lavorava per una ditta bergamasca: sarà licenziato - Isola Capriate San Gervasio', 'tv': 'js-2.11.0', 'tna': 'cf', 'aid': 'SB-de77ae02-a351-11e7-879c-28cfe91d3e21', 'p': 'web', 'tz': 'Europe/Berlin', 'lang': 'it-IT', 'cs': 'UTF-8', 'res': '375x812', 'cd': '32', 'cookie': '1', 'eid': 'c9b28ff4-ae18-4df3-a9cd-969b7e61c2c9', 'dtm': '1573171217574', 'vp': '812x999', 'ds': '812x5748', 'vid': '1', 'sid': 'e9eb2ca0-d4d2-4814-9af3-1e19555859b9', 'duid': '62f88041-938f-494f-bfc1-59783f4e21da', 'fp': '3468495887'}</td>\n",
              "      <td>7c6c8781197c</td>\n",
              "      <td>325e43bac506792812119d89c81edaf2</td>\n",
              "      <td>{'user': {'id': 'MTk4MzE1OTMwNDUxajN4enNnNnY3MzB1bWZveTkwaGY1YTQ3Mmp5azV2Ng==_test', 'profile': {'type': 'anonymous'}}}</td>\n",
              "      <td>{'content_words_count': 560, 'description': '\n",
              "            Domenico Foti, fermato per aver ferito l’ex compagna sul treno Torino-Roma giovedì 7 novembre, era in forza  alla «Dussmann Service» di Capriate San Gervasio, che effettua le pulizie a bordo dei  treni ad alta velocità. La società: «Ci dissociamo senza riserve dal comportamento del dipendente, tutte le pratiche necessarie al suo licenziamento immediato sono già state avviate».\n",
              "        ', 'providers': {'bitly': None}, 'ai': {'classification': {'source': 'html.content', 'predictions': [{'probability': 0.6169639229774471, 'label': 'Crime, Law And Justice'}, {'probability': 0.11520556360483102, 'label': 'Disaster, Accident And Emergency'}]}, 'classification_standard': {'source': 'html.content', 'predictions': [{'probability': 0.6169639229774471, 'label': 'Cronaca'}]}}, 'image': {'monochromatic': 0, 'name': 'image', 'field': 'url', 'url': 'https://lightstorage.ecodibergamo.it/mediaon/cms.quotidiani/storage/site_media/media/photologue/2019/11/6/photos/cache/frecciarossa-laccoltellatore-lavorava-per-una-ditta-bergamasca-sara-lice_cf189fd6-0191-11ea-9e55-06f3cf178575_512_512_new_square_large.jpg', 'height': '397', 'width': '998', 'version': '2', 'type': 'image/jpeg', 'id': '325e43bac506792812119d89c81edaf2'}, 'title': 'Frecciarossa, l’accoltellatore lavorava  per una ditta bergamasca: sarà licenziato', '_tags': [], 'keywords': ['\n",
              "\n",
              "\n",
              "\n",
              "\n",
              "\n",
              "\n",
              "\n",
              "\n",
              "\n",
              "\n",
              "                \n",
              "\n",
              "'], 'content_chars_count': 3718, '_city': 'Capriate San Gervasio', 'type': 'article', 'twitter': {'site': '@webecodibergamo', 'field': 'site', 'name': 'twitter', 'card': 'summary_large_image', 'title': 'Frecciarossa, l’accoltellatore lavorava  per una ditta bergamasca: sarà licenziato'}, 'categories': {'parser': 'url', 'exists': 0}, 'icon': 'http://www.ecodibergamo.it/site_media_tribe_custom/static/images/favicon.ico'}</td>\n",
              "      <td>53248f1721ee</td>\n",
              "      <td>2019-11-08T00:00:17Z</td>\n",
              "      <td>10.0</td>\n",
              "      <td>1.0</td>\n",
              "      <td>125.0</td>\n",
              "      <td>5.0</td>\n",
              "      <td>11</td>\n",
              "      <td>4</td>\n",
              "      <td>stories/Isola</td>\n",
              "      <td>3</td>\n",
              "    </tr>\n",
              "    <tr>\n",
              "      <th>63</th>\n",
              "      <td>323.91.153.215</td>\n",
              "      <td>-</td>\n",
              "      <td>-</td>\n",
              "      <td>GET</td>\n",
              "      <td>200</td>\n",
              "      <td>43</td>\n",
              "      <td>https://www.ecodibergamo.it/</td>\n",
              "      <td>240.208.295.364</td>\n",
              "      <td>{'browser': {'family': 'Mobile Safari', 'version': '10.0', 'major_version': 10}, 'os': {'family': 'iOS', 'version': '10.3.4', 'major_version': 10}, 'device': 'iPhone'}</td>\n",
              "      <td>2019-11-08T00:00:26.000000000Z</td>\n",
              "      <td>Safari</td>\n",
              "      <td>smartphone</td>\n",
              "      <td>iPhone</td>\n",
              "      <td>False</td>\n",
              "      <td>{'stm': '1573171225517', 'e': 'pv', 'url': 'https://www.ecodibergamo.it/', 'page': 'L'Eco di Bergamo - Notizie di Bergamo e provincia', 'tv': 'js-2.11.0', 'tna': 'cf', 'aid': 'SB-de77ae02-a351-11e7-879c-28cfe91d3e21', 'p': 'web', 'tz': 'Europe/Berlin', 'lang': 'it-IT', 'cs': 'UTF-8', 'res': '320x568', 'cd': '32', 'cookie': '1', 'eid': '63705c11-f408-4600-89c3-5b22e5a746ba', 'dtm': '1573105251217', 'vp': '320x460', 'ds': '320x10436', 'vid': '1', 'sid': 'ce284492-92bf-4930-90ac-297b090b862f', 'duid': '4e6da342-8911-41df-aecd-db47a43f3353', 'fp': '4024189600'}</td>\n",
              "      <td>7c6c8781197c</td>\n",
              "      <td>7e452fb177e15e229756b1fff4a6f5bc</td>\n",
              "      <td>{'user': {'id': 'NjI4NzI1OTA0MjBvbGp0Z3R3MmNzYWV5OTY4cWVvbHdwd3dsaHZhaDU4ZA==_test', 'metadata': {}, 'profile': {}, 'behavior': {}, 'clusters': {'list': []}}}</td>\n",
              "      <td>{}</td>\n",
              "      <td>53248f1721ee</td>\n",
              "      <td>2019-11-08T00:00:26Z</td>\n",
              "      <td>10.0</td>\n",
              "      <td>1.0</td>\n",
              "      <td>1.0</td>\n",
              "      <td>5.0</td>\n",
              "      <td>11</td>\n",
              "      <td>4</td>\n",
              "      <td>website</td>\n",
              "      <td>3</td>\n",
              "    </tr>\n",
              "    <tr>\n",
              "      <th>64</th>\n",
              "      <td>136.143.123.54</td>\n",
              "      <td>-</td>\n",
              "      <td>-</td>\n",
              "      <td>GET</td>\n",
              "      <td>200</td>\n",
              "      <td>43</td>\n",
              "      <td>https://www.ecodibergamo.it/</td>\n",
              "      <td>223.140.311.5</td>\n",
              "      <td>{'browser': {'family': 'Mobile Safari', 'version': '10.0', 'major_version': 10}, 'os': {'family': 'iOS', 'version': '10.3.4', 'major_version': 10}, 'device': 'iPhone'}</td>\n",
              "      <td>2019-11-08T00:00:26.000000000Z</td>\n",
              "      <td>Safari</td>\n",
              "      <td>smartphone</td>\n",
              "      <td>iPhone</td>\n",
              "      <td>False</td>\n",
              "      <td>{'stm': '1573171226028', 'e': 'pv', 'url': 'https://www.ecodibergamo.it/', 'page': 'L'Eco di Bergamo - Notizie di Bergamo e provincia', 'tv': 'js-2.11.0', 'tna': 'cf', 'aid': 'SB-de77ae02-a351-11e7-879c-28cfe91d3e21', 'p': 'web', 'tz': 'Europe/Berlin', 'lang': 'it-IT', 'cs': 'UTF-8', 'res': '320x568', 'cd': '32', 'cookie': '1', 'eid': 'f6cbdf99-2079-4164-ac20-43c9ef733a7d', 'dtm': '1573171225507', 'vp': '320x460', 'ds': '320x9928', 'vid': '2', 'sid': '9f6230df-c98b-4f73-837b-d2b198109618', 'duid': '4e6da342-8911-41df-aecd-db47a43f3353', 'fp': '4024189600'}</td>\n",
              "      <td>7c6c8781197c</td>\n",
              "      <td>7e452fb177e15e229756b1fff4a6f5bc</td>\n",
              "      <td>{'user': {'id': 'MzA1MDc5ODc3NTRvbGp0Z3R3MmNzYWV5OTY4cWVvbHdwd3dsaHZhaDU4ZA==_test', 'profile': {'type': 'anonymous'}}}</td>\n",
              "      <td>{}</td>\n",
              "      <td>53248f1721ee</td>\n",
              "      <td>2019-11-08T00:00:26Z</td>\n",
              "      <td>10.0</td>\n",
              "      <td>1.0</td>\n",
              "      <td>1.0</td>\n",
              "      <td>5.0</td>\n",
              "      <td>11</td>\n",
              "      <td>4</td>\n",
              "      <td>website</td>\n",
              "      <td>3</td>\n",
              "    </tr>\n",
              "    <tr>\n",
              "      <th>73</th>\n",
              "      <td>266.331.302.98</td>\n",
              "      <td>-</td>\n",
              "      <td>-</td>\n",
              "      <td>GET</td>\n",
              "      <td>200</td>\n",
              "      <td>43</td>\n",
              "      <td>https://www.ecodibergamo.it/stories/bergamo-citta/seggiolini-anti-abbandono-per-i-bimbisi-va-verso-il-rinvio-delle-sanzioni_1327287_11/</td>\n",
              "      <td>362.96.361.128</td>\n",
              "      <td>{'browser': {'family': 'Mobile Safari', 'version': '13.0.1', 'major_version': 13}, 'os': {'family': 'iOS', 'version': '13.1.3', 'major_version': 13}, 'device': 'iPhone'}</td>\n",
              "      <td>2019-11-08T00:00:32.000000000Z</td>\n",
              "      <td>Safari</td>\n",
              "      <td>smartphone</td>\n",
              "      <td>iPhone</td>\n",
              "      <td>False</td>\n",
              "      <td>{'stm': '1573171232049', 'e': 'pv', 'url': 'https://www.ecodibergamo.it/stories/bergamo-citta/seggiolini-anti-abbandono-per-i-bimbisi-va-verso-il-rinvio-delle-sanzioni_1327287_11/', 'page': 'Seggiolini, verso il rinvio delle sanzioni Il ministro: su di me sassaiola di whatsapp - Bergamo città Bergamo', 'refr': 'https://www.google.it/', 'tv': 'js-2.11.0', 'tna': 'cf', 'aid': 'SB-de77ae02-a351-11e7-879c-28cfe91d3e21', 'p': 'web', 'tz': 'Europe/Berlin', 'lang': 'it-IT', 'cs': 'UTF-8', 'res': '414x736', 'cd': '32', 'cookie': '1', 'eid': 'bbdc11a7-faaf-4da4-aeef-7fc1ef7263fe', 'dtm': '1573171232047', 'vp': '414x622', 'ds': '414x5796', 'vid': '1', 'sid': '850b572c-0f6b-4560-b9d8-37c44b280bdf', 'duid': '2c4f5d81-02bf-48ac-b4ee-e902e70a45e0', 'fp': '1834443894'}</td>\n",
              "      <td>7c6c8781197c</td>\n",
              "      <td>665549bda6774d439f401067e2fad789</td>\n",
              "      <td>{'user': {'id': 'MTY1NzkwNDk1NjR2c3B5cWF4MWpsaDJsaGNnM2R3NmtwZWFvaDNvemNoaw==_test', 'profile': {'type': 'anonymous'}}}</td>\n",
              "      <td>{'content_words_count': 518, 'description': '\n",
              "            Il ministro dei Trasporti, De Micheli: «C’è la disponibilità del governo e dell’intera maggioranza a intervenire per posticipare l’applicazione delle sanzioni». L’Aci: il provvedimento riguarderà 1,8 milioni di bambini, sul mercato da qui a Natale saranno disponibili alla vendita solo 250 mila seggiolini.\n",
              "        ', 'providers': {'bitly': None}, 'ai': {'classification': {'source': 'html.content', 'predictions': [{'probability': 0.238568857312202, 'label': 'Politics'}, {'probability': 0.18445795774459803, 'label': 'Economy, Business And Finance'}, {'probability': 0.17892180383205403, 'label': 'Society'}]}, 'classification_standard': {'source': 'html.content', 'predictions': [{'probability': 0.238568857312202, 'label': 'Politica'}, {'probability': 0.18445795774459803, 'label': 'Economia'}, {'probability': 0.17892180383205403, 'label': 'Società'}]}}, 'image': {'monochromatic': 0, 'name': 'image', 'field': 'url', 'url': 'https://lightstorage.ecodibergamo.it/mediaon/cms.quotidiani/storage/site_media/media/photologue/2019/11/6/photos/cache/seggiolini-anti-abbandono-per-i-bimbisi-va-verso-il-rinvio-delle-sanzioni_c7c6dd16-0181-11ea-9e55-06f3cf178575_512_512_new_square_large.jpg', 'height': '397', 'width': '998', 'version': '2', 'type': 'image/jpeg', 'id': '665549bda6774d439f401067e2fad789'}, 'title': 'Seggiolini anti-abbandono per i bimbi Si va verso il rinvio delle sanzioni', '_tags': [], 'keywords': ['\n",
              "\n",
              "\n",
              "\n",
              "\n",
              "\n",
              "\n",
              "\n",
              "\n",
              "\n",
              "\n",
              "                \n",
              "\n",
              "'], 'content_chars_count': 3553, '_city': 'Bergamo', 'type': 'article', 'twitter': {'site': '@webecodibergamo', 'field': 'site', 'name': 'twitter', 'card': 'summary_large_image', 'title': 'Seggiolini anti-abbandono per i bimbi Si va verso il rinvio delle sanzioni'}, 'categories': {'parser': 'url', 'exists': 0}, 'icon': 'http://www.ecodibergamo.it/site_media_tribe_custom/static/images/favicon.ico'}</td>\n",
              "      <td>53248f1721ee</td>\n",
              "      <td>2019-11-08T00:00:32Z</td>\n",
              "      <td>10.0</td>\n",
              "      <td>1.0</td>\n",
              "      <td>254.0</td>\n",
              "      <td>5.0</td>\n",
              "      <td>11</td>\n",
              "      <td>4</td>\n",
              "      <td>stories/bergamo-citta</td>\n",
              "      <td>3</td>\n",
              "    </tr>\n",
              "    <tr>\n",
              "      <th>...</th>\n",
              "      <td>...</td>\n",
              "      <td>...</td>\n",
              "      <td>...</td>\n",
              "      <td>...</td>\n",
              "      <td>...</td>\n",
              "      <td>...</td>\n",
              "      <td>...</td>\n",
              "      <td>...</td>\n",
              "      <td>...</td>\n",
              "      <td>...</td>\n",
              "      <td>...</td>\n",
              "      <td>...</td>\n",
              "      <td>...</td>\n",
              "      <td>...</td>\n",
              "      <td>...</td>\n",
              "      <td>...</td>\n",
              "      <td>...</td>\n",
              "      <td>...</td>\n",
              "      <td>...</td>\n",
              "      <td>...</td>\n",
              "      <td>...</td>\n",
              "      <td>...</td>\n",
              "      <td>...</td>\n",
              "      <td>...</td>\n",
              "      <td>...</td>\n",
              "      <td>...</td>\n",
              "      <td>...</td>\n",
              "      <td>...</td>\n",
              "      <td>...</td>\n",
              "    </tr>\n",
              "    <tr>\n",
              "      <th>3824</th>\n",
              "      <td>63.120.123.34</td>\n",
              "      <td>-</td>\n",
              "      <td>-</td>\n",
              "      <td>GET</td>\n",
              "      <td>200</td>\n",
              "      <td>43</td>\n",
              "      <td>https://www.ecodibergamo.it/</td>\n",
              "      <td>31.299.206.269</td>\n",
              "      <td>{'browser': {'family': 'Mobile Safari', 'version': '13.0.1', 'major_version': 13}, 'os': {'family': 'iOS', 'version': '13.1.3', 'major_version': 13}, 'device': 'iPhone'}</td>\n",
              "      <td>2019-11-08T00:46:14.000000000Z</td>\n",
              "      <td>Safari</td>\n",
              "      <td>smartphone</td>\n",
              "      <td>iPhone</td>\n",
              "      <td>False</td>\n",
              "      <td>{'stm': '1573173974421', 'e': 'pv', 'url': 'https://www.ecodibergamo.it/', 'page': 'L'Eco di Bergamo - Notizie di Bergamo e provincia', 'refr': 'https://www.ecodibergamo.it/', 'tv': 'js-2.11.0', 'tna': 'cf', 'aid': 'SB-de77ae02-a351-11e7-879c-28cfe91d3e21', 'p': 'web', 'tz': 'Europe/Berlin', 'lang': 'it-IT', 'cs': 'UTF-8', 'res': '375x667', 'cd': '32', 'cookie': '1', 'eid': '27c59ef2-5eaa-4f9a-bf48-ee2e872b2227', 'dtm': '1573097608415', 'vp': '375x553', 'ds': '375x9758', 'vid': '4', 'sid': '7fb92313-36eb-4529-8e80-208c48ed3c4e', 'duid': '93adf624-a482-425b-b599-bf99c2aa74cf', 'fp': '2986227767'}</td>\n",
              "      <td>7c6c8781197c</td>\n",
              "      <td>7e452fb177e15e229756b1fff4a6f5bc</td>\n",
              "      <td>{'user': {'id': 'MTE2MDYxODgwNjBhdWlvNm1idjZ5cDN0MTN2MmhhMHpjYm0ydWlrdGUwMg==_test', 'metadata': {}, 'profile': {}, 'behavior': {}, 'clusters': {'list': []}}}</td>\n",
              "      <td>{}</td>\n",
              "      <td>53248f1721ee</td>\n",
              "      <td>2019-11-08T00:46:14Z</td>\n",
              "      <td>10.0</td>\n",
              "      <td>1.0</td>\n",
              "      <td>1.0</td>\n",
              "      <td>5.0</td>\n",
              "      <td>11</td>\n",
              "      <td>4</td>\n",
              "      <td>website</td>\n",
              "      <td>3</td>\n",
              "    </tr>\n",
              "    <tr>\n",
              "      <th>3825</th>\n",
              "      <td>279.381.154.303</td>\n",
              "      <td>-</td>\n",
              "      <td>-</td>\n",
              "      <td>GET</td>\n",
              "      <td>200</td>\n",
              "      <td>43</td>\n",
              "      <td>https://www.ecodibergamo.it/</td>\n",
              "      <td>60.31.246.165</td>\n",
              "      <td>{'browser': {'family': 'Mobile Safari', 'version': '13.0.1', 'major_version': 13}, 'os': {'family': 'iOS', 'version': '13.1.3', 'major_version': 13}, 'device': 'iPhone'}</td>\n",
              "      <td>2019-11-08T00:46:14.000000000Z</td>\n",
              "      <td>Safari</td>\n",
              "      <td>smartphone</td>\n",
              "      <td>iPhone</td>\n",
              "      <td>False</td>\n",
              "      <td>{'stm': '1573173974488', 'e': 'pv', 'url': 'https://www.ecodibergamo.it/', 'page': 'L'Eco di Bergamo - Notizie di Bergamo e provincia', 'refr': 'https://www.ecodibergamo.it/', 'tv': 'js-2.11.0', 'tna': 'cf', 'aid': 'SB-de77ae02-a351-11e7-879c-28cfe91d3e21', 'p': 'web', 'tz': 'Europe/Berlin', 'lang': 'it-IT', 'cs': 'UTF-8', 'res': '375x667', 'cd': '32', 'cookie': '1', 'eid': '539084aa-ec2c-4193-b315-832eb1371949', 'dtm': '1573173973072', 'vp': '375x628', 'ds': '375x10531', 'vid': '5', 'sid': '9dabf00d-3676-4441-89e1-439a16bb8b72', 'duid': '93adf624-a482-425b-b599-bf99c2aa74cf', 'fp': '2986227767'}</td>\n",
              "      <td>7c6c8781197c</td>\n",
              "      <td>7e452fb177e15e229756b1fff4a6f5bc</td>\n",
              "      <td>{'user': {'id': 'MTI5NTYzNDU4NDFhdWlvNm1idjZ5cDN0MTN2MmhhMHpjYm0ydWlrdGUwMg==_test', 'profile': {'type': 'anonymous'}}}</td>\n",
              "      <td>{}</td>\n",
              "      <td>53248f1721ee</td>\n",
              "      <td>2019-11-08T00:46:14Z</td>\n",
              "      <td>10.0</td>\n",
              "      <td>1.0</td>\n",
              "      <td>1.0</td>\n",
              "      <td>5.0</td>\n",
              "      <td>11</td>\n",
              "      <td>4</td>\n",
              "      <td>website</td>\n",
              "      <td>3</td>\n",
              "    </tr>\n",
              "    <tr>\n",
              "      <th>3847</th>\n",
              "      <td>126.278.205.145</td>\n",
              "      <td>-</td>\n",
              "      <td>-</td>\n",
              "      <td>GET</td>\n",
              "      <td>200</td>\n",
              "      <td>43</td>\n",
              "      <td>https://www.ecodibergamo.it/stories/bergamo-citta/assediati-dai-cinghialila-protesta-cala-a-roma_1327243_11/</td>\n",
              "      <td>284.292.264.254</td>\n",
              "      <td>{'browser': {'family': 'Mobile Safari UI/WKWebView', 'version': '12.4', 'major_version': 12}, 'os': {'family': 'iOS', 'version': '12.4', 'major_version': 12}, 'device': 'iPhone'}</td>\n",
              "      <td>2019-11-08T00:46:41.000000000Z</td>\n",
              "      <td>Webview</td>\n",
              "      <td>smartphone</td>\n",
              "      <td>iPhone</td>\n",
              "      <td>False</td>\n",
              "      <td>{'stm': '1573174000561', 'e': 'pv', 'url': 'https://www.ecodibergamo.it/stories/bergamo-citta/assediati-dai-cinghialila-protesta-cala-a-roma_1327243_11/', 'page': '«Assediati dai cinghiali» La protesta cala a Roma - Bergamo città Bergamo', 'refr': 'http://m.facebook.com', 'tv': 'js-2.11.0', 'tna': 'cf', 'aid': 'SB-de77ae02-a351-11e7-879c-28cfe91d3e21', 'p': 'web', 'tz': 'Europe/London', 'lang': 'en-GB', 'cs': 'UTF-8', 'res': '320x568', 'cd': '32', 'cookie': '1', 'eid': '0ecebc46-1606-4fe9-ad7a-0df2d2969cab', 'dtm': '1573174000555', 'vp': '320x460', 'ds': '320x6199', 'vid': '1', 'sid': '72368c7f-d766-4cdd-b6f4-a6d01ed27608', 'duid': 'b8c4f16a-f6fe-41ed-b465-b766db4dacf6', 'fp': '1469811871'}</td>\n",
              "      <td>7c6c8781197c</td>\n",
              "      <td>373d2378022adf307a92a0127bd2060e</td>\n",
              "      <td>{'user': {'id': 'NjE1MDA0MjgyNTVtNnVmYXlkMXU5eXl2bGhrNmxxazExMmVxNGppNGtvZg==_test', 'profile': {'type': 'anonymous'}}}</td>\n",
              "      <td>{'content_words_count': 425, 'description': '\n",
              "            L’emergenza: Coldiretti Bergamo giovedì 7 novembre sarà in piazza Montecitorio. «Distrutti campi e magri guadagni».\n",
              "        ', 'providers': {'bitly': None}, 'ai': {'classification': {'source': 'html.content', 'predictions': [{'probability': 0.15088902413845, 'label': 'Environment'}, {'probability': 0.130549386143684, 'label': 'Animals'}, {'probability': 0.09214891493320401, 'label': 'Society'}, {'probability': 0.089682437479496, 'label': 'Education'}, {'probability': 0.082310318946838, 'label': 'Economy, Business And Finance'}]}, 'classification_standard': {'source': 'html.content', 'predictions': [{'probability': 0.15088902413845, 'label': 'Ambiente'}, {'probability': 0.130549386143684, 'label': 'Animali'}]}}, 'image': {'monochromatic': 0, 'name': 'image', 'field': 'url', 'url': 'https://lightstorage.ecodibergamo.it/mediaon/cms.quotidiani/storage/site_media/media/photologue/2019/11/6/photos/cache/assediati-dai-cinghialila-protesta-cala-a-roma_a6b784b4-014e-11ea-9e55-06f3cf178575_512_512_new_square_large.jpg', 'height': '397', 'width': '998', 'version': '2', 'type': 'image/jpeg', 'id': '373d2378022adf307a92a0127bd2060e'}, 'title': '«Assediati dai cinghiali» La protesta cala a Roma', '_tags': [], 'keywords': ['\n",
              "\n",
              "\n",
              "\n",
              "\n",
              "\n",
              "\n",
              "\n",
              "\n",
              "\n",
              "\n",
              "                \n",
              "\n",
              "'], 'content_chars_count': 2892, '_city': 'Bergamo,Chiuduno,Grone,Leffe', 'type': 'article', 'twitter': {'site': '@webecodibergamo', 'field': 'site', 'name': 'twitter', 'card': 'summary_large_image', 'title': '«Assediati dai cinghiali» La protesta cala a Roma'}, 'categories': {'parser': 'url', 'exists': 0}, 'icon': 'http://www.ecodibergamo.it/site_media_tribe_custom/static/images/favicon.ico'}</td>\n",
              "      <td>53248f1721ee</td>\n",
              "      <td>2019-11-08T00:46:41Z</td>\n",
              "      <td>10.0</td>\n",
              "      <td>1.0</td>\n",
              "      <td>178.0</td>\n",
              "      <td>6.0</td>\n",
              "      <td>11</td>\n",
              "      <td>4</td>\n",
              "      <td>stories/bergamo-citta</td>\n",
              "      <td>3</td>\n",
              "    </tr>\n",
              "    <tr>\n",
              "      <th>3853</th>\n",
              "      <td>301.98.369.369</td>\n",
              "      <td>-</td>\n",
              "      <td>-</td>\n",
              "      <td>GET</td>\n",
              "      <td>200</td>\n",
              "      <td>43</td>\n",
              "      <td>https://www.ecodibergamo.it/stories/bergamo-citta/capriate-papa-di-26-anni-scomparsoritrovato-il-corpo-senza-vita-nelladda_1319866_11/</td>\n",
              "      <td>170.126.78.197</td>\n",
              "      <td>{'browser': {'family': 'Mobile Safari', 'version': '13.0.1', 'major_version': 13}, 'os': {'family': 'iOS', 'version': '13.1.3', 'major_version': 13}, 'device': 'iPhone'}</td>\n",
              "      <td>2019-11-08T00:46:44.000000000Z</td>\n",
              "      <td>Safari</td>\n",
              "      <td>smartphone</td>\n",
              "      <td>iPhone</td>\n",
              "      <td>False</td>\n",
              "      <td>{'stm': '1573174003531', 'e': 'pv', 'url': 'https://www.ecodibergamo.it/stories/bergamo-citta/capriate-papa-di-26-anni-scomparsoritrovato-il-corpo-senza-vita-nelladda_1319866_11/', 'page': 'Capriate, papà di 26 anni scomparso Ritrovato il corpo senza vita nell’Adda - Bergamo città Bergamo', 'refr': 'https://www.google.com/', 'tv': 'js-2.11.0', 'tna': 'cf', 'aid': 'SB-de77ae02-a351-11e7-879c-28cfe91d3e21', 'p': 'web', 'tz': 'America/Los_Angeles', 'lang': 'en-US', 'cs': 'UTF-8', 'res': '414x736', 'cd': '32', 'cookie': '1', 'eid': '48521468-4d16-4993-996c-0964e3ced8f1', 'dtm': '1573174003529', 'vp': '414x622', 'ds': '414x4101', 'vid': '1', 'sid': 'cb56f801-f81e-444d-8c1f-4de67d84e1b4', 'duid': 'fec8d383-f91e-4853-b498-f11d825f6c9c', 'fp': '4017138751'}</td>\n",
              "      <td>7c6c8781197c</td>\n",
              "      <td>4a03d2e6462d077945acee379f6988c2</td>\n",
              "      <td>0</td>\n",
              "      <td>{}</td>\n",
              "      <td>53248f1721ee</td>\n",
              "      <td>2019-11-08T00:46:44Z</td>\n",
              "      <td>10.0</td>\n",
              "      <td>1.0</td>\n",
              "      <td>194.0</td>\n",
              "      <td>5.0</td>\n",
              "      <td>11</td>\n",
              "      <td>4</td>\n",
              "      <td>stories/bergamo-citta</td>\n",
              "      <td>3</td>\n",
              "    </tr>\n",
              "    <tr>\n",
              "      <th>3854</th>\n",
              "      <td>283.4.127.197</td>\n",
              "      <td>-</td>\n",
              "      <td>-</td>\n",
              "      <td>GET</td>\n",
              "      <td>200</td>\n",
              "      <td>43</td>\n",
              "      <td>https://www.ecodibergamo.it/stories/Cronaca/neve-lezioni-sospese-in-sette-paesisi-attendono-le-decisioni-dei-sindaci_1103572_11/</td>\n",
              "      <td>325.14.206.64</td>\n",
              "      <td>{'browser': {'family': 'Mobile Safari', 'version': '13.0.1', 'major_version': 13}, 'os': {'family': 'iOS', 'version': '13.1.2', 'major_version': 13}, 'device': 'iPhone'}</td>\n",
              "      <td>2019-11-08T00:46:44.000000000Z</td>\n",
              "      <td>Safari</td>\n",
              "      <td>smartphone</td>\n",
              "      <td>iPhone</td>\n",
              "      <td>False</td>\n",
              "      <td>{'stm': '1573174003801', 'e': 'pv', 'url': 'https://www.ecodibergamo.it/stories/Cronaca/neve-lezioni-sospese-in-sette-paesisi-attendono-le-decisioni-dei-sindaci_1103572_11/', 'page': 'Neve, la decisione è dei sindaci: ecco i comuni con le scuole chiuse - Cronaca Bergamo', 'refr': 'https://www.google.it/', 'tv': 'js-2.11.0', 'tna': 'cf', 'aid': 'SB-de77ae02-a351-11e7-879c-28cfe91d3e21', 'p': 'web', 'tz': 'Europe/Berlin', 'lang': 'it-IT', 'cs': 'UTF-8', 'res': '414x896', 'cd': '32', 'cookie': '1', 'eid': '087741e7-c463-49d5-9455-3acabb5ad3e6', 'dtm': '1573174003800', 'vp': '414x719', 'ds': '414x6972', 'vid': '2', 'sid': '2c7ae06a-81ab-4367-bb42-0471b67b1b7b', 'duid': '89c35e4c-7cf6-4c52-98c3-2a6d481e10a6', 'fp': '2476045422'}</td>\n",
              "      <td>7c6c8781197c</td>\n",
              "      <td>591f5f4ed707ddf2dfa70ab792cb3959</td>\n",
              "      <td>{'user': {'id': 'MzAzOTE0ODMxMzZ3MjdxczU0bW55NWw0cnM0bXVscG5wcHQxc2dkbHN3bw==_test', 'profile': {'type': 'anonymous'}}}</td>\n",
              "      <td>{}</td>\n",
              "      <td>53248f1721ee</td>\n",
              "      <td>2019-11-08T00:46:44Z</td>\n",
              "      <td>10.0</td>\n",
              "      <td>1.0</td>\n",
              "      <td>95.0</td>\n",
              "      <td>5.0</td>\n",
              "      <td>11</td>\n",
              "      <td>4</td>\n",
              "      <td>stories/Cronaca</td>\n",
              "      <td>3</td>\n",
              "    </tr>\n",
              "  </tbody>\n",
              "</table>\n",
              "<p>529 rows × 29 columns</p>\n",
              "</div>"
            ],
            "text/plain": [
              "               remote host user  ... weekday                    URL  cluster_num\n",
              "23    228.183.279.374  -    -    ...  4       website                3          \n",
              "46    242.398.271.345  -    -    ...  4       stories/Isola          3          \n",
              "63    323.91.153.215   -    -    ...  4       website                3          \n",
              "64    136.143.123.54   -    -    ...  4       website                3          \n",
              "73    266.331.302.98   -    -    ...  4       stories/bergamo-citta  3          \n",
              "...              ...  ..   ..    ... ..                         ... ..          \n",
              "3824  63.120.123.34    -    -    ...  4       website                3          \n",
              "3825  279.381.154.303  -    -    ...  4       website                3          \n",
              "3847  126.278.205.145  -    -    ...  4       stories/bergamo-citta  3          \n",
              "3853  301.98.369.369   -    -    ...  4       stories/bergamo-citta  3          \n",
              "3854  283.4.127.197    -    -    ...  4       stories/Cronaca        3          \n",
              "\n",
              "[529 rows x 29 columns]"
            ]
          },
          "metadata": {
            "tags": []
          },
          "execution_count": 259
        }
      ]
    },
    {
      "cell_type": "code",
      "metadata": {
        "colab": {
          "base_uri": "https://localhost:8080/",
          "height": 224
        },
        "id": "nHKYBzDiry8C",
        "outputId": "7e96ddc3-6e22-4237-b58a-3dcd6b131aff"
      },
      "source": [
        "df.groupby('cluster_num').mean()"
      ],
      "execution_count": 260,
      "outputs": [
        {
          "output_type": "execute_result",
          "data": {
            "text/html": [
              "<div>\n",
              "<style scoped>\n",
              "    .dataframe tbody tr th:only-of-type {\n",
              "        vertical-align: middle;\n",
              "    }\n",
              "\n",
              "    .dataframe tbody tr th {\n",
              "        vertical-align: top;\n",
              "    }\n",
              "\n",
              "    .dataframe thead th {\n",
              "        text-align: right;\n",
              "    }\n",
              "</style>\n",
              "<table border=\"1\" class=\"dataframe\">\n",
              "  <thead>\n",
              "    <tr style=\"text-align: right;\">\n",
              "      <th></th>\n",
              "      <th>code</th>\n",
              "      <th>size</th>\n",
              "      <th>referer_known</th>\n",
              "      <th>agent_os_new</th>\n",
              "      <th>agent_category_new</th>\n",
              "      <th>referer_new</th>\n",
              "      <th>agent_name_new</th>\n",
              "      <th>month</th>\n",
              "      <th>weekday</th>\n",
              "    </tr>\n",
              "    <tr>\n",
              "      <th>cluster_num</th>\n",
              "      <th></th>\n",
              "      <th></th>\n",
              "      <th></th>\n",
              "      <th></th>\n",
              "      <th></th>\n",
              "      <th></th>\n",
              "      <th></th>\n",
              "      <th></th>\n",
              "      <th></th>\n",
              "    </tr>\n",
              "  </thead>\n",
              "  <tbody>\n",
              "    <tr>\n",
              "      <th>0</th>\n",
              "      <td>200</td>\n",
              "      <td>43</td>\n",
              "      <td>False</td>\n",
              "      <td>0.011146</td>\n",
              "      <td>1.0</td>\n",
              "      <td>240.420382</td>\n",
              "      <td>1.581210</td>\n",
              "      <td>11</td>\n",
              "      <td>4</td>\n",
              "    </tr>\n",
              "    <tr>\n",
              "      <th>1</th>\n",
              "      <td>200</td>\n",
              "      <td>43</td>\n",
              "      <td>False</td>\n",
              "      <td>3.219949</td>\n",
              "      <td>0.0</td>\n",
              "      <td>28.260870</td>\n",
              "      <td>1.156863</td>\n",
              "      <td>11</td>\n",
              "      <td>4</td>\n",
              "    </tr>\n",
              "    <tr>\n",
              "      <th>2</th>\n",
              "      <td>200</td>\n",
              "      <td>43</td>\n",
              "      <td>False</td>\n",
              "      <td>0.000000</td>\n",
              "      <td>1.0</td>\n",
              "      <td>25.363792</td>\n",
              "      <td>0.192997</td>\n",
              "      <td>11</td>\n",
              "      <td>4</td>\n",
              "    </tr>\n",
              "    <tr>\n",
              "      <th>3</th>\n",
              "      <td>200</td>\n",
              "      <td>43</td>\n",
              "      <td>False</td>\n",
              "      <td>9.705307</td>\n",
              "      <td>1.0</td>\n",
              "      <td>111.284916</td>\n",
              "      <td>4.861732</td>\n",
              "      <td>11</td>\n",
              "      <td>4</td>\n",
              "    </tr>\n",
              "  </tbody>\n",
              "</table>\n",
              "</div>"
            ],
            "text/plain": [
              "             code  size  referer_known  ...  agent_name_new  month  weekday\n",
              "cluster_num                             ...                                \n",
              "0            200   43    False          ...  1.581210        11     4      \n",
              "1            200   43    False          ...  1.156863        11     4      \n",
              "2            200   43    False          ...  0.192997        11     4      \n",
              "3            200   43    False          ...  4.861732        11     4      \n",
              "\n",
              "[4 rows x 9 columns]"
            ]
          },
          "metadata": {
            "tags": []
          },
          "execution_count": 260
        }
      ]
    },
    {
      "cell_type": "code",
      "metadata": {
        "colab": {
          "base_uri": "https://localhost:8080/"
        },
        "id": "7WXwKA5jrzNE",
        "outputId": "7d4888e3-cc76-403a-d23b-ecf4c4d506c7"
      },
      "source": [
        "df['agent_os'].apply(str)\n",
        "df['agent_category'].apply(str)\n",
        "df['URL'].apply(str)"
      ],
      "execution_count": 261,
      "outputs": [
        {
          "output_type": "execute_result",
          "data": {
            "text/plain": [
              "0       website                 \n",
              "1       website                 \n",
              "2       stories/bergamo-citta   \n",
              "3       stories/bassa-bergamasca\n",
              "4       stories/bergamo-citta   \n",
              "                ...             \n",
              "3852    stories/bergamo-citta   \n",
              "3853    stories/bergamo-citta   \n",
              "3854    stories/Cronaca         \n",
              "3855    website                 \n",
              "3856    website                 \n",
              "Name: URL, Length: 3688, dtype: object"
            ]
          },
          "metadata": {
            "tags": []
          },
          "execution_count": 261
        }
      ]
    },
    {
      "cell_type": "code",
      "metadata": {
        "colab": {
          "base_uri": "https://localhost:8080/",
          "height": 631
        },
        "id": "tZUcwQIcrzRt",
        "outputId": "ab5cff20-13ce-4692-f238-701ef24a3615"
      },
      "source": [
        "print(cl(df['agent_os_new'].describe(), attrs = ['bold']))\n",
        "\n",
        "sb.distplot(df['agent_os_new'], \n",
        "            color = 'orange')\n",
        "plt.title('agent_os_new DISTRIBUTION', \n",
        "          fontsize = 18)\n",
        "plt.xlabel('agent_os_new', \n",
        "           fontsize = 16)\n",
        "plt.ylabel('Frequency', \n",
        "           fontsize = 16)\n",
        "plt.xticks(fontsize = 14)\n",
        "plt.yticks(fontsize = 14)\n",
        "\n",
        "plt.savefig('agent_os_new_distribution.png')\n",
        "plt.show()"
      ],
      "execution_count": 262,
      "outputs": [
        {
          "output_type": "stream",
          "text": [
            "\u001b[1mcount    3688.000000\n",
            "mean     2.910249   \n",
            "std      3.678174   \n",
            "min      0.000000   \n",
            "25%      0.000000   \n",
            "50%      2.000000   \n",
            "75%      4.000000   \n",
            "max      10.000000  \n",
            "Name: agent_os_new, dtype: float64\u001b[0m\n"
          ],
          "name": "stdout"
        },
        {
          "output_type": "stream",
          "text": [
            "/usr/local/lib/python3.7/dist-packages/seaborn/distributions.py:2557: FutureWarning: `distplot` is a deprecated function and will be removed in a future version. Please adapt your code to use either `displot` (a figure-level function with similar flexibility) or `histplot` (an axes-level function for histograms).\n",
            "  warnings.warn(msg, FutureWarning)\n"
          ],
          "name": "stderr"
        },
        {
          "output_type": "display_data",
          "data": {
            "image/png": "[encoded data removed]",
            "text/plain": [
              "<Figure size 1440x720 with 1 Axes>"
            ]
          },
          "metadata": {
            "tags": []
          }
        }
      ]
    },
    {
      "cell_type": "code",
      "metadata": {
        "colab": {
          "base_uri": "https://localhost:8080/",
          "height": 635
        },
        "id": "SEF8h7XwrZTc",
        "outputId": "5a0df1c9-9190-4601-e085-fe664428733b"
      },
      "source": [
        "print(cl(df['agent_category_new'].describe(), attrs = ['bold']))\n",
        "\n",
        "sb.distplot(df['agent_category_new'], \n",
        "            color = 'orange')\n",
        "plt.title('agent_category DISTRIBUTION', \n",
        "          fontsize = 18)\n",
        "plt.xlabel('agent_category', \n",
        "           fontsize = 16)\n",
        "plt.ylabel('Frequency', \n",
        "           fontsize = 16)\n",
        "plt.xticks(fontsize = 14)\n",
        "plt.yticks(fontsize = 14)\n",
        "\n",
        "plt.savefig('agent_category_distribution.png')\n",
        "plt.show()"
      ],
      "execution_count": 263,
      "outputs": [
        {
          "output_type": "stream",
          "text": [
            "\u001b[1mcount    3688.000000\n",
            "mean     0.681941   \n",
            "std      0.465786   \n",
            "min      0.000000   \n",
            "25%      0.000000   \n",
            "50%      1.000000   \n",
            "75%      1.000000   \n",
            "max      1.000000   \n",
            "Name: agent_category_new, dtype: float64\u001b[0m\n"
          ],
          "name": "stdout"
        },
        {
          "output_type": "stream",
          "text": [
            "/usr/local/lib/python3.7/dist-packages/seaborn/distributions.py:2557: FutureWarning: `distplot` is a deprecated function and will be removed in a future version. Please adapt your code to use either `displot` (a figure-level function with similar flexibility) or `histplot` (an axes-level function for histograms).\n",
            "  warnings.warn(msg, FutureWarning)\n"
          ],
          "name": "stderr"
        },
        {
          "output_type": "display_data",
          "data": {
            "image/png": "[encoded data removed]",
            "text/plain": [
              "<Figure size 1440x720 with 1 Axes>"
            ]
          },
          "metadata": {
            "tags": []
          }
        }
      ]
    },
    {
      "cell_type": "code",
      "metadata": {
        "colab": {
          "base_uri": "https://localhost:8080/",
          "height": 624
        },
        "id": "QBgPHgS7tN8m",
        "outputId": "428f82ce-2c7a-45e6-e781-d9e8f3e73bf6"
      },
      "source": [
        "print(cl(df['referer_new'].describe(), attrs = ['bold']))\n",
        "\n",
        "sb.distplot(df['referer_new'], \n",
        "            color = 'orange')\n",
        "plt.title('URL DISTRIBUTION', \n",
        "          fontsize = 18)\n",
        "plt.xlabel('URL', \n",
        "           fontsize = 16)\n",
        "plt.ylabel('Frequency', \n",
        "           fontsize = 16)\n",
        "plt.xticks(fontsize = 14)\n",
        "plt.yticks(fontsize = 14)\n",
        "\n",
        "plt.savefig('URL_distribution.png')\n",
        "plt.show()"
      ],
      "execution_count": 264,
      "outputs": [
        {
          "output_type": "stream",
          "text": [
            "\u001b[1mcount    3688.000000\n",
            "mean     79.586497  \n",
            "std      110.198647 \n",
            "min      0.000000   \n",
            "25%      1.000000   \n",
            "50%      1.000000   \n",
            "75%      163.000000 \n",
            "max      355.000000 \n",
            "Name: referer_new, dtype: float64\u001b[0m\n"
          ],
          "name": "stdout"
        },
        {
          "output_type": "stream",
          "text": [
            "/usr/local/lib/python3.7/dist-packages/seaborn/distributions.py:2557: FutureWarning: `distplot` is a deprecated function and will be removed in a future version. Please adapt your code to use either `displot` (a figure-level function with similar flexibility) or `histplot` (an axes-level function for histograms).\n",
            "  warnings.warn(msg, FutureWarning)\n"
          ],
          "name": "stderr"
        },
        {
          "output_type": "display_data",
          "data": {
            "image/png": "[encoded data removed]",
            "text/plain": [
              "<Figure size 1440x720 with 1 Axes>"
            ]
          },
          "metadata": {
            "tags": []
          }
        }
      ]
    },
    {
      "cell_type": "code",
      "metadata": {
        "colab": {
          "base_uri": "https://localhost:8080/"
        },
        "id": "tFsLGZqAPxTp",
        "outputId": "3fe7d704-7067-4909-b3df-6b8e9ca10916"
      },
      "source": [
        "p= df.agent_os_new[df.cluster_num == 0]\n",
        "p[:30]\n",
        "df.agent_os[df.cluster_num == 0].apply(str)"
      ],
      "execution_count": 265,
      "outputs": [
        {
          "output_type": "execute_result",
          "data": {
            "text/plain": [
              "2       Android\n",
              "4       Android\n",
              "12      Android\n",
              "21      Android\n",
              "24      Android\n",
              "         ...   \n",
              "3837    Android\n",
              "3838    Android\n",
              "3839    Android\n",
              "3849    Android\n",
              "3852    Android\n",
              "Name: agent_os, Length: 628, dtype: object"
            ]
          },
          "metadata": {
            "tags": []
          },
          "execution_count": 265
        }
      ]
    },
    {
      "cell_type": "code",
      "metadata": {
        "colab": {
          "base_uri": "https://localhost:8080/",
          "height": 1000
        },
        "id": "shKZYdnvK09j",
        "outputId": "269d52f2-afa4-49d7-f64f-1105a184cc8a"
      },
      "source": [
        "df.head()"
      ],
      "execution_count": 266,
      "outputs": [
        {
          "output_type": "execute_result",
          "data": {
            "text/html": [
              "<div>\n",
              "<style scoped>\n",
              "    .dataframe tbody tr th:only-of-type {\n",
              "        vertical-align: middle;\n",
              "    }\n",
              "\n",
              "    .dataframe tbody tr th {\n",
              "        vertical-align: top;\n",
              "    }\n",
              "\n",
              "    .dataframe thead th {\n",
              "        text-align: right;\n",
              "    }\n",
              "</style>\n",
              "<table border=\"1\" class=\"dataframe\">\n",
              "  <thead>\n",
              "    <tr style=\"text-align: right;\">\n",
              "      <th></th>\n",
              "      <th>remote</th>\n",
              "      <th>host</th>\n",
              "      <th>user</th>\n",
              "      <th>method</th>\n",
              "      <th>code</th>\n",
              "      <th>size</th>\n",
              "      <th>referer</th>\n",
              "      <th>http_x_forwarded_for</th>\n",
              "      <th>ua</th>\n",
              "      <th>created</th>\n",
              "      <th>agent_name</th>\n",
              "      <th>agent_category</th>\n",
              "      <th>agent_os</th>\n",
              "      <th>referer_known</th>\n",
              "      <th>uri</th>\n",
              "      <th>hostname</th>\n",
              "      <th>uri_url_hash</th>\n",
              "      <th>injected</th>\n",
              "      <th>enrich</th>\n",
              "      <th>event_tag</th>\n",
              "      <th>time</th>\n",
              "      <th>agent_os_new</th>\n",
              "      <th>agent_category_new</th>\n",
              "      <th>referer_new</th>\n",
              "      <th>agent_name_new</th>\n",
              "      <th>month</th>\n",
              "      <th>weekday</th>\n",
              "      <th>URL</th>\n",
              "      <th>cluster_num</th>\n",
              "    </tr>\n",
              "  </thead>\n",
              "  <tbody>\n",
              "    <tr>\n",
              "      <th>0</th>\n",
              "      <td>62.308.59.153</td>\n",
              "      <td>-</td>\n",
              "      <td>-</td>\n",
              "      <td>GET</td>\n",
              "      <td>200</td>\n",
              "      <td>43</td>\n",
              "      <td>https://www.ecodibergamo.it/</td>\n",
              "      <td>155.380.27.200</td>\n",
              "      <td>{'browser': {'family': 'Chrome', 'version': '78.0.3904.87', 'major_version': 78}, 'os': {'family': 'Windows', 'version': '10', 'major_version': 10}, 'device': 'Other'}</td>\n",
              "      <td>2019-11-08T00:00:00.000000000Z</td>\n",
              "      <td>Chrome</td>\n",
              "      <td>pc</td>\n",
              "      <td>Windows 10</td>\n",
              "      <td>False</td>\n",
              "      <td>{'stm': '1573171199218', 'e': 'pv', 'url': 'https://www.ecodibergamo.it/', 'page': 'L'Eco di Bergamo - Notizie di Bergamo e provincia', 'refr': 'https://www.ecodibergamo.it/', 'tv': 'js-2.11.0', 'tna': 'cf', 'aid': 'SB-de77ae02-a351-11e7-879c-28cfe91d3e21', 'p': 'web', 'tz': 'Europe/Berlin', 'lang': 'it-IT', 'cs': 'UTF-8', 'f_pdf': '1', 'f_qt': '0', 'f_realp': '0', 'f_wma': '0', 'f_dir': '0', 'f_fla': '0', 'f_java': '0', 'f_gears': '0', 'f_ag': '0', 'res': '1280x720', 'cd': '24', 'cookie': '1', 'eid': 'fee489a9-c110-42b8-b997-ab50ddb1e912', 'dtm': '1573171199215', 'vp': '1280x616', 'ds': '1263x6725', 'vid': '2', 'sid': 'a3b7e1b0-6192-46ee-8f6b-e258fc2811ab', 'duid': '0c2841a0-ea61-445e-973e-607ea1123333', 'fp': '4272995877'}</td>\n",
              "      <td>7c6c8781197c</td>\n",
              "      <td>7e452fb177e15e229756b1fff4a6f5bc</td>\n",
              "      <td>{'user': {'id': 'NDc5MjkwNTAwMDBwMG95aGRmMDlzbXN2aW10eWdtM3p0ZjBrMHl0ZTZycg==_test', 'profile': {'type': 'anonymous'}}}</td>\n",
              "      <td>{}</td>\n",
              "      <td>53248f1721ee</td>\n",
              "      <td>2019-11-08T00:00:00Z</td>\n",
              "      <td>3.0</td>\n",
              "      <td>0.0</td>\n",
              "      <td>1.0</td>\n",
              "      <td>0.0</td>\n",
              "      <td>11</td>\n",
              "      <td>4</td>\n",
              "      <td>website</td>\n",
              "      <td>1</td>\n",
              "    </tr>\n",
              "    <tr>\n",
              "      <th>1</th>\n",
              "      <td>356.6.121.291</td>\n",
              "      <td>-</td>\n",
              "      <td>-</td>\n",
              "      <td>GET</td>\n",
              "      <td>200</td>\n",
              "      <td>43</td>\n",
              "      <td>https://www.ecodibergamo.it/</td>\n",
              "      <td>224.80.19.283</td>\n",
              "      <td>{'browser': {'family': 'Firefox', 'version': '70.0', 'major_version': 70}, 'os': {'family': 'Windows', 'version': '10', 'major_version': 10}, 'device': 'Other'}</td>\n",
              "      <td>2019-11-08T00:00:02.000000000Z</td>\n",
              "      <td>Firefox</td>\n",
              "      <td>pc</td>\n",
              "      <td>Windows 10</td>\n",
              "      <td>False</td>\n",
              "      <td>{'stm': '1573171202942', 'e': 'pv', 'url': 'https://www.ecodibergamo.it/', 'page': 'L'Eco di Bergamo - Notizie di Bergamo e provincia', 'tv': 'js-2.11.0', 'tna': 'cf', 'aid': 'SB-de77ae02-a351-11e7-879c-28cfe91d3e21', 'p': 'web', 'tz': 'Europe/Berlin', 'lang': 'it-IT', 'cs': 'UTF-8', 'f_pdf': '0', 'f_qt': '0', 'f_realp': '0', 'f_wma': '0', 'f_dir': '0', 'f_fla': '1', 'f_java': '0', 'f_gears': '0', 'f_ag': '0', 'res': '1680x1050', 'cd': '24', 'cookie': '1', 'eid': '52273f46-75ac-45d6-ad2b-26e8769ed3bf', 'dtm': '1573171202940', 'vp': '1680x908', 'ds': '1663x6737', 'vid': '1', 'sid': 'f35632aa-982f-4342-a86f-736d56b20797', 'duid': 'e7067c56-383b-4559-840f-70c193d3adf8', 'fp': '3175553694'}</td>\n",
              "      <td>7c6c8781197c</td>\n",
              "      <td>7e452fb177e15e229756b1fff4a6f5bc</td>\n",
              "      <td>{'user': {'id': 'MjM2NzkxNjI4MTB0d2l6MWk1MXA1Mng4cXVvMm9ybHFjcXNtbGVya3VnNw==_test', 'profile': {'type': 'anonymous'}}}</td>\n",
              "      <td>{}</td>\n",
              "      <td>53248f1721ee</td>\n",
              "      <td>2019-11-08T00:00:02Z</td>\n",
              "      <td>3.0</td>\n",
              "      <td>0.0</td>\n",
              "      <td>1.0</td>\n",
              "      <td>2.0</td>\n",
              "      <td>11</td>\n",
              "      <td>4</td>\n",
              "      <td>website</td>\n",
              "      <td>1</td>\n",
              "    </tr>\n",
              "    <tr>\n",
              "      <th>2</th>\n",
              "      <td>130.216.19.309</td>\n",
              "      <td>-</td>\n",
              "      <td>-</td>\n",
              "      <td>GET</td>\n",
              "      <td>200</td>\n",
              "      <td>43</td>\n",
              "      <td>https://www.ecodibergamo.it/stories/bergamo-citta/bergamo-nellolimpo-della-guida-rossada-vittorio-al-top-new-entry-impronte_1327138_11/</td>\n",
              "      <td>373.198.78.13</td>\n",
              "      <td>{'browser': {'family': 'Chrome', 'version': '77.0.3865.116', 'major_version': 77}, 'os': {'family': 'Android', 'version': '4.4.4', 'major_version': 4}, 'device': 'Generic Smartphone'}</td>\n",
              "      <td>2019-11-08T00:00:02.000000000Z</td>\n",
              "      <td>Chrome</td>\n",
              "      <td>smartphone</td>\n",
              "      <td>Android</td>\n",
              "      <td>False</td>\n",
              "      <td>{'stm': '1573171290396', 'e': 'pv', 'url': 'https://www.ecodibergamo.it/stories/bergamo-citta/bergamo-nellolimpo-della-guida-rossada-vittorio-al-top-new-entry-impronte_1327138_11/', 'page': 'Bergamo nell’Olimpo della Guida Rossa «Vittorio» al top, new entry «Impronte» - Bergamo città Bergamo', 'refr': 'android-app://com.google.android.googlequicksearchbox/https/www.google.com', 'tv': 'js-2.11.0', 'tna': 'cf', 'aid': 'SB-de77ae02-a351-11e7-879c-28cfe91d3e21', 'p': 'web', 'tz': 'Europe/Berlin', 'lang': 'it', 'cs': 'UTF-8', 'res': '800x1280', 'cd': '24', 'cookie': '1', 'eid': 'fc855c89-daf3-4c54-b0bf-06d7f41df16d', 'dtm': '1573171290376', 'vp': '800x1191', 'ds': '800x6819', 'vid': '1', 'sid': '473338c8-c941-48e2-8483-ec46e06e2728', 'duid': 'b2937acc-a384-4909-90b8-b5b4ce061e52', 'fp': '1935601176'}</td>\n",
              "      <td>7c6c8781197c</td>\n",
              "      <td>3555294575be3f0cf6e0e2b50e5be1e5</td>\n",
              "      <td>{'user': {'id': 'NDkyMTgwMzk1MDh2c29vdzNpOW1xd2l4aWx6YmhramY0Z3l5eDdoOGJsYQ==_test', 'profile': {'type': 'anonymous'}}}</td>\n",
              "      <td>{'content_words_count': 602, 'description': '\n",
              "            Tre stelle per i fratelli Cerea nella Guida Michelin Italia. Molte conferme per la nostra città. Una stella al ristorante di via Baioni.\n",
              "        ', 'providers': {'bitly': None}, 'ai': {'classification': {'source': 'html.content', 'predictions': [{'probability': 0.14299587905406902, 'label': 'Entertainment'}, {'probability': 0.10872979462146701, 'label': 'Leisure'}, {'probability': 0.10552781075239101, 'label': 'Culture'}, {'probability': 0.09535752236843101, 'label': 'People'}, {'probability': 0.081539817154407, 'label': 'Religion'}]}, 'classification_standard': {'source': 'html.content', 'predictions': [{'probability': 0.14299587905406902, 'label': 'Spettacolo'}, {'probability': 0.10872979462146701, 'label': 'Tempo Libero'}, {'probability': 0.10552781075239101, 'label': 'Arte E Cultura'}]}}, 'image': {'monochromatic': 0, 'name': 'image', 'field': 'url', 'url': 'https://lightstorage.ecodibergamo.it/mediaon/cms.quotidiani/storage/site_media/media/photologue/2019/10/29/photos/cache/bergamo-nellolimpo-della-guida-rossada-vittorio-al-top-new-entry-impro_06ac527c-008d-11ea-88e7-b0ccc82102e5_512_512_new_square_large.jpg', 'height': '397', 'width': '998', 'version': '2', 'type': 'image/jpeg', 'id': '3555294575be3f0cf6e0e2b50e5be1e5'}, 'title': 'Bergamo nell’Olimpo della Guida Rossa «Da Vittorio» al top, new entry «Impronte»', '_tags': [], 'keywords': ['\n",
              "\n",
              "\n",
              "\n",
              "\n",
              "\n",
              "\n",
              "\n",
              "\n",
              "\n",
              "\n",
              "                \n",
              "\n",
              "'], 'content_chars_count': 3893, '_city': 'Bergamo,Bracca,Brusaporto,Capriate San Gervasio,Cavernago,Chiuduno,Palazzago,Trescore Balneario,Treviglio', 'type': 'article', 'twitter': {'site': '@webecodibergamo', 'field': 'site', 'name': 'twitter', 'card': 'summary_large_image', 'title': 'Bergamo nell’Olimpo della Guida Rossa «Da Vittorio» al top, new entry «Impronte»'}, 'categories': {'parser': 'url', 'exists': 0}, 'icon': 'http://www.ecodibergamo.it/site_media_tribe_custom/static/images/favicon.ico'}</td>\n",
              "      <td>53248f1721ee</td>\n",
              "      <td>2019-11-08T00:00:02Z</td>\n",
              "      <td>0.0</td>\n",
              "      <td>1.0</td>\n",
              "      <td>187.0</td>\n",
              "      <td>0.0</td>\n",
              "      <td>11</td>\n",
              "      <td>4</td>\n",
              "      <td>stories/bergamo-citta</td>\n",
              "      <td>0</td>\n",
              "    </tr>\n",
              "    <tr>\n",
              "      <th>3</th>\n",
              "      <td>239.337.124.291</td>\n",
              "      <td>-</td>\n",
              "      <td>-</td>\n",
              "      <td>GET</td>\n",
              "      <td>200</td>\n",
              "      <td>43</td>\n",
              "      <td>https://www.ecodibergamo.it/stories/bassa-bergamasca/treviglio-chiedono-reddito-di-cittadinanzama-nei-nostri-registri-risultano-def_1327223_11/</td>\n",
              "      <td>133.81.301.216</td>\n",
              "      <td>{'browser': {'family': 'Chrome', 'version': '78.0.3904.70', 'major_version': 78}, 'os': {'family': 'Windows', 'version': '7', 'major_version': 7}, 'device': 'Other'}</td>\n",
              "      <td>2019-11-08T00:00:03.000000000Z</td>\n",
              "      <td>Chrome</td>\n",
              "      <td>pc</td>\n",
              "      <td>Windows 7</td>\n",
              "      <td>False</td>\n",
              "      <td>{'stm': '1573170677706', 'e': 'pv', 'url': 'https://www.ecodibergamo.it/stories/bassa-bergamasca/treviglio-chiedono-reddito-di-cittadinanzama-nei-nostri-registri-risultano-def_1327223_11/', 'page': 'Treviglio, ricevono reddito di cittadinanza «Ma nei nostri registri risultano defunti» - Bassa Bergamasca Bergamo', 'refr': 'https://www.ecodibergamo.it/', 'tv': 'js-2.11.0', 'tna': 'cf', 'aid': 'SB-de77ae02-a351-11e7-879c-28cfe91d3e21', 'p': 'web', 'tz': 'Europe/Berlin', 'lang': 'it-IT', 'cs': 'UTF-8', 'f_pdf': '1', 'f_qt': '0', 'f_realp': '0', 'f_wma': '0', 'f_dir': '0', 'f_fla': '0', 'f_java': '0', 'f_gears': '0', 'f_ag': '0', 'res': '1920x1200', 'cd': '24', 'cookie': '1', 'eid': 'ee173ea4-157e-4693-9223-5b4fc9c8e3de', 'dtm': '1573170677704', 'vp': '1920x1097', 'ds': '1903x3503', 'vid': '1', 'sid': '6d95b68b-8ff2-4aa9-901a-cc44114dc613', 'duid': '8761d8af-133e-4786-ac08-94474c60962f', 'fp': '306408382'}</td>\n",
              "      <td>7c6c8781197c</td>\n",
              "      <td>00bb3d6e2dc4de820e4f61122af37779</td>\n",
              "      <td>{'user': {'id': 'MjIzMTk0ODI3OTkyaTE0MDJzMDF0d2djdXY2MGF4bWtjaWM3emVodmxzaA==_test', 'profile': {'type': 'anonymous'}}}</td>\n",
              "      <td>{'content_words_count': 258, 'description': '\n",
              "            Tre casi scoperti dal Comune di Treviglio grazie ai controlli sull’anagrafica delle richieste di reddito di cittadinanza.\n",
              "        ', 'providers': {'bitly': None}, 'ai': {'classification': {'source': 'html.content', 'predictions': [{'probability': 0.26921659708023005, 'label': 'Society'}, {'probability': 0.12455938011407801, 'label': 'Economy, Business And Finance'}, {'probability': 0.12127859890460901, 'label': 'Labour'}, {'probability': 0.08527283370494801, 'label': 'Crime, Law And Justice'}]}, 'classification_standard': {'source': 'html.content', 'predictions': [{'probability': 0.26921659708023005, 'label': 'Società'}, {'probability': 0.12455938011407801, 'label': 'Economia'}, {'probability': 0.12127859890460901, 'label': 'Lavoro'}]}}, 'image': {'monochromatic': 0, 'name': 'image', 'field': 'url', 'url': 'https://lightstorage.ecodibergamo.it/mediaon/cms.quotidiani/storage/site_media/media/photologue/2019/11/6/photos/cache/treviglio-chiesto-reddito-di-cittadinanzama-nei-nostri-registri-risultano_e2d3ebe2-013d-11ea-9e55-06f3cf178575_512_512_new_square_large.jpg', 'height': '397', 'width': '998', 'version': '2', 'type': 'image/jpeg', 'id': '00bb3d6e2dc4de820e4f61122af37779'}, 'title': 'Treviglio, chiesto reddito di cittadinanza «Ma nei nostri registri risultano defunti»', '_tags': [], 'keywords': ['\n",
              "\n",
              "\n",
              "\n",
              "\n",
              "\n",
              "\n",
              "\n",
              "\n",
              "\n",
              "\n",
              "                \n",
              "\n",
              "'], 'content_chars_count': 1826, '_city': 'Bergamo,Treviglio', 'type': 'article', 'twitter': {'site': '@webecodibergamo', 'field': 'site', 'name': 'twitter', 'card': 'summary_large_image', 'title': 'Treviglio, chiesto reddito di cittadinanza «Ma nei nostri registri risultano defunti»'}, 'categories': {'parser': 'url', 'exists': 0}, 'icon': 'http://www.ecodibergamo.it/site_media_tribe_custom/static/images/favicon.ico'}</td>\n",
              "      <td>53248f1721ee</td>\n",
              "      <td>2019-11-08T00:00:03Z</td>\n",
              "      <td>4.0</td>\n",
              "      <td>0.0</td>\n",
              "      <td>163.0</td>\n",
              "      <td>0.0</td>\n",
              "      <td>11</td>\n",
              "      <td>4</td>\n",
              "      <td>stories/bassa-bergamasca</td>\n",
              "      <td>1</td>\n",
              "    </tr>\n",
              "    <tr>\n",
              "      <th>4</th>\n",
              "      <td>91.182.8.154</td>\n",
              "      <td>-</td>\n",
              "      <td>-</td>\n",
              "      <td>GET</td>\n",
              "      <td>200</td>\n",
              "      <td>43</td>\n",
              "      <td>https://www.ecodibergamo.it/stories/bergamo-citta/il-natale-a-bergamo-dal-24-novembreal-via-la-ruota-panoramica-in-centro_1327082_11/</td>\n",
              "      <td>235.176.197.323</td>\n",
              "      <td>{'browser': {'family': 'Chrome Mobile', 'version': '78.0.3904.96', 'major_version': 78}, 'os': {'family': 'Android', 'version': '9', 'major_version': 9}, 'device': 'Generic Smartphone'}</td>\n",
              "      <td>2019-11-08T00:00:04.000000000Z</td>\n",
              "      <td>Chrome</td>\n",
              "      <td>smartphone</td>\n",
              "      <td>Android</td>\n",
              "      <td>False</td>\n",
              "      <td>{'stm': '1573171203560', 'e': 'pv', 'url': 'https://www.ecodibergamo.it/stories/bergamo-citta/il-natale-a-bergamo-dal-24-novembreal-via-la-ruota-panoramica-in-centro_1327082_11/', 'page': 'Il Natale a Bergamo? Dal 24 novembre Ruota panoramica e festa in centro - Bergamo città Bergamo', 'tv': 'js-2.11.0', 'tna': 'cf', 'aid': 'SB-de77ae02-a351-11e7-879c-28cfe91d3e21', 'p': 'web', 'tz': 'Europe/Berlin', 'lang': 'pt-BR', 'cs': 'UTF-8', 'res': '360x840', 'cd': '24', 'cookie': '1', 'eid': '0b6878dd-cf6e-454e-8fcb-a59fc70146a5', 'dtm': '1573171203554', 'vp': '360x649', 'ds': '360x5541', 'vid': '1', 'sid': '6ac297cc-440a-4fba-afd7-16a03b1a8069', 'duid': '37270daf-382a-44cf-95e0-a4c5383aea0c', 'fp': '4294229985'}</td>\n",
              "      <td>7c6c8781197c</td>\n",
              "      <td>5be523c26c14b27ab55b04321d954402</td>\n",
              "      <td>{'user': {'id': 'MjU2MzU0NDAxODZ5NTR1NmNydm01cmZtaTZ4c2h0OWp0MmQyeHIwOXQ5Yg==_test', 'profile': {'type': 'anonymous'}}}</td>\n",
              "      <td>{'content_words_count': 256, 'description': '\n",
              "            Un evento in Fb ed è così svelata la data di inizio del Natale di Bergamo: il 24 novembre si accenderà l’albero che sarà montato e allestito in pieno centro. Con una festa organizzata dai commercianti che darà il via al Natale bergamasco: ci sarà anche la tanto attesa ruota panoramica.\n",
              "        ', 'providers': {'bitly': None}, 'ai': {'classification': {'source': 'html.content', 'predictions': [{'predictions': [{'probability': 0.30663663148880005, 'label': 'Tourism &amp; Travel'}], 'probability': 0.120415613055229, 'label': 'Leisure'}, {'probability': 0.094894602894783, 'label': 'Religion'}, {'probability': 0.082414723932743, 'label': 'People'}, {'probability': 0.082266397774219, 'label': 'Society'}]}, 'classification_standard': {'source': 'html.content', 'predictions': [{'predictions': [{'probability': 0.30663663148880005, 'label': 'Tourism &amp; Travel'}], 'probability': 0.120415613055229, 'label': 'Tempo Libero'}]}}, 'image': {'monochromatic': 0, 'name': 'image', 'field': 'url', 'url': 'https://lightstorage.ecodibergamo.it/mediaon/cms.quotidiani/storage/site_media/media/photologue/2019/10/28/photos/cache/il-natale-a-bergamo-dal-24-novembreruota-panoramica-e-festa-in-centro_49a52e22-0016-11ea-a610-ef245efbdc4e_512_512_new_square_large.jpg', 'height': '397', 'width': '998', 'version': '2', 'type': 'image/jpeg', 'id': '5be523c26c14b27ab55b04321d954402'}, 'title': 'Il Natale a Bergamo? Dal 24 novembre Ruota panoramica e festa in centro', '_tags': [], 'keywords': ['\n",
              "\n",
              "\n",
              "\n",
              "\n",
              "\n",
              "\n",
              "\n",
              "\n",
              "\n",
              "\n",
              "                \n",
              "\n",
              "'], 'content_chars_count': 1682, '_city': 'Bergamo', 'type': 'article', 'twitter': {'site': '@webecodibergamo', 'field': 'site', 'name': 'twitter', 'card': 'summary_large_image', 'title': 'Il Natale a Bergamo? Dal 24 novembre Ruota panoramica e festa in centro'}, 'categories': {'parser': 'url', 'exists': 0}, 'icon': 'http://www.ecodibergamo.it/site_media_tribe_custom/static/images/favicon.ico'}</td>\n",
              "      <td>53248f1721ee</td>\n",
              "      <td>2019-11-08T00:00:04Z</td>\n",
              "      <td>0.0</td>\n",
              "      <td>1.0</td>\n",
              "      <td>216.0</td>\n",
              "      <td>0.0</td>\n",
              "      <td>11</td>\n",
              "      <td>4</td>\n",
              "      <td>stories/bergamo-citta</td>\n",
              "      <td>0</td>\n",
              "    </tr>\n",
              "  </tbody>\n",
              "</table>\n",
              "</div>"
            ],
            "text/plain": [
              "            remote host user  ... weekday                       URL  cluster_num\n",
              "0  62.308.59.153    -    -    ...  4       website                   1          \n",
              "1  356.6.121.291    -    -    ...  4       website                   1          \n",
              "2  130.216.19.309   -    -    ...  4       stories/bergamo-citta     0          \n",
              "3  239.337.124.291  -    -    ...  4       stories/bassa-bergamasca  1          \n",
              "4  91.182.8.154     -    -    ...  4       stories/bergamo-citta     0          \n",
              "\n",
              "[5 rows x 29 columns]"
            ]
          },
          "metadata": {
            "tags": []
          },
          "execution_count": 266
        }
      ]
    },
    {
      "cell_type": "code",
      "metadata": {
        "colab": {
          "base_uri": "https://localhost:8080/",
          "height": 446
        },
        "id": "iE_PEGJcwUKK",
        "outputId": "6d3cf561-10c3-4bff-8349-1d892929d072"
      },
      "source": [
        "km = KMeans(n_clusters=4)\n",
        "clusters = km.fit_predict(X)\n",
        "df[\"label\"] = clusters\n",
        "\n",
        "from mpl_toolkits.mplot3d import Axes3D\n",
        "import matplotlib.pyplot as plt\n",
        "import numpy as np\n",
        "import pandas as pd\n",
        " \n",
        "fig = plt.figure(1)\n",
        "plt.clf()\n",
        "ax = Axes3D(fig, \n",
        "            rect = [0, 0, .95, 1], \n",
        "            elev = 48, \n",
        "            azim = 134)\n",
        "\n",
        "ax.scatter(df.agent_os_new[df.label == 0], df[\"agent_category_new\"][df.label == 0], df[\"referer_new\"][df.label == 0], c='blue', s=60, alpha = 0.5)\n",
        "ax.scatter(df.agent_os_new[df.label == 1], df[\"agent_category_new\"][df.label == 1], df[\"referer_new\"][df.label == 1], c='red', s=60)\n",
        "ax.scatter(df.agent_os_new[df.label == 2], df[\"agent_category_new\"][df.label == 2], df[\"referer_new\"][df.label == 2], c='yellow', s=60)\n",
        "ax.scatter(df.agent_os_new[df.label == 3], df[\"agent_category_new\"][df.label == 3], df[\"referer_new\"][df.label == 3], c='orange', s=60)\n",
        "ax.scatter(df.agent_os_new[df.label == 4], df[\"agent_category_new\"][df.label == 4], df[\"referer_new\"][df.label == 4], c='purple', s=60)\n",
        "ax.view_init(30, 185)\n",
        "\n",
        "plt.xlabel(\"agent_os\", size = 25)\n",
        "plt.ylabel(\"agent_category\", size = 25)\n",
        "ax.set_zlabel('URL', size = 25)\n",
        "plt.legend()\n",
        "ax.set_title('Spatial Representation of Segments', size=30)\n",
        "plt.show()"
      ],
      "execution_count": 267,
      "outputs": [
        {
          "output_type": "stream",
          "text": [
            "No handles with labels found to put in legend.\n"
          ],
          "name": "stderr"
        },
        {
          "output_type": "display_data",
          "data": {
            "image/png": "[encoded data removed]",
            "text/plain": [
              "<Figure size 1440x720 with 1 Axes>"
            ]
          },
          "metadata": {
            "tags": []
          }
        }
      ]
    },
    {
      "cell_type": "code",
      "metadata": {
        "colab": {
          "base_uri": "https://localhost:8080/",
          "height": 419
        },
        "id": "6dFRykziXBRD",
        "outputId": "e9c462c3-b5f5-4004-8760-5baddb4cb72f"
      },
      "source": [
        "df_new = XX.assign(Cluster =labels)\n",
        "df_new"
      ],
      "execution_count": 229,
      "outputs": [
        {
          "output_type": "execute_result",
          "data": {
            "text/html": [
              "<div>\n",
              "<style scoped>\n",
              "    .dataframe tbody tr th:only-of-type {\n",
              "        vertical-align: middle;\n",
              "    }\n",
              "\n",
              "    .dataframe tbody tr th {\n",
              "        vertical-align: top;\n",
              "    }\n",
              "\n",
              "    .dataframe thead th {\n",
              "        text-align: right;\n",
              "    }\n",
              "</style>\n",
              "<table border=\"1\" class=\"dataframe\">\n",
              "  <thead>\n",
              "    <tr style=\"text-align: right;\">\n",
              "      <th></th>\n",
              "      <th>agent_os_new</th>\n",
              "      <th>agent_category_new</th>\n",
              "      <th>referer_new</th>\n",
              "      <th>agent_name_new</th>\n",
              "      <th>Cluster</th>\n",
              "    </tr>\n",
              "  </thead>\n",
              "  <tbody>\n",
              "    <tr>\n",
              "      <th>0</th>\n",
              "      <td>3.0</td>\n",
              "      <td>0.0</td>\n",
              "      <td>1.0</td>\n",
              "      <td>0.0</td>\n",
              "      <td>1</td>\n",
              "    </tr>\n",
              "    <tr>\n",
              "      <th>1</th>\n",
              "      <td>3.0</td>\n",
              "      <td>0.0</td>\n",
              "      <td>1.0</td>\n",
              "      <td>2.0</td>\n",
              "      <td>1</td>\n",
              "    </tr>\n",
              "    <tr>\n",
              "      <th>2</th>\n",
              "      <td>0.0</td>\n",
              "      <td>1.0</td>\n",
              "      <td>187.0</td>\n",
              "      <td>0.0</td>\n",
              "      <td>0</td>\n",
              "    </tr>\n",
              "    <tr>\n",
              "      <th>3</th>\n",
              "      <td>4.0</td>\n",
              "      <td>0.0</td>\n",
              "      <td>163.0</td>\n",
              "      <td>0.0</td>\n",
              "      <td>1</td>\n",
              "    </tr>\n",
              "    <tr>\n",
              "      <th>4</th>\n",
              "      <td>0.0</td>\n",
              "      <td>1.0</td>\n",
              "      <td>216.0</td>\n",
              "      <td>0.0</td>\n",
              "      <td>0</td>\n",
              "    </tr>\n",
              "    <tr>\n",
              "      <th>...</th>\n",
              "      <td>...</td>\n",
              "      <td>...</td>\n",
              "      <td>...</td>\n",
              "      <td>...</td>\n",
              "      <td>...</td>\n",
              "    </tr>\n",
              "    <tr>\n",
              "      <th>3852</th>\n",
              "      <td>0.0</td>\n",
              "      <td>1.0</td>\n",
              "      <td>233.0</td>\n",
              "      <td>0.0</td>\n",
              "      <td>0</td>\n",
              "    </tr>\n",
              "    <tr>\n",
              "      <th>3853</th>\n",
              "      <td>10.0</td>\n",
              "      <td>1.0</td>\n",
              "      <td>194.0</td>\n",
              "      <td>5.0</td>\n",
              "      <td>3</td>\n",
              "    </tr>\n",
              "    <tr>\n",
              "      <th>3854</th>\n",
              "      <td>10.0</td>\n",
              "      <td>1.0</td>\n",
              "      <td>95.0</td>\n",
              "      <td>5.0</td>\n",
              "      <td>3</td>\n",
              "    </tr>\n",
              "    <tr>\n",
              "      <th>3855</th>\n",
              "      <td>9.0</td>\n",
              "      <td>1.0</td>\n",
              "      <td>1.0</td>\n",
              "      <td>5.0</td>\n",
              "      <td>3</td>\n",
              "    </tr>\n",
              "    <tr>\n",
              "      <th>3856</th>\n",
              "      <td>2.0</td>\n",
              "      <td>0.0</td>\n",
              "      <td>1.0</td>\n",
              "      <td>5.0</td>\n",
              "      <td>1</td>\n",
              "    </tr>\n",
              "  </tbody>\n",
              "</table>\n",
              "<p>3688 rows × 5 columns</p>\n",
              "</div>"
            ],
            "text/plain": [
              "      agent_os_new  agent_category_new  referer_new  agent_name_new  Cluster\n",
              "0     3.0           0.0                 1.0          0.0             1      \n",
              "1     3.0           0.0                 1.0          2.0             1      \n",
              "2     0.0           1.0                 187.0        0.0             0      \n",
              "3     4.0           0.0                 163.0        0.0             1      \n",
              "4     0.0           1.0                 216.0        0.0             0      \n",
              "...   ...           ...                   ...        ...            ..      \n",
              "3852  0.0           1.0                 233.0        0.0             0      \n",
              "3853  10.0          1.0                 194.0        5.0             3      \n",
              "3854  10.0          1.0                 95.0         5.0             3      \n",
              "3855  9.0           1.0                 1.0          5.0             3      \n",
              "3856  2.0           0.0                 1.0          5.0             1      \n",
              "\n",
              "[3688 rows x 5 columns]"
            ]
          },
          "metadata": {
            "tags": []
          },
          "execution_count": 229
        }
      ]
    },
    {
      "cell_type": "markdown",
      "metadata": {
        "id": "RhXry8lz5nBw"
      },
      "source": [
        "To get an impression of the clustering, we create a visualization with the method “tSNE”. t-Distributed Stochastic Neighbor Embedding (tSNE) is a technique for dimensionality reduction and is particularly well suited for the visualization of high-dimensional data sets."
      ]
    },
    {
      "cell_type": "code",
      "metadata": {
        "colab": {
          "base_uri": "https://localhost:8080/",
          "height": 592
        },
        "id": "G9hpclHQ4zXZ",
        "outputId": "71db86c9-be1e-4485-e97f-fa1078440c3b"
      },
      "source": [
        "from sklearn.manifold import TSNE\n",
        "import seaborn as sns\n",
        "\n",
        "X_embedded = TSNE(n_components=2,random_state=42).fit_transform(X)\n",
        "centers = np.array(kmeans.cluster_centers_)\n",
        "model = KMeans(n_clusters = 4, init = \"k-means++\")\n",
        "label = model.fit_predict(X_embedded)\n",
        "\n",
        "\n",
        "plt.figure(figsize=(10,10))\n",
        "uniq = np.unique(label)\n",
        "for i in uniq:\n",
        "   plt.scatter(data[label == i , 0] , data[label == i , 1] , label = i)\n",
        "#plt.scatter(centers[:,0], centers[:,1], marker=\"x\", color='k',palette=\"Set1\")\n",
        "#This is done to find the centroid for each clusters.\n",
        "plt.legend()\n",
        "plt.show()"
      ],
      "execution_count": 285,
      "outputs": [
        {
          "output_type": "display_data",
          "data": {
            "image/png": "[encoded data removed]",
            "text/plain": [
              "<Figure size 720x720 with 1 Axes>"
            ]
          },
          "metadata": {
            "tags": []
          }
        }
      ]
    },
    {
      "cell_type": "code",
      "metadata": {
        "colab": {
          "base_uri": "https://localhost:8080/",
          "height": 592
        },
        "id": "7k-3_cK3i_5u",
        "outputId": "43d07efb-2b6e-49da-f5b4-bae0b0b6c597"
      },
      "source": [
        "pca = PCA(n_components=2, random_state=42)\n",
        "data = pca.fit_transform(X)\n",
        "\n",
        "centers = np.array(kmeans.cluster_centers_)\n",
        "model = KMeans(n_clusters = 4, init = \"k-means++\")\n",
        "label = model.fit_predict(data)\n",
        "plt.figure(figsize=(10,10))\n",
        "uniq = np.unique(label)\n",
        "for i in uniq:\n",
        "   plt.scatter(data[label == i , 0] , data[label == i , 1] , label = i)\n",
        "#plt.scatter(centers[:,0], centers[:,1], marker=\"x\", color='k')\n",
        "#This is done to find the centroid for each clusters.\n",
        "plt.legend()\n",
        "plt.show()\n"
      ],
      "execution_count": 286,
      "outputs": [
        {
          "output_type": "display_data",
          "data": {
            "image/png": "[encoded data removed]",
            "text/plain": [
              "<Figure size 720x720 with 1 Axes>"
            ]
          },
          "metadata": {
            "tags": []
          }
        }
      ]
    }
  ]
}