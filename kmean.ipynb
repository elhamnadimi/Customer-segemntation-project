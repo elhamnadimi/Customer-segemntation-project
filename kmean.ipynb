{
  "nbformat": 4,
  "nbformat_minor": 0,
  "metadata": {
    "colab": {
      "name": "kmean.ipynb",
      "provenance": []
    },
    "kernelspec": {
      "name": "python3",
      "display_name": "Python 3"
    },
    "language_info": {
      "name": "python"
    }
  },
  "cells": [
    {
      "cell_type": "code",
      "metadata": {
        "colab": {
          "base_uri": "https://localhost:8080/"
        },
        "id": "LQH_MYcsqtd9",
        "outputId": "f4f2ab8b-c7ff-45de-e188-a8f5ac0bfd5a"
      },
      "source": [
        "!pip install ijson"
      ],
      "execution_count": 1,
      "outputs": [
        {
          "output_type": "stream",
          "text": [
            "Collecting ijson\n",
            "\u001b[?25l  Downloading https://files.pythonhosted.org/packages/b3/0c/e3b7bf52e23345d5f9a6a3ff6de0cad419c96491893ab60cbbe9161644a8/ijson-3.1.4-cp37-cp37m-manylinux2010_x86_64.whl (126kB)\n",
            "\r\u001b[K     |██▋                             | 10kB 18.5MB/s eta 0:00:01\r\u001b[K     |█████▏                          | 20kB 27.7MB/s eta 0:00:01\r\u001b[K     |███████▉                        | 30kB 14.1MB/s eta 0:00:01\r\u001b[K     |██████████▍                     | 40kB 10.0MB/s eta 0:00:01\r\u001b[K     |█████████████                   | 51kB 9.8MB/s eta 0:00:01\r\u001b[K     |███████████████▋                | 61kB 10.1MB/s eta 0:00:01\r\u001b[K     |██████████████████▏             | 71kB 9.1MB/s eta 0:00:01\r\u001b[K     |████████████████████▊           | 81kB 9.5MB/s eta 0:00:01\r\u001b[K     |███████████████████████▍        | 92kB 9.8MB/s eta 0:00:01\r\u001b[K     |██████████████████████████      | 102kB 9.5MB/s eta 0:00:01\r\u001b[K     |████████████████████████████▌   | 112kB 9.5MB/s eta 0:00:01\r\u001b[K     |███████████████████████████████▏| 122kB 9.5MB/s eta 0:00:01\r\u001b[K     |████████████████████████████████| 133kB 9.5MB/s \n",
            "\u001b[?25hInstalling collected packages: ijson\n",
            "Successfully installed ijson-3.1.4\n"
          ],
          "name": "stdout"
        }
      ]
    },
    {
      "cell_type": "code",
      "metadata": {
        "id": "Zq1g2CJAqpGF"
      },
      "source": [
        "import numpy as np\n",
        "import pandas as pd\n",
        "import ijson\n",
        "from pandas.io.json import json_normalize\n",
        "import seaborn as sns\n",
        "from statistics import *\n",
        "from statistics import stdev\n",
        "import pandas as pd\n",
        "import numpy as np\n",
        "import matplotlib.pyplot as plt\n",
        "import pandas as pd # working with data\n",
        "import numpy as np # working with arrays\n",
        "import matplotlib.pyplot as plt # visualization\n",
        "import seaborn as sb # visualization\n",
        "from mpl_toolkits.mplot3d import Axes3D # 3d plot\n",
        "from termcolor import colored as cl # text customization\n",
        "from sklearn.preprocessing import StandardScaler # data normalization\n",
        "from sklearn.cluster import KMeans # K-means algorithm\n",
        "plt.rcParams['figure.figsize'] = (20, 10)\n",
        "sb.set_style('whitegrid')\n"
      ],
      "execution_count": 2,
      "outputs": []
    },
    {
      "cell_type": "code",
      "metadata": {
        "colab": {
          "base_uri": "https://localhost:8080/",
          "height": 482
        },
        "id": "rAb33U-aqpIf",
        "outputId": "e04f062e-d54e-4710-8b4e-e5f983d32f66"
      },
      "source": [
        " # read in data\n",
        "import pandas as pd\n",
        "df = pd.read_json(\"test.jsonl\",\n",
        "                        lines=True,\n",
        "                        orient='columns')\n",
        "print(df.shape)\n",
        "\n",
        "df = df[df['agent_category'] != 'UNKNOWN']\n",
        "df = df[df['agent_os'] != 'UNKNOWN']\n",
        "df = df[df['referer'] != 'UNKNOWN']\n",
        "df = df[df['agent_name'] != 'UNKNOWN']\n",
        "\n",
        "\n",
        "df[:4]\n"
      ],
      "execution_count": 3,
      "outputs": [
        {
          "output_type": "stream",
          "text": [
            "(3857, 21)\n"
          ],
          "name": "stdout"
        },
        {
          "output_type": "execute_result",
          "data": {
            "text/html": [
              "<div>\n",
              "<style scoped>\n",
              "    .dataframe tbody tr th:only-of-type {\n",
              "        vertical-align: middle;\n",
              "    }\n",
              "\n",
              "    .dataframe tbody tr th {\n",
              "        vertical-align: top;\n",
              "    }\n",
              "\n",
              "    .dataframe thead th {\n",
              "        text-align: right;\n",
              "    }\n",
              "</style>\n",
              "<table border=\"1\" class=\"dataframe\">\n",
              "  <thead>\n",
              "    <tr style=\"text-align: right;\">\n",
              "      <th></th>\n",
              "      <th>remote</th>\n",
              "      <th>host</th>\n",
              "      <th>user</th>\n",
              "      <th>method</th>\n",
              "      <th>code</th>\n",
              "      <th>size</th>\n",
              "      <th>referer</th>\n",
              "      <th>http_x_forwarded_for</th>\n",
              "      <th>ua</th>\n",
              "      <th>created</th>\n",
              "      <th>agent_name</th>\n",
              "      <th>agent_category</th>\n",
              "      <th>agent_os</th>\n",
              "      <th>referer_known</th>\n",
              "      <th>uri</th>\n",
              "      <th>hostname</th>\n",
              "      <th>uri_url_hash</th>\n",
              "      <th>injected</th>\n",
              "      <th>enrich</th>\n",
              "      <th>event_tag</th>\n",
              "      <th>time</th>\n",
              "    </tr>\n",
              "  </thead>\n",
              "  <tbody>\n",
              "    <tr>\n",
              "      <th>0</th>\n",
              "      <td>62.308.59.153</td>\n",
              "      <td>-</td>\n",
              "      <td>-</td>\n",
              "      <td>GET</td>\n",
              "      <td>200</td>\n",
              "      <td>43</td>\n",
              "      <td>https://www.ecodibergamo.it/</td>\n",
              "      <td>155.380.27.200</td>\n",
              "      <td>{'browser': {'family': 'Chrome', 'version': '7...</td>\n",
              "      <td>2019-11-08T00:00:00.000000000Z</td>\n",
              "      <td>Chrome</td>\n",
              "      <td>pc</td>\n",
              "      <td>Windows 10</td>\n",
              "      <td>False</td>\n",
              "      <td>{'stm': '1573171199218', 'e': 'pv', 'url': 'ht...</td>\n",
              "      <td>7c6c8781197c</td>\n",
              "      <td>7e452fb177e15e229756b1fff4a6f5bc</td>\n",
              "      <td>{'user': {'id': 'NDc5MjkwNTAwMDBwMG95aGRmMDlzb...</td>\n",
              "      <td>{}</td>\n",
              "      <td>53248f1721ee</td>\n",
              "      <td>2019-11-08T00:00:00Z</td>\n",
              "    </tr>\n",
              "    <tr>\n",
              "      <th>1</th>\n",
              "      <td>356.6.121.291</td>\n",
              "      <td>-</td>\n",
              "      <td>-</td>\n",
              "      <td>GET</td>\n",
              "      <td>200</td>\n",
              "      <td>43</td>\n",
              "      <td>https://www.ecodibergamo.it/</td>\n",
              "      <td>224.80.19.283</td>\n",
              "      <td>{'browser': {'family': 'Firefox', 'version': '...</td>\n",
              "      <td>2019-11-08T00:00:02.000000000Z</td>\n",
              "      <td>Firefox</td>\n",
              "      <td>pc</td>\n",
              "      <td>Windows 10</td>\n",
              "      <td>False</td>\n",
              "      <td>{'stm': '1573171202942', 'e': 'pv', 'url': 'ht...</td>\n",
              "      <td>7c6c8781197c</td>\n",
              "      <td>7e452fb177e15e229756b1fff4a6f5bc</td>\n",
              "      <td>{'user': {'id': 'MjM2NzkxNjI4MTB0d2l6MWk1MXA1M...</td>\n",
              "      <td>{}</td>\n",
              "      <td>53248f1721ee</td>\n",
              "      <td>2019-11-08T00:00:02Z</td>\n",
              "    </tr>\n",
              "    <tr>\n",
              "      <th>2</th>\n",
              "      <td>130.216.19.309</td>\n",
              "      <td>-</td>\n",
              "      <td>-</td>\n",
              "      <td>GET</td>\n",
              "      <td>200</td>\n",
              "      <td>43</td>\n",
              "      <td>https://www.ecodibergamo.it/stories/bergamo-ci...</td>\n",
              "      <td>373.198.78.13</td>\n",
              "      <td>{'browser': {'family': 'Chrome', 'version': '7...</td>\n",
              "      <td>2019-11-08T00:00:02.000000000Z</td>\n",
              "      <td>Chrome</td>\n",
              "      <td>smartphone</td>\n",
              "      <td>Android</td>\n",
              "      <td>False</td>\n",
              "      <td>{'stm': '1573171290396', 'e': 'pv', 'url': 'ht...</td>\n",
              "      <td>7c6c8781197c</td>\n",
              "      <td>3555294575be3f0cf6e0e2b50e5be1e5</td>\n",
              "      <td>{'user': {'id': 'NDkyMTgwMzk1MDh2c29vdzNpOW1xd...</td>\n",
              "      <td>{'content_words_count': 602, 'description': '\n",
              "...</td>\n",
              "      <td>53248f1721ee</td>\n",
              "      <td>2019-11-08T00:00:02Z</td>\n",
              "    </tr>\n",
              "    <tr>\n",
              "      <th>3</th>\n",
              "      <td>239.337.124.291</td>\n",
              "      <td>-</td>\n",
              "      <td>-</td>\n",
              "      <td>GET</td>\n",
              "      <td>200</td>\n",
              "      <td>43</td>\n",
              "      <td>https://www.ecodibergamo.it/stories/bassa-berg...</td>\n",
              "      <td>133.81.301.216</td>\n",
              "      <td>{'browser': {'family': 'Chrome', 'version': '7...</td>\n",
              "      <td>2019-11-08T00:00:03.000000000Z</td>\n",
              "      <td>Chrome</td>\n",
              "      <td>pc</td>\n",
              "      <td>Windows 7</td>\n",
              "      <td>False</td>\n",
              "      <td>{'stm': '1573170677706', 'e': 'pv', 'url': 'ht...</td>\n",
              "      <td>7c6c8781197c</td>\n",
              "      <td>00bb3d6e2dc4de820e4f61122af37779</td>\n",
              "      <td>{'user': {'id': 'MjIzMTk0ODI3OTkyaTE0MDJzMDF0d...</td>\n",
              "      <td>{'content_words_count': 258, 'description': '\n",
              "...</td>\n",
              "      <td>53248f1721ee</td>\n",
              "      <td>2019-11-08T00:00:03Z</td>\n",
              "    </tr>\n",
              "  </tbody>\n",
              "</table>\n",
              "</div>"
            ],
            "text/plain": [
              "            remote host  ...     event_tag                  time\n",
              "0    62.308.59.153    -  ...  53248f1721ee  2019-11-08T00:00:00Z\n",
              "1    356.6.121.291    -  ...  53248f1721ee  2019-11-08T00:00:02Z\n",
              "2   130.216.19.309    -  ...  53248f1721ee  2019-11-08T00:00:02Z\n",
              "3  239.337.124.291    -  ...  53248f1721ee  2019-11-08T00:00:03Z\n",
              "\n",
              "[4 rows x 21 columns]"
            ]
          },
          "metadata": {
            "tags": []
          },
          "execution_count": 3
        }
      ]
    },
    {
      "cell_type": "code",
      "metadata": {
        "colab": {
          "base_uri": "https://localhost:8080/"
        },
        "id": "SyME-CuJs7AV",
        "outputId": "7b2a5dac-5233-4ca9-b52f-f48381edd350"
      },
      "source": [
        "print('The shape of our features is:', df.shape)\n",
        "df=df.replace(np.nan,0)"
      ],
      "execution_count": 4,
      "outputs": [
        {
          "output_type": "stream",
          "text": [
            "The shape of our features is: (3688, 21)\n"
          ],
          "name": "stdout"
        }
      ]
    },
    {
      "cell_type": "code",
      "metadata": {
        "colab": {
          "base_uri": "https://localhost:8080/"
        },
        "id": "G5VW8BxQqpK5",
        "outputId": "8288423b-d4a7-4dc3-9309-fe32689a8f59"
      },
      "source": [
        "df.isnull().sum()"
      ],
      "execution_count": 5,
      "outputs": [
        {
          "output_type": "execute_result",
          "data": {
            "text/plain": [
              "remote                  0\n",
              "host                    0\n",
              "user                    0\n",
              "method                  0\n",
              "code                    0\n",
              "size                    0\n",
              "referer                 0\n",
              "http_x_forwarded_for    0\n",
              "ua                      0\n",
              "created                 0\n",
              "agent_name              0\n",
              "agent_category          0\n",
              "agent_os                0\n",
              "referer_known           0\n",
              "uri                     0\n",
              "hostname                0\n",
              "uri_url_hash            0\n",
              "injected                0\n",
              "enrich                  0\n",
              "event_tag               0\n",
              "time                    0\n",
              "dtype: int64"
            ]
          },
          "metadata": {
            "tags": []
          },
          "execution_count": 5
        }
      ]
    },
    {
      "cell_type": "code",
      "metadata": {
        "colab": {
          "base_uri": "https://localhost:8080/",
          "height": 576
        },
        "id": "rhqpNO3qqpNU",
        "outputId": "ef242796-c40e-430d-94be-8be6e278142a"
      },
      "source": [
        "from sklearn.preprocessing import LabelEncoder, OneHotEncoder\n",
        "label_encoder = LabelEncoder()\n",
        "df1=df.copy() \n",
        "df[\"agent_os_new\"] = label_encoder.fit_transform(df[\"agent_os\"]).astype('float64')\n",
        "df[\"agent_category_new\"] = label_encoder.fit_transform(df[\"agent_category\"]).astype('float64')\n",
        "df[\"referer_new\"] = label_encoder.fit_transform(df[\"referer\"]).astype('float64')\n",
        "df[\"agent_name_new\"] = label_encoder.fit_transform(df[\"agent_name\"]).astype('float64')\n",
        "\n",
        "pd.set_option('display.max_colwidth', -1)\n",
        "\n",
        "df.head(1)"
      ],
      "execution_count": 6,
      "outputs": [
        {
          "output_type": "stream",
          "text": [
            "/usr/local/lib/python3.7/dist-packages/ipykernel_launcher.py:9: FutureWarning: Passing a negative integer is deprecated in version 1.0 and will not be supported in future version. Instead, use None to not limit the column width.\n",
            "  if __name__ == '__main__':\n"
          ],
          "name": "stderr"
        },
        {
          "output_type": "execute_result",
          "data": {
            "text/html": [
              "<div>\n",
              "<style scoped>\n",
              "    .dataframe tbody tr th:only-of-type {\n",
              "        vertical-align: middle;\n",
              "    }\n",
              "\n",
              "    .dataframe tbody tr th {\n",
              "        vertical-align: top;\n",
              "    }\n",
              "\n",
              "    .dataframe thead th {\n",
              "        text-align: right;\n",
              "    }\n",
              "</style>\n",
              "<table border=\"1\" class=\"dataframe\">\n",
              "  <thead>\n",
              "    <tr style=\"text-align: right;\">\n",
              "      <th></th>\n",
              "      <th>remote</th>\n",
              "      <th>host</th>\n",
              "      <th>user</th>\n",
              "      <th>method</th>\n",
              "      <th>code</th>\n",
              "      <th>size</th>\n",
              "      <th>referer</th>\n",
              "      <th>http_x_forwarded_for</th>\n",
              "      <th>ua</th>\n",
              "      <th>created</th>\n",
              "      <th>agent_name</th>\n",
              "      <th>agent_category</th>\n",
              "      <th>agent_os</th>\n",
              "      <th>referer_known</th>\n",
              "      <th>uri</th>\n",
              "      <th>hostname</th>\n",
              "      <th>uri_url_hash</th>\n",
              "      <th>injected</th>\n",
              "      <th>enrich</th>\n",
              "      <th>event_tag</th>\n",
              "      <th>time</th>\n",
              "      <th>agent_os_new</th>\n",
              "      <th>agent_category_new</th>\n",
              "      <th>referer_new</th>\n",
              "      <th>agent_name_new</th>\n",
              "    </tr>\n",
              "  </thead>\n",
              "  <tbody>\n",
              "    <tr>\n",
              "      <th>0</th>\n",
              "      <td>62.308.59.153</td>\n",
              "      <td>-</td>\n",
              "      <td>-</td>\n",
              "      <td>GET</td>\n",
              "      <td>200</td>\n",
              "      <td>43</td>\n",
              "      <td>https://www.ecodibergamo.it/</td>\n",
              "      <td>155.380.27.200</td>\n",
              "      <td>{'browser': {'family': 'Chrome', 'version': '78.0.3904.87', 'major_version': 78}, 'os': {'family': 'Windows', 'version': '10', 'major_version': 10}, 'device': 'Other'}</td>\n",
              "      <td>2019-11-08T00:00:00.000000000Z</td>\n",
              "      <td>Chrome</td>\n",
              "      <td>pc</td>\n",
              "      <td>Windows 10</td>\n",
              "      <td>False</td>\n",
              "      <td>{'stm': '1573171199218', 'e': 'pv', 'url': 'https://www.ecodibergamo.it/', 'page': 'L'Eco di Bergamo - Notizie di Bergamo e provincia', 'refr': 'https://www.ecodibergamo.it/', 'tv': 'js-2.11.0', 'tna': 'cf', 'aid': 'SB-de77ae02-a351-11e7-879c-28cfe91d3e21', 'p': 'web', 'tz': 'Europe/Berlin', 'lang': 'it-IT', 'cs': 'UTF-8', 'f_pdf': '1', 'f_qt': '0', 'f_realp': '0', 'f_wma': '0', 'f_dir': '0', 'f_fla': '0', 'f_java': '0', 'f_gears': '0', 'f_ag': '0', 'res': '1280x720', 'cd': '24', 'cookie': '1', 'eid': 'fee489a9-c110-42b8-b997-ab50ddb1e912', 'dtm': '1573171199215', 'vp': '1280x616', 'ds': '1263x6725', 'vid': '2', 'sid': 'a3b7e1b0-6192-46ee-8f6b-e258fc2811ab', 'duid': '0c2841a0-ea61-445e-973e-607ea1123333', 'fp': '4272995877'}</td>\n",
              "      <td>7c6c8781197c</td>\n",
              "      <td>7e452fb177e15e229756b1fff4a6f5bc</td>\n",
              "      <td>{'user': {'id': 'NDc5MjkwNTAwMDBwMG95aGRmMDlzbXN2aW10eWdtM3p0ZjBrMHl0ZTZycg==_test', 'profile': {'type': 'anonymous'}}}</td>\n",
              "      <td>{}</td>\n",
              "      <td>53248f1721ee</td>\n",
              "      <td>2019-11-08T00:00:00Z</td>\n",
              "      <td>3.0</td>\n",
              "      <td>0.0</td>\n",
              "      <td>1.0</td>\n",
              "      <td>0.0</td>\n",
              "    </tr>\n",
              "  </tbody>\n",
              "</table>\n",
              "</div>"
            ],
            "text/plain": [
              "          remote host user  ... agent_category_new  referer_new  agent_name_new\n",
              "0  62.308.59.153  -    -    ...  0.0                1.0          0.0           \n",
              "\n",
              "[1 rows x 25 columns]"
            ]
          },
          "metadata": {
            "tags": []
          },
          "execution_count": 6
        }
      ]
    },
    {
      "cell_type": "code",
      "metadata": {
        "colab": {
          "base_uri": "https://localhost:8080/"
        },
        "id": "AsMh6G56qpP8",
        "outputId": "7f6a9b7a-2372-4959-bf97-7cfc2b01ce4e"
      },
      "source": [
        "len(df['time'].unique())"
      ],
      "execution_count": 7,
      "outputs": [
        {
          "output_type": "execute_result",
          "data": {
            "text/plain": [
              "1892"
            ]
          },
          "metadata": {
            "tags": []
          },
          "execution_count": 7
        }
      ]
    },
    {
      "cell_type": "code",
      "metadata": {
        "colab": {
          "base_uri": "https://localhost:8080/"
        },
        "id": "Zy2fB3ddqpSq",
        "outputId": "186d5657-940e-4b8a-daf3-c733940e1c91"
      },
      "source": [
        "print(df['size'].unique())\n",
        "print(df['code'].unique())\n",
        "#print(df['referer'].unique())\n",
        "#print(df['ua'].unique())\n",
        "print(df['agent_name'].unique())\n",
        "print(df['agent_os'].unique())\n",
        "print(df['agent_category'].unique())\n",
        "df['month'] = pd.DatetimeIndex(df['time']).month\n",
        "df['weekday'] = pd.DatetimeIndex(df['time']).weekday\n",
        "df\n",
        "print(df['month'].unique())\n",
        "print(df['weekday'].unique())\n",
        "\n",
        "\n"
      ],
      "execution_count": 8,
      "outputs": [
        {
          "output_type": "stream",
          "text": [
            "[43]\n",
            "[200]\n",
            "['Chrome' 'Firefox' 'Edge' 'Safari' 'Opera' 'Internet Explorer' 'Webview'\n",
            " 'Yandex Browser']\n",
            "['Windows 10' 'Android' 'Windows 7' 'iPhone' 'Mac OSX' 'iPad' 'Linux'\n",
            " 'Windows XP' 'Windows Phone OS' 'Windows 8.1' 'Windows 8']\n",
            "['pc' 'smartphone']\n",
            "[11]\n",
            "[4]\n"
          ],
          "name": "stdout"
        }
      ]
    },
    {
      "cell_type": "code",
      "metadata": {
        "colab": {
          "base_uri": "https://localhost:8080/"
        },
        "id": "xQUNPyM8qpU3",
        "outputId": "7502f973-ab60-477a-c76f-e77e8fe382e8"
      },
      "source": [
        "Counts = df.agent_category.value_counts()\n",
        "print(\"-------Frequency counts for Department column-------\\n\",Counts)\n",
        "print(type(Counts))\n",
        "\n",
        "Counts = df.agent_os.value_counts()\n",
        "print(\"-------Frequency counts for Department column-------\\n\",Counts)\n",
        "print(type(Counts))"
      ],
      "execution_count": 9,
      "outputs": [
        {
          "output_type": "stream",
          "text": [
            "-------Frequency counts for Department column-------\n",
            " smartphone    2515\n",
            "pc            1173\n",
            "Name: agent_category, dtype: int64\n",
            "<class 'pandas.core.series.Series'>\n",
            "-------Frequency counts for Department column-------\n",
            " Android             1798\n",
            "Windows 10          540 \n",
            "iPhone              529 \n",
            "Windows 7           328 \n",
            "Mac OSX             226 \n",
            "iPad                175 \n",
            "Windows 8.1         44  \n",
            "Linux               19  \n",
            "Windows Phone OS    13  \n",
            "Windows XP          10  \n",
            "Windows 8           6   \n",
            "Name: agent_os, dtype: int64\n",
            "<class 'pandas.core.series.Series'>\n"
          ],
          "name": "stdout"
        }
      ]
    },
    {
      "cell_type": "code",
      "metadata": {
        "colab": {
          "base_uri": "https://localhost:8080/"
        },
        "id": "Ysylbx-GqpXY",
        "outputId": "86027c0e-2bbe-4e45-cbc3-3dcf2be2d352"
      },
      "source": [
        "my_string=\"https://www.ecodibergamo.it/stories/Cronaca/\"\n",
        "print(my_string.split(\"https://www.ecodibergamo.it/\",1)[1] )"
      ],
      "execution_count": 10,
      "outputs": [
        {
          "output_type": "stream",
          "text": [
            "stories/Cronaca/\n"
          ],
          "name": "stdout"
        }
      ]
    },
    {
      "cell_type": "code",
      "metadata": {
        "id": "LUGZxcP1rNUZ"
      },
      "source": [
        "def replace_urls(url):\n",
        "    if url == 'https://www.ecodibergamo.it/':\n",
        "        url = 'website'\n",
        "    else:\n",
        "        url = '/'.join(re.sub('https://www.ecodibergamo.it/', '', url).split('/')[:2])\n",
        "    return url"
      ],
      "execution_count": 11,
      "outputs": []
    },
    {
      "cell_type": "code",
      "metadata": {
        "id": "KKefAWvcrNW5"
      },
      "source": [
        "import re\n",
        "df['URL'] = [replace_urls(i) for i in df['referer']]"
      ],
      "execution_count": 12,
      "outputs": []
    },
    {
      "cell_type": "code",
      "metadata": {
        "id": "oTAIZ-55rNZh"
      },
      "source": [
        "df= df[[\"agent_os\",\"agent_name\",\"agent_category\",\"URL\",\"agent_os_new\",\"agent_category_new\",\"referer_new\",\"agent_name_new\"]]"
      ],
      "execution_count": 13,
      "outputs": []
    },
    {
      "cell_type": "code",
      "metadata": {
        "colab": {
          "base_uri": "https://localhost:8080/"
        },
        "id": "LCqMWhxwrNcP",
        "outputId": "19ded0a8-e83c-4eac-d9cf-cb55d29406bc"
      },
      "source": [
        "print (len(df['URL'].unique()))\n",
        "print (len(df['agent_os'].unique()))\n",
        "print ((len(df['agent_category'].unique())))\n",
        "print (len(df['agent_name'].unique()))\n"
      ],
      "execution_count": 14,
      "outputs": [
        {
          "output_type": "stream",
          "text": [
            "68\n",
            "11\n",
            "2\n",
            "8\n"
          ],
          "name": "stdout"
        }
      ]
    },
    {
      "cell_type": "code",
      "metadata": {
        "id": "qr1KlkASrm-h"
      },
      "source": [
        "XX = df [[\"agent_os_new\",\"agent_category_new\",\"referer_new\",\"agent_name_new\"]]\n",
        "\n",
        "y = df['referer_new']\n",
        "y\n",
        "cols = XX.columns"
      ],
      "execution_count": 18,
      "outputs": []
    },
    {
      "cell_type": "code",
      "metadata": {
        "colab": {
          "base_uri": "https://localhost:8080/",
          "height": 173
        },
        "id": "Ik3nucl9rZHt",
        "outputId": "f5e92080-7b9a-47f6-f8d9-66068a4057df"
      },
      "source": [
        "from sklearn.preprocessing import MinMaxScaler\n",
        "\n",
        "ms = MinMaxScaler()\n",
        "\n",
        "X = ms.fit_transform(XX)\n",
        "\n",
        "X = pd.DataFrame(X, columns=[cols])\n",
        "X[:4]"
      ],
      "execution_count": 19,
      "outputs": [
        {
          "output_type": "execute_result",
          "data": {
            "text/html": [
              "<div>\n",
              "<style scoped>\n",
              "    .dataframe tbody tr th:only-of-type {\n",
              "        vertical-align: middle;\n",
              "    }\n",
              "\n",
              "    .dataframe tbody tr th {\n",
              "        vertical-align: top;\n",
              "    }\n",
              "\n",
              "    .dataframe thead tr th {\n",
              "        text-align: left;\n",
              "    }\n",
              "</style>\n",
              "<table border=\"1\" class=\"dataframe\">\n",
              "  <thead>\n",
              "    <tr>\n",
              "      <th></th>\n",
              "      <th>agent_os_new</th>\n",
              "      <th>agent_category_new</th>\n",
              "      <th>referer_new</th>\n",
              "      <th>agent_name_new</th>\n",
              "    </tr>\n",
              "  </thead>\n",
              "  <tbody>\n",
              "    <tr>\n",
              "      <th>0</th>\n",
              "      <td>0.3</td>\n",
              "      <td>0.0</td>\n",
              "      <td>0.002817</td>\n",
              "      <td>0.000000</td>\n",
              "    </tr>\n",
              "    <tr>\n",
              "      <th>1</th>\n",
              "      <td>0.3</td>\n",
              "      <td>0.0</td>\n",
              "      <td>0.002817</td>\n",
              "      <td>0.285714</td>\n",
              "    </tr>\n",
              "    <tr>\n",
              "      <th>2</th>\n",
              "      <td>0.0</td>\n",
              "      <td>1.0</td>\n",
              "      <td>0.526761</td>\n",
              "      <td>0.000000</td>\n",
              "    </tr>\n",
              "    <tr>\n",
              "      <th>3</th>\n",
              "      <td>0.4</td>\n",
              "      <td>0.0</td>\n",
              "      <td>0.459155</td>\n",
              "      <td>0.000000</td>\n",
              "    </tr>\n",
              "  </tbody>\n",
              "</table>\n",
              "</div>"
            ],
            "text/plain": [
              "  agent_os_new agent_category_new referer_new agent_name_new\n",
              "0  0.3          0.0                0.002817    0.000000     \n",
              "1  0.3          0.0                0.002817    0.285714     \n",
              "2  0.0          1.0                0.526761    0.000000     \n",
              "3  0.4          0.0                0.459155    0.000000     "
            ]
          },
          "metadata": {
            "tags": []
          },
          "execution_count": 19
        }
      ]
    },
    {
      "cell_type": "code",
      "metadata": {
        "colab": {
          "base_uri": "https://localhost:8080/"
        },
        "id": "bFo6_Bp4rZKS",
        "outputId": "5fda7085-52cc-4a7f-c65f-23fffcf11910"
      },
      "source": [
        "#K-Means model with n clusters \n",
        "\n",
        "from sklearn.cluster import KMeans\n",
        "\n",
        "kmeans = KMeans(n_clusters=4, random_state=0) \n",
        "\n",
        "ymeans = kmeans.fit(X)\n",
        "y_kmeans = kmeans.predict(X)\n",
        "\n",
        "ymeans"
      ],
      "execution_count": 20,
      "outputs": [
        {
          "output_type": "execute_result",
          "data": {
            "text/plain": [
              "KMeans(algorithm='auto', copy_x=True, init='k-means++', max_iter=300,\n",
              "       n_clusters=4, n_init=10, n_jobs=None, precompute_distances='auto',\n",
              "       random_state=0, tol=0.0001, verbose=0)"
            ]
          },
          "metadata": {
            "tags": []
          },
          "execution_count": 20
        }
      ]
    },
    {
      "cell_type": "code",
      "metadata": {
        "colab": {
          "base_uri": "https://localhost:8080/"
        },
        "id": "nlbRIN9wgnrR",
        "outputId": "b9a05cd6-62cf-44a7-89c8-0d347c9ac4d9"
      },
      "source": [
        "y_kmeans"
      ],
      "execution_count": 21,
      "outputs": [
        {
          "output_type": "execute_result",
          "data": {
            "text/plain": [
              "array([1, 1, 0, ..., 3, 3, 1], dtype=int32)"
            ]
          },
          "metadata": {
            "tags": []
          },
          "execution_count": 21
        }
      ]
    },
    {
      "cell_type": "code",
      "metadata": {
        "colab": {
          "base_uri": "https://localhost:8080/"
        },
        "id": "jpigfBDTrZNA",
        "outputId": "60c36ca4-50e0-47f1-811f-ab89509bac72"
      },
      "source": [
        "kmeans.cluster_centers_"
      ],
      "execution_count": 22,
      "outputs": [
        {
          "output_type": "execute_result",
          "data": {
            "text/plain": [
              "array([[ 1.11464968e-03,  1.00000000e+00,  6.77240513e-01,\n",
              "         2.25887170e-01],\n",
              "       [ 3.21994885e-01, -2.04281037e-14,  7.96080833e-02,\n",
              "         1.65266106e-01],\n",
              "       [ 6.10622664e-16,  1.00000000e+00,  7.14473004e-02,\n",
              "         2.75710626e-02],\n",
              "       [ 9.70530726e-01,  1.00000000e+00,  3.13478637e-01,\n",
              "         6.94533121e-01]])"
            ]
          },
          "metadata": {
            "tags": []
          },
          "execution_count": 22
        }
      ]
    },
    {
      "cell_type": "code",
      "metadata": {
        "colab": {
          "base_uri": "https://localhost:8080/"
        },
        "id": "T7wsCKFqrZQL",
        "outputId": "5f33f421-d318-42db-b5f8-d12b562c9df8"
      },
      "source": [
        "kmeans.inertia_"
      ],
      "execution_count": 23,
      "outputs": [
        {
          "output_type": "execute_result",
          "data": {
            "text/plain": [
              "370.60679764943495"
            ]
          },
          "metadata": {
            "tags": []
          },
          "execution_count": 23
        }
      ]
    },
    {
      "cell_type": "code",
      "metadata": {
        "colab": {
          "base_uri": "https://localhost:8080/",
          "height": 404
        },
        "id": "pzPtatGavoqO",
        "outputId": "30815897-771e-4471-f8a9-e1b347f7a78c"
      },
      "source": [
        "from sklearn.cluster import KMeans\n",
        "wcss = []\n",
        "for k in range(1,11):\n",
        "    k_means = KMeans(n_clusters=k, init=\"k-means++\")\n",
        "    k_means.fit(X)\n",
        "    wcss.append(k_means.inertia_)\n",
        "plt.figure(figsize=(12,6))    \n",
        "plt.grid()\n",
        "plt.plot(range(1,11),wcss, linewidth=2, color=\"red\", marker =\"8\")\n",
        "plt.xlabel(\"K Value\")\n",
        "plt.title('The Elbow Method')\n",
        "plt.xticks(np.arange(1,11,1))\n",
        "plt.ylabel(\"WCSS\")\n",
        "plt.show()"
      ],
      "execution_count": 24,
      "outputs": [
        {
          "output_type": "display_data",
          "data": {
            "image/png": "[encoded data removed]",
            "text/plain": [
              "<Figure size 864x432 with 1 Axes>"
            ]
          },
          "metadata": {
            "tags": []
          }
        }
      ]
    },
    {
      "cell_type": "code",
      "metadata": {
        "colab": {
          "base_uri": "https://localhost:8080/"
        },
        "id": "PusomBs5DbHg",
        "outputId": "e61f748d-5141-4e10-effd-e6f0ba48eeee"
      },
      "source": [
        "labels = kmeans.labels_\n",
        "labels\n"
      ],
      "execution_count": 25,
      "outputs": [
        {
          "output_type": "execute_result",
          "data": {
            "text/plain": [
              "array([1, 1, 0, ..., 3, 3, 1], dtype=int32)"
            ]
          },
          "metadata": {
            "tags": []
          },
          "execution_count": 25
        }
      ]
    },
    {
      "cell_type": "markdown",
      "metadata": {
        "id": "7WdGDgKcwOBw"
      },
      "source": [
        "The optimal K value is found to be 5 using the elbow method.\n"
      ]
    },
    {
      "cell_type": "code",
      "metadata": {
        "colab": {
          "base_uri": "https://localhost:8080/",
          "height": 309
        },
        "id": "lbcbfr0vry3E",
        "outputId": "e0d85742-d58d-4b11-af7b-e5a4b595ee61"
      },
      "source": [
        "labels = kmeans.labels_\n",
        "df['cluster_num'] = labels\n",
        "df.head()\n",
        "\n"
      ],
      "execution_count": 26,
      "outputs": [
        {
          "output_type": "execute_result",
          "data": {
            "text/html": [
              "<div>\n",
              "<style scoped>\n",
              "    .dataframe tbody tr th:only-of-type {\n",
              "        vertical-align: middle;\n",
              "    }\n",
              "\n",
              "    .dataframe tbody tr th {\n",
              "        vertical-align: top;\n",
              "    }\n",
              "\n",
              "    .dataframe thead th {\n",
              "        text-align: right;\n",
              "    }\n",
              "</style>\n",
              "<table border=\"1\" class=\"dataframe\">\n",
              "  <thead>\n",
              "    <tr style=\"text-align: right;\">\n",
              "      <th></th>\n",
              "      <th>agent_os</th>\n",
              "      <th>agent_name</th>\n",
              "      <th>agent_category</th>\n",
              "      <th>URL</th>\n",
              "      <th>agent_os_new</th>\n",
              "      <th>agent_category_new</th>\n",
              "      <th>referer_new</th>\n",
              "      <th>agent_name_new</th>\n",
              "      <th>cluster_num</th>\n",
              "    </tr>\n",
              "  </thead>\n",
              "  <tbody>\n",
              "    <tr>\n",
              "      <th>0</th>\n",
              "      <td>Windows 10</td>\n",
              "      <td>Chrome</td>\n",
              "      <td>pc</td>\n",
              "      <td>website</td>\n",
              "      <td>3.0</td>\n",
              "      <td>0.0</td>\n",
              "      <td>1.0</td>\n",
              "      <td>0.0</td>\n",
              "      <td>1</td>\n",
              "    </tr>\n",
              "    <tr>\n",
              "      <th>1</th>\n",
              "      <td>Windows 10</td>\n",
              "      <td>Firefox</td>\n",
              "      <td>pc</td>\n",
              "      <td>website</td>\n",
              "      <td>3.0</td>\n",
              "      <td>0.0</td>\n",
              "      <td>1.0</td>\n",
              "      <td>2.0</td>\n",
              "      <td>1</td>\n",
              "    </tr>\n",
              "    <tr>\n",
              "      <th>2</th>\n",
              "      <td>Android</td>\n",
              "      <td>Chrome</td>\n",
              "      <td>smartphone</td>\n",
              "      <td>stories/bergamo-citta</td>\n",
              "      <td>0.0</td>\n",
              "      <td>1.0</td>\n",
              "      <td>187.0</td>\n",
              "      <td>0.0</td>\n",
              "      <td>0</td>\n",
              "    </tr>\n",
              "    <tr>\n",
              "      <th>3</th>\n",
              "      <td>Windows 7</td>\n",
              "      <td>Chrome</td>\n",
              "      <td>pc</td>\n",
              "      <td>stories/bassa-bergamasca</td>\n",
              "      <td>4.0</td>\n",
              "      <td>0.0</td>\n",
              "      <td>163.0</td>\n",
              "      <td>0.0</td>\n",
              "      <td>1</td>\n",
              "    </tr>\n",
              "    <tr>\n",
              "      <th>4</th>\n",
              "      <td>Android</td>\n",
              "      <td>Chrome</td>\n",
              "      <td>smartphone</td>\n",
              "      <td>stories/bergamo-citta</td>\n",
              "      <td>0.0</td>\n",
              "      <td>1.0</td>\n",
              "      <td>216.0</td>\n",
              "      <td>0.0</td>\n",
              "      <td>0</td>\n",
              "    </tr>\n",
              "  </tbody>\n",
              "</table>\n",
              "</div>"
            ],
            "text/plain": [
              "     agent_os agent_name  ... agent_name_new cluster_num\n",
              "0  Windows 10  Chrome     ...  0.0            1         \n",
              "1  Windows 10  Firefox    ...  2.0            1         \n",
              "2  Android     Chrome     ...  0.0            0         \n",
              "3  Windows 7   Chrome     ...  0.0            1         \n",
              "4  Android     Chrome     ...  0.0            0         \n",
              "\n",
              "[5 rows x 9 columns]"
            ]
          },
          "metadata": {
            "tags": []
          },
          "execution_count": 26
        }
      ]
    },
    {
      "cell_type": "code",
      "metadata": {
        "colab": {
          "base_uri": "https://localhost:8080/",
          "height": 490
        },
        "id": "HedgeF448sDi",
        "outputId": "3f16b0db-dd0c-4027-e7e5-966a12daad3e"
      },
      "source": [
        "df_ = df[df['agent_os']=='iPhone']\n",
        "df_"
      ],
      "execution_count": 27,
      "outputs": [
        {
          "output_type": "execute_result",
          "data": {
            "text/html": [
              "<div>\n",
              "<style scoped>\n",
              "    .dataframe tbody tr th:only-of-type {\n",
              "        vertical-align: middle;\n",
              "    }\n",
              "\n",
              "    .dataframe tbody tr th {\n",
              "        vertical-align: top;\n",
              "    }\n",
              "\n",
              "    .dataframe thead th {\n",
              "        text-align: right;\n",
              "    }\n",
              "</style>\n",
              "<table border=\"1\" class=\"dataframe\">\n",
              "  <thead>\n",
              "    <tr style=\"text-align: right;\">\n",
              "      <th></th>\n",
              "      <th>agent_os</th>\n",
              "      <th>agent_name</th>\n",
              "      <th>agent_category</th>\n",
              "      <th>URL</th>\n",
              "      <th>agent_os_new</th>\n",
              "      <th>agent_category_new</th>\n",
              "      <th>referer_new</th>\n",
              "      <th>agent_name_new</th>\n",
              "      <th>cluster_num</th>\n",
              "    </tr>\n",
              "  </thead>\n",
              "  <tbody>\n",
              "    <tr>\n",
              "      <th>23</th>\n",
              "      <td>iPhone</td>\n",
              "      <td>Safari</td>\n",
              "      <td>smartphone</td>\n",
              "      <td>website</td>\n",
              "      <td>10.0</td>\n",
              "      <td>1.0</td>\n",
              "      <td>1.0</td>\n",
              "      <td>5.0</td>\n",
              "      <td>3</td>\n",
              "    </tr>\n",
              "    <tr>\n",
              "      <th>46</th>\n",
              "      <td>iPhone</td>\n",
              "      <td>Safari</td>\n",
              "      <td>smartphone</td>\n",
              "      <td>stories/Isola</td>\n",
              "      <td>10.0</td>\n",
              "      <td>1.0</td>\n",
              "      <td>125.0</td>\n",
              "      <td>5.0</td>\n",
              "      <td>3</td>\n",
              "    </tr>\n",
              "    <tr>\n",
              "      <th>63</th>\n",
              "      <td>iPhone</td>\n",
              "      <td>Safari</td>\n",
              "      <td>smartphone</td>\n",
              "      <td>website</td>\n",
              "      <td>10.0</td>\n",
              "      <td>1.0</td>\n",
              "      <td>1.0</td>\n",
              "      <td>5.0</td>\n",
              "      <td>3</td>\n",
              "    </tr>\n",
              "    <tr>\n",
              "      <th>64</th>\n",
              "      <td>iPhone</td>\n",
              "      <td>Safari</td>\n",
              "      <td>smartphone</td>\n",
              "      <td>website</td>\n",
              "      <td>10.0</td>\n",
              "      <td>1.0</td>\n",
              "      <td>1.0</td>\n",
              "      <td>5.0</td>\n",
              "      <td>3</td>\n",
              "    </tr>\n",
              "    <tr>\n",
              "      <th>73</th>\n",
              "      <td>iPhone</td>\n",
              "      <td>Safari</td>\n",
              "      <td>smartphone</td>\n",
              "      <td>stories/bergamo-citta</td>\n",
              "      <td>10.0</td>\n",
              "      <td>1.0</td>\n",
              "      <td>254.0</td>\n",
              "      <td>5.0</td>\n",
              "      <td>3</td>\n",
              "    </tr>\n",
              "    <tr>\n",
              "      <th>...</th>\n",
              "      <td>...</td>\n",
              "      <td>...</td>\n",
              "      <td>...</td>\n",
              "      <td>...</td>\n",
              "      <td>...</td>\n",
              "      <td>...</td>\n",
              "      <td>...</td>\n",
              "      <td>...</td>\n",
              "      <td>...</td>\n",
              "    </tr>\n",
              "    <tr>\n",
              "      <th>3824</th>\n",
              "      <td>iPhone</td>\n",
              "      <td>Safari</td>\n",
              "      <td>smartphone</td>\n",
              "      <td>website</td>\n",
              "      <td>10.0</td>\n",
              "      <td>1.0</td>\n",
              "      <td>1.0</td>\n",
              "      <td>5.0</td>\n",
              "      <td>3</td>\n",
              "    </tr>\n",
              "    <tr>\n",
              "      <th>3825</th>\n",
              "      <td>iPhone</td>\n",
              "      <td>Safari</td>\n",
              "      <td>smartphone</td>\n",
              "      <td>website</td>\n",
              "      <td>10.0</td>\n",
              "      <td>1.0</td>\n",
              "      <td>1.0</td>\n",
              "      <td>5.0</td>\n",
              "      <td>3</td>\n",
              "    </tr>\n",
              "    <tr>\n",
              "      <th>3847</th>\n",
              "      <td>iPhone</td>\n",
              "      <td>Webview</td>\n",
              "      <td>smartphone</td>\n",
              "      <td>stories/bergamo-citta</td>\n",
              "      <td>10.0</td>\n",
              "      <td>1.0</td>\n",
              "      <td>178.0</td>\n",
              "      <td>6.0</td>\n",
              "      <td>3</td>\n",
              "    </tr>\n",
              "    <tr>\n",
              "      <th>3853</th>\n",
              "      <td>iPhone</td>\n",
              "      <td>Safari</td>\n",
              "      <td>smartphone</td>\n",
              "      <td>stories/bergamo-citta</td>\n",
              "      <td>10.0</td>\n",
              "      <td>1.0</td>\n",
              "      <td>194.0</td>\n",
              "      <td>5.0</td>\n",
              "      <td>3</td>\n",
              "    </tr>\n",
              "    <tr>\n",
              "      <th>3854</th>\n",
              "      <td>iPhone</td>\n",
              "      <td>Safari</td>\n",
              "      <td>smartphone</td>\n",
              "      <td>stories/Cronaca</td>\n",
              "      <td>10.0</td>\n",
              "      <td>1.0</td>\n",
              "      <td>95.0</td>\n",
              "      <td>5.0</td>\n",
              "      <td>3</td>\n",
              "    </tr>\n",
              "  </tbody>\n",
              "</table>\n",
              "<p>529 rows × 9 columns</p>\n",
              "</div>"
            ],
            "text/plain": [
              "     agent_os agent_name  ... agent_name_new cluster_num\n",
              "23    iPhone   Safari     ...  5.0            3         \n",
              "46    iPhone   Safari     ...  5.0            3         \n",
              "63    iPhone   Safari     ...  5.0            3         \n",
              "64    iPhone   Safari     ...  5.0            3         \n",
              "73    iPhone   Safari     ...  5.0            3         \n",
              "...      ...      ...     ...  ...           ..         \n",
              "3824  iPhone   Safari     ...  5.0            3         \n",
              "3825  iPhone   Safari     ...  5.0            3         \n",
              "3847  iPhone   Webview    ...  6.0            3         \n",
              "3853  iPhone   Safari     ...  5.0            3         \n",
              "3854  iPhone   Safari     ...  5.0            3         \n",
              "\n",
              "[529 rows x 9 columns]"
            ]
          },
          "metadata": {
            "tags": []
          },
          "execution_count": 27
        }
      ]
    },
    {
      "cell_type": "code",
      "metadata": {
        "colab": {
          "base_uri": "https://localhost:8080/",
          "height": 204
        },
        "id": "nHKYBzDiry8C",
        "outputId": "37eeb91a-33b8-423e-8728-0c839e2347a2"
      },
      "source": [
        "df.groupby('cluster_num').mean()"
      ],
      "execution_count": 28,
      "outputs": [
        {
          "output_type": "execute_result",
          "data": {
            "text/html": [
              "<div>\n",
              "<style scoped>\n",
              "    .dataframe tbody tr th:only-of-type {\n",
              "        vertical-align: middle;\n",
              "    }\n",
              "\n",
              "    .dataframe tbody tr th {\n",
              "        vertical-align: top;\n",
              "    }\n",
              "\n",
              "    .dataframe thead th {\n",
              "        text-align: right;\n",
              "    }\n",
              "</style>\n",
              "<table border=\"1\" class=\"dataframe\">\n",
              "  <thead>\n",
              "    <tr style=\"text-align: right;\">\n",
              "      <th></th>\n",
              "      <th>agent_os_new</th>\n",
              "      <th>agent_category_new</th>\n",
              "      <th>referer_new</th>\n",
              "      <th>agent_name_new</th>\n",
              "    </tr>\n",
              "    <tr>\n",
              "      <th>cluster_num</th>\n",
              "      <th></th>\n",
              "      <th></th>\n",
              "      <th></th>\n",
              "      <th></th>\n",
              "    </tr>\n",
              "  </thead>\n",
              "  <tbody>\n",
              "    <tr>\n",
              "      <th>0</th>\n",
              "      <td>0.011146</td>\n",
              "      <td>1.0</td>\n",
              "      <td>240.420382</td>\n",
              "      <td>1.581210</td>\n",
              "    </tr>\n",
              "    <tr>\n",
              "      <th>1</th>\n",
              "      <td>3.219949</td>\n",
              "      <td>0.0</td>\n",
              "      <td>28.260870</td>\n",
              "      <td>1.156863</td>\n",
              "    </tr>\n",
              "    <tr>\n",
              "      <th>2</th>\n",
              "      <td>0.000000</td>\n",
              "      <td>1.0</td>\n",
              "      <td>25.363792</td>\n",
              "      <td>0.192997</td>\n",
              "    </tr>\n",
              "    <tr>\n",
              "      <th>3</th>\n",
              "      <td>9.705307</td>\n",
              "      <td>1.0</td>\n",
              "      <td>111.284916</td>\n",
              "      <td>4.861732</td>\n",
              "    </tr>\n",
              "  </tbody>\n",
              "</table>\n",
              "</div>"
            ],
            "text/plain": [
              "             agent_os_new  agent_category_new  referer_new  agent_name_new\n",
              "cluster_num                                                               \n",
              "0            0.011146      1.0                 240.420382   1.581210      \n",
              "1            3.219949      0.0                 28.260870    1.156863      \n",
              "2            0.000000      1.0                 25.363792    0.192997      \n",
              "3            9.705307      1.0                 111.284916   4.861732      "
            ]
          },
          "metadata": {
            "tags": []
          },
          "execution_count": 28
        }
      ]
    },
    {
      "cell_type": "code",
      "metadata": {
        "colab": {
          "base_uri": "https://localhost:8080/"
        },
        "id": "7WXwKA5jrzNE",
        "outputId": "1604f807-26ac-408e-8f52-09f4ba1d77d9"
      },
      "source": [
        "df['agent_os'].apply(str)\n",
        "df['agent_category'].apply(str)\n",
        "df['URL'].apply(str)"
      ],
      "execution_count": 29,
      "outputs": [
        {
          "output_type": "execute_result",
          "data": {
            "text/plain": [
              "0       website                 \n",
              "1       website                 \n",
              "2       stories/bergamo-citta   \n",
              "3       stories/bassa-bergamasca\n",
              "4       stories/bergamo-citta   \n",
              "                ...             \n",
              "3852    stories/bergamo-citta   \n",
              "3853    stories/bergamo-citta   \n",
              "3854    stories/Cronaca         \n",
              "3855    website                 \n",
              "3856    website                 \n",
              "Name: URL, Length: 3688, dtype: object"
            ]
          },
          "metadata": {
            "tags": []
          },
          "execution_count": 29
        }
      ]
    },
    {
      "cell_type": "code",
      "metadata": {
        "colab": {
          "base_uri": "https://localhost:8080/",
          "height": 631
        },
        "id": "tZUcwQIcrzRt",
        "outputId": "b2cddc1f-c492-4105-8a35-59c30a14198b"
      },
      "source": [
        "print(cl(df['agent_os_new'].describe(), attrs = ['bold']))\n",
        "\n",
        "sb.distplot(df['agent_os_new'], \n",
        "            color = 'orange')\n",
        "plt.title('agent_os_new DISTRIBUTION', \n",
        "          fontsize = 18)\n",
        "plt.xlabel('agent_os_new', \n",
        "           fontsize = 16)\n",
        "plt.ylabel('Frequency', \n",
        "           fontsize = 16)\n",
        "plt.xticks(fontsize = 14)\n",
        "plt.yticks(fontsize = 14)\n",
        "\n",
        "plt.savefig('agent_os_new_distribution.png')\n",
        "plt.show()"
      ],
      "execution_count": 30,
      "outputs": [
        {
          "output_type": "stream",
          "text": [
            "\u001b[1mcount    3688.000000\n",
            "mean     2.910249   \n",
            "std      3.678174   \n",
            "min      0.000000   \n",
            "25%      0.000000   \n",
            "50%      2.000000   \n",
            "75%      4.000000   \n",
            "max      10.000000  \n",
            "Name: agent_os_new, dtype: float64\u001b[0m\n"
          ],
          "name": "stdout"
        },
        {
          "output_type": "stream",
          "text": [
            "/usr/local/lib/python3.7/dist-packages/seaborn/distributions.py:2557: FutureWarning: `distplot` is a deprecated function and will be removed in a future version. Please adapt your code to use either `displot` (a figure-level function with similar flexibility) or `histplot` (an axes-level function for histograms).\n",
            "  warnings.warn(msg, FutureWarning)\n"
          ],
          "name": "stderr"
        },
        {
          "output_type": "display_data",
          "data": {
            "image/png": "[encoded data removed]",
            "text/plain": [
              "<Figure size 1440x720 with 1 Axes>"
            ]
          },
          "metadata": {
            "tags": []
          }
        }
      ]
    },
    {
      "cell_type": "code",
      "metadata": {
        "colab": {
          "base_uri": "https://localhost:8080/",
          "height": 635
        },
        "id": "SEF8h7XwrZTc",
        "outputId": "4346ff45-9740-47f4-f77b-7e44a93f971f"
      },
      "source": [
        "print(cl(df['agent_category_new'].describe(), attrs = ['bold']))\n",
        "\n",
        "sb.distplot(df['agent_category_new'], \n",
        "            color = 'orange')\n",
        "plt.title('agent_category DISTRIBUTION', \n",
        "          fontsize = 18)\n",
        "plt.xlabel('agent_category', \n",
        "           fontsize = 16)\n",
        "plt.ylabel('Frequency', \n",
        "           fontsize = 16)\n",
        "plt.xticks(fontsize = 14)\n",
        "plt.yticks(fontsize = 14)\n",
        "\n",
        "plt.savefig('agent_category_distribution.png')\n",
        "plt.show()"
      ],
      "execution_count": 31,
      "outputs": [
        {
          "output_type": "stream",
          "text": [
            "\u001b[1mcount    3688.000000\n",
            "mean     0.681941   \n",
            "std      0.465786   \n",
            "min      0.000000   \n",
            "25%      0.000000   \n",
            "50%      1.000000   \n",
            "75%      1.000000   \n",
            "max      1.000000   \n",
            "Name: agent_category_new, dtype: float64\u001b[0m\n"
          ],
          "name": "stdout"
        },
        {
          "output_type": "stream",
          "text": [
            "/usr/local/lib/python3.7/dist-packages/seaborn/distributions.py:2557: FutureWarning: `distplot` is a deprecated function and will be removed in a future version. Please adapt your code to use either `displot` (a figure-level function with similar flexibility) or `histplot` (an axes-level function for histograms).\n",
            "  warnings.warn(msg, FutureWarning)\n"
          ],
          "name": "stderr"
        },
        {
          "output_type": "display_data",
          "data": {
            "image/png": "[encoded data removed]",
            "text/plain": [
              "<Figure size 1440x720 with 1 Axes>"
            ]
          },
          "metadata": {
            "tags": []
          }
        }
      ]
    },
    {
      "cell_type": "code",
      "metadata": {
        "colab": {
          "base_uri": "https://localhost:8080/",
          "height": 624
        },
        "id": "QBgPHgS7tN8m",
        "outputId": "0be04282-2cc0-46a0-fc47-0967753f6854"
      },
      "source": [
        "print(cl(df['referer_new'].describe(), attrs = ['bold']))\n",
        "\n",
        "sb.distplot(df['referer_new'], \n",
        "            color = 'orange')\n",
        "plt.title('URL DISTRIBUTION', \n",
        "          fontsize = 18)\n",
        "plt.xlabel('URL', \n",
        "           fontsize = 16)\n",
        "plt.ylabel('Frequency', \n",
        "           fontsize = 16)\n",
        "plt.xticks(fontsize = 14)\n",
        "plt.yticks(fontsize = 14)\n",
        "\n",
        "plt.savefig('URL_distribution.png')\n",
        "plt.show()"
      ],
      "execution_count": 32,
      "outputs": [
        {
          "output_type": "stream",
          "text": [
            "\u001b[1mcount    3688.000000\n",
            "mean     79.586497  \n",
            "std      110.198647 \n",
            "min      0.000000   \n",
            "25%      1.000000   \n",
            "50%      1.000000   \n",
            "75%      163.000000 \n",
            "max      355.000000 \n",
            "Name: referer_new, dtype: float64\u001b[0m\n"
          ],
          "name": "stdout"
        },
        {
          "output_type": "stream",
          "text": [
            "/usr/local/lib/python3.7/dist-packages/seaborn/distributions.py:2557: FutureWarning: `distplot` is a deprecated function and will be removed in a future version. Please adapt your code to use either `displot` (a figure-level function with similar flexibility) or `histplot` (an axes-level function for histograms).\n",
            "  warnings.warn(msg, FutureWarning)\n"
          ],
          "name": "stderr"
        },
        {
          "output_type": "display_data",
          "data": {
            "image/png": "[encoded data removed]",
            "text/plain": [
              "<Figure size 1440x720 with 1 Axes>"
            ]
          },
          "metadata": {
            "tags": []
          }
        }
      ]
    },
    {
      "cell_type": "code",
      "metadata": {
        "colab": {
          "base_uri": "https://localhost:8080/"
        },
        "id": "tFsLGZqAPxTp",
        "outputId": "6670f93a-2209-498c-bc24-4fae3ec9e2b1"
      },
      "source": [
        "p= df.agent_os_new[df.cluster_num == 0]\n",
        "p[:30]\n",
        "df.agent_os[df.cluster_num == 0].apply(str)"
      ],
      "execution_count": 33,
      "outputs": [
        {
          "output_type": "execute_result",
          "data": {
            "text/plain": [
              "2       Android\n",
              "4       Android\n",
              "12      Android\n",
              "21      Android\n",
              "24      Android\n",
              "         ...   \n",
              "3837    Android\n",
              "3838    Android\n",
              "3839    Android\n",
              "3849    Android\n",
              "3852    Android\n",
              "Name: agent_os, Length: 628, dtype: object"
            ]
          },
          "metadata": {
            "tags": []
          },
          "execution_count": 33
        }
      ]
    },
    {
      "cell_type": "code",
      "metadata": {
        "colab": {
          "base_uri": "https://localhost:8080/",
          "height": 309
        },
        "id": "shKZYdnvK09j",
        "outputId": "6851d598-0bce-4825-d6eb-67e24168d39b"
      },
      "source": [
        "df.head()"
      ],
      "execution_count": 34,
      "outputs": [
        {
          "output_type": "execute_result",
          "data": {
            "text/html": [
              "<div>\n",
              "<style scoped>\n",
              "    .dataframe tbody tr th:only-of-type {\n",
              "        vertical-align: middle;\n",
              "    }\n",
              "\n",
              "    .dataframe tbody tr th {\n",
              "        vertical-align: top;\n",
              "    }\n",
              "\n",
              "    .dataframe thead th {\n",
              "        text-align: right;\n",
              "    }\n",
              "</style>\n",
              "<table border=\"1\" class=\"dataframe\">\n",
              "  <thead>\n",
              "    <tr style=\"text-align: right;\">\n",
              "      <th></th>\n",
              "      <th>agent_os</th>\n",
              "      <th>agent_name</th>\n",
              "      <th>agent_category</th>\n",
              "      <th>URL</th>\n",
              "      <th>agent_os_new</th>\n",
              "      <th>agent_category_new</th>\n",
              "      <th>referer_new</th>\n",
              "      <th>agent_name_new</th>\n",
              "      <th>cluster_num</th>\n",
              "    </tr>\n",
              "  </thead>\n",
              "  <tbody>\n",
              "    <tr>\n",
              "      <th>0</th>\n",
              "      <td>Windows 10</td>\n",
              "      <td>Chrome</td>\n",
              "      <td>pc</td>\n",
              "      <td>website</td>\n",
              "      <td>3.0</td>\n",
              "      <td>0.0</td>\n",
              "      <td>1.0</td>\n",
              "      <td>0.0</td>\n",
              "      <td>1</td>\n",
              "    </tr>\n",
              "    <tr>\n",
              "      <th>1</th>\n",
              "      <td>Windows 10</td>\n",
              "      <td>Firefox</td>\n",
              "      <td>pc</td>\n",
              "      <td>website</td>\n",
              "      <td>3.0</td>\n",
              "      <td>0.0</td>\n",
              "      <td>1.0</td>\n",
              "      <td>2.0</td>\n",
              "      <td>1</td>\n",
              "    </tr>\n",
              "    <tr>\n",
              "      <th>2</th>\n",
              "      <td>Android</td>\n",
              "      <td>Chrome</td>\n",
              "      <td>smartphone</td>\n",
              "      <td>stories/bergamo-citta</td>\n",
              "      <td>0.0</td>\n",
              "      <td>1.0</td>\n",
              "      <td>187.0</td>\n",
              "      <td>0.0</td>\n",
              "      <td>0</td>\n",
              "    </tr>\n",
              "    <tr>\n",
              "      <th>3</th>\n",
              "      <td>Windows 7</td>\n",
              "      <td>Chrome</td>\n",
              "      <td>pc</td>\n",
              "      <td>stories/bassa-bergamasca</td>\n",
              "      <td>4.0</td>\n",
              "      <td>0.0</td>\n",
              "      <td>163.0</td>\n",
              "      <td>0.0</td>\n",
              "      <td>1</td>\n",
              "    </tr>\n",
              "    <tr>\n",
              "      <th>4</th>\n",
              "      <td>Android</td>\n",
              "      <td>Chrome</td>\n",
              "      <td>smartphone</td>\n",
              "      <td>stories/bergamo-citta</td>\n",
              "      <td>0.0</td>\n",
              "      <td>1.0</td>\n",
              "      <td>216.0</td>\n",
              "      <td>0.0</td>\n",
              "      <td>0</td>\n",
              "    </tr>\n",
              "  </tbody>\n",
              "</table>\n",
              "</div>"
            ],
            "text/plain": [
              "     agent_os agent_name  ... agent_name_new cluster_num\n",
              "0  Windows 10  Chrome     ...  0.0            1         \n",
              "1  Windows 10  Firefox    ...  2.0            1         \n",
              "2  Android     Chrome     ...  0.0            0         \n",
              "3  Windows 7   Chrome     ...  0.0            1         \n",
              "4  Android     Chrome     ...  0.0            0         \n",
              "\n",
              "[5 rows x 9 columns]"
            ]
          },
          "metadata": {
            "tags": []
          },
          "execution_count": 34
        }
      ]
    },
    {
      "cell_type": "code",
      "metadata": {
        "colab": {
          "base_uri": "https://localhost:8080/",
          "height": 446
        },
        "id": "iE_PEGJcwUKK",
        "outputId": "8e0ef6d1-9d92-4c51-b1e4-e823b74e733b"
      },
      "source": [
        "km = KMeans(n_clusters=4)\n",
        "clusters = km.fit_predict(X)\n",
        "df[\"label\"] = clusters\n",
        "\n",
        "from mpl_toolkits.mplot3d import Axes3D\n",
        "import matplotlib.pyplot as plt\n",
        "import numpy as np\n",
        "import pandas as pd\n",
        " \n",
        "fig = plt.figure(1)\n",
        "plt.clf()\n",
        "ax = Axes3D(fig, \n",
        "            rect = [0, 0, .95, 1], \n",
        "            elev = 48, \n",
        "            azim = 134)\n",
        "\n",
        "ax.scatter(df.agent_os_new[df.label == 0], df[\"agent_category_new\"][df.label == 0], df[\"referer_new\"][df.label == 0], c='blue', s=60, alpha = 0.5)\n",
        "ax.scatter(df.agent_os_new[df.label == 1], df[\"agent_category_new\"][df.label == 1], df[\"referer_new\"][df.label == 1], c='red', s=60)\n",
        "ax.scatter(df.agent_os_new[df.label == 2], df[\"agent_category_new\"][df.label == 2], df[\"referer_new\"][df.label == 2], c='yellow', s=60)\n",
        "ax.scatter(df.agent_os_new[df.label == 3], df[\"agent_category_new\"][df.label == 3], df[\"referer_new\"][df.label == 3], c='orange', s=60)\n",
        "ax.scatter(df.agent_os_new[df.label == 4], df[\"agent_category_new\"][df.label == 4], df[\"referer_new\"][df.label == 4], c='purple', s=60)\n",
        "ax.view_init(30, 185)\n",
        "\n",
        "plt.xlabel(\"agent_os\", size = 25)\n",
        "plt.ylabel(\"agent_category\", size = 25)\n",
        "ax.set_zlabel('URL', size = 25)\n",
        "plt.legend()\n",
        "ax.set_title('Spatial Representation of Segments', size=30)\n",
        "plt.show()"
      ],
      "execution_count": 35,
      "outputs": [
        {
          "output_type": "stream",
          "text": [
            "No handles with labels found to put in legend.\n"
          ],
          "name": "stderr"
        },
        {
          "output_type": "display_data",
          "data": {
            "image/png": "[encoded data removed]",
            "text/plain": [
              "<Figure size 1440x720 with 1 Axes>"
            ]
          },
          "metadata": {
            "tags": []
          }
        }
      ]
    },
    {
      "cell_type": "code",
      "metadata": {
        "colab": {
          "base_uri": "https://localhost:8080/",
          "height": 419
        },
        "id": "6dFRykziXBRD",
        "outputId": "4c7f6d80-ea75-4489-a411-b85c51f19ea8"
      },
      "source": [
        "df_new = XX.assign(Cluster =labels)\n",
        "df_new"
      ],
      "execution_count": 36,
      "outputs": [
        {
          "output_type": "execute_result",
          "data": {
            "text/html": [
              "<div>\n",
              "<style scoped>\n",
              "    .dataframe tbody tr th:only-of-type {\n",
              "        vertical-align: middle;\n",
              "    }\n",
              "\n",
              "    .dataframe tbody tr th {\n",
              "        vertical-align: top;\n",
              "    }\n",
              "\n",
              "    .dataframe thead th {\n",
              "        text-align: right;\n",
              "    }\n",
              "</style>\n",
              "<table border=\"1\" class=\"dataframe\">\n",
              "  <thead>\n",
              "    <tr style=\"text-align: right;\">\n",
              "      <th></th>\n",
              "      <th>agent_os_new</th>\n",
              "      <th>agent_category_new</th>\n",
              "      <th>referer_new</th>\n",
              "      <th>agent_name_new</th>\n",
              "      <th>Cluster</th>\n",
              "    </tr>\n",
              "  </thead>\n",
              "  <tbody>\n",
              "    <tr>\n",
              "      <th>0</th>\n",
              "      <td>3.0</td>\n",
              "      <td>0.0</td>\n",
              "      <td>1.0</td>\n",
              "      <td>0.0</td>\n",
              "      <td>1</td>\n",
              "    </tr>\n",
              "    <tr>\n",
              "      <th>1</th>\n",
              "      <td>3.0</td>\n",
              "      <td>0.0</td>\n",
              "      <td>1.0</td>\n",
              "      <td>2.0</td>\n",
              "      <td>1</td>\n",
              "    </tr>\n",
              "    <tr>\n",
              "      <th>2</th>\n",
              "      <td>0.0</td>\n",
              "      <td>1.0</td>\n",
              "      <td>187.0</td>\n",
              "      <td>0.0</td>\n",
              "      <td>0</td>\n",
              "    </tr>\n",
              "    <tr>\n",
              "      <th>3</th>\n",
              "      <td>4.0</td>\n",
              "      <td>0.0</td>\n",
              "      <td>163.0</td>\n",
              "      <td>0.0</td>\n",
              "      <td>1</td>\n",
              "    </tr>\n",
              "    <tr>\n",
              "      <th>4</th>\n",
              "      <td>0.0</td>\n",
              "      <td>1.0</td>\n",
              "      <td>216.0</td>\n",
              "      <td>0.0</td>\n",
              "      <td>0</td>\n",
              "    </tr>\n",
              "    <tr>\n",
              "      <th>...</th>\n",
              "      <td>...</td>\n",
              "      <td>...</td>\n",
              "      <td>...</td>\n",
              "      <td>...</td>\n",
              "      <td>...</td>\n",
              "    </tr>\n",
              "    <tr>\n",
              "      <th>3852</th>\n",
              "      <td>0.0</td>\n",
              "      <td>1.0</td>\n",
              "      <td>233.0</td>\n",
              "      <td>0.0</td>\n",
              "      <td>0</td>\n",
              "    </tr>\n",
              "    <tr>\n",
              "      <th>3853</th>\n",
              "      <td>10.0</td>\n",
              "      <td>1.0</td>\n",
              "      <td>194.0</td>\n",
              "      <td>5.0</td>\n",
              "      <td>3</td>\n",
              "    </tr>\n",
              "    <tr>\n",
              "      <th>3854</th>\n",
              "      <td>10.0</td>\n",
              "      <td>1.0</td>\n",
              "      <td>95.0</td>\n",
              "      <td>5.0</td>\n",
              "      <td>3</td>\n",
              "    </tr>\n",
              "    <tr>\n",
              "      <th>3855</th>\n",
              "      <td>9.0</td>\n",
              "      <td>1.0</td>\n",
              "      <td>1.0</td>\n",
              "      <td>5.0</td>\n",
              "      <td>3</td>\n",
              "    </tr>\n",
              "    <tr>\n",
              "      <th>3856</th>\n",
              "      <td>2.0</td>\n",
              "      <td>0.0</td>\n",
              "      <td>1.0</td>\n",
              "      <td>5.0</td>\n",
              "      <td>1</td>\n",
              "    </tr>\n",
              "  </tbody>\n",
              "</table>\n",
              "<p>3688 rows × 5 columns</p>\n",
              "</div>"
            ],
            "text/plain": [
              "      agent_os_new  agent_category_new  referer_new  agent_name_new  Cluster\n",
              "0     3.0           0.0                 1.0          0.0             1      \n",
              "1     3.0           0.0                 1.0          2.0             1      \n",
              "2     0.0           1.0                 187.0        0.0             0      \n",
              "3     4.0           0.0                 163.0        0.0             1      \n",
              "4     0.0           1.0                 216.0        0.0             0      \n",
              "...   ...           ...                   ...        ...            ..      \n",
              "3852  0.0           1.0                 233.0        0.0             0      \n",
              "3853  10.0          1.0                 194.0        5.0             3      \n",
              "3854  10.0          1.0                 95.0         5.0             3      \n",
              "3855  9.0           1.0                 1.0          5.0             3      \n",
              "3856  2.0           0.0                 1.0          5.0             1      \n",
              "\n",
              "[3688 rows x 5 columns]"
            ]
          },
          "metadata": {
            "tags": []
          },
          "execution_count": 36
        }
      ]
    },
    {
      "cell_type": "markdown",
      "metadata": {
        "id": "RhXry8lz5nBw"
      },
      "source": [
        "To get an impression of the clustering, we create a visualization with the method “tSNE”. t-Distributed Stochastic Neighbor Embedding (tSNE) is a technique for dimensionality reduction and is particularly well suited for the visualization of high-dimensional data sets."
      ]
    },
    {
      "cell_type": "code",
      "metadata": {
        "colab": {
          "base_uri": "https://localhost:8080/",
          "height": 336
        },
        "id": "G9hpclHQ4zXZ",
        "outputId": "ffaa1a7f-c9e4-4897-99de-ec6dcfecbf8e"
      },
      "source": [
        "from sklearn.manifold import TSNE\n",
        "import seaborn as sns\n",
        "marker = ['o', 's', '*', '^']\n",
        "col = ['#37AB65', '#3DF735', '#AD6D70', '#8C0B90']\n",
        "Label = [\"group 1\",\"group 2\",\"group 3\",\"group 4\" ]\n",
        "\n",
        "X_embedded = TSNE(n_components=2,random_state=42).fit_transform(X)\n",
        "centers = np.array(kmeans.cluster_centers_)\n",
        "model = KMeans(n_clusters = 4, init = \"k-means++\")\n",
        "label = model.fit_predict(X_embedded)\n",
        "plt.figure(figsize=(5,5))\n",
        "\n",
        "uniq = np.unique(label)\n",
        "for i,j,m,n in zip(uniq,marker,col,Label,):\n",
        "   plt.scatter(X_embedded[label == i , 0] , X_embedded[label == i , 1] ,marker = j,color = m, label = n,s =40)\n",
        "#plt.scatter(centers[:,0], centers[:,1], marker=\"x\", color='k',palette=\"Set1\")\n",
        "#This is done to find the centroid for each clusters.\n",
        "plt.legend()\n",
        "plt.title(\"PLOT DATA_ TSNE\")\n",
        "\n",
        "plt.show()"
      ],
      "execution_count": 39,
      "outputs": [
        {
          "output_type": "display_data",
          "data": {
            "image/png": "[encoded data removed]",
            "text/plain": [
              "<Figure size 360x360 with 1 Axes>"
            ]
          },
          "metadata": {
            "tags": []
          }
        }
      ]
    },
    {
      "cell_type": "code",
      "metadata": {
        "colab": {
          "base_uri": "https://localhost:8080/",
          "height": 336
        },
        "id": "7k-3_cK3i_5u",
        "outputId": "034e712b-b5bf-450c-d8f5-642931eb2604"
      },
      "source": [
        "from sklearn.decomposition import PCA\n",
        "\n",
        "pca = PCA(n_components=2, random_state=42)\n",
        "data = pca.fit_transform(X)\n",
        "marker = ['o', 's', '*', '^']\n",
        "col = ['#37AB65', '#3DF735', '#AD6D70', '#8C0B90'] \n",
        "Label = [\"group 1\",\"group 2\",\"group 3\",\"group 4\" ]\n",
        "centers = np.array(kmeans.cluster_centers_)\n",
        "model = KMeans(n_clusters = 4, init = \"k-means++\")\n",
        "label = model.fit_predict(data)\n",
        "plt.figure(figsize=(5,5))\n",
        "uniq = np.unique(label)\n",
        "for i,j,m,n in zip(uniq,marker,col,Label,):\n",
        "   plt.scatter(data[label == i , 0] , data[label == i , 1] ,marker = j,color = m, label = n,s =40)\n",
        "#plt.scatter(centers[:,0], centers[:,1], marker=\"x\", color='k')\n",
        "#This is done to find the centroid for each clusters.\n",
        "plt.legend()\n",
        "plt.title(\"PLOT DATA_ PCA\")\n",
        "plt.show()\n"
      ],
      "execution_count": 40,
      "outputs": [
        {
          "output_type": "display_data",
          "data": {
            "image/png": "[encoded data removed]",
            "text/plain": [
              "<Figure size 360x360 with 1 Axes>"
            ]
          },
          "metadata": {
            "tags": []
          }
        }
      ]
    }
  ]
}